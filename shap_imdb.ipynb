{
  "nbformat": 4,
  "nbformat_minor": 0,
  "metadata": {
    "colab": {
      "name": "shap_imdb.ipynb",
      "provenance": [],
      "collapsed_sections": [],
      "include_colab_link": true
    },
    "kernelspec": {
      "name": "python3",
      "display_name": "Python 3"
    },
    "language_info": {
      "name": "python"
    },
    "accelerator": "GPU",
    "widgets": {
      "application/vnd.jupyter.widget-state+json": {
        "835b0d070fca464db9e197d4a3e88bf7": {
          "model_module": "@jupyter-widgets/controls",
          "model_name": "HBoxModel",
          "state": {
            "_view_name": "HBoxView",
            "_dom_classes": [],
            "_model_name": "HBoxModel",
            "_view_module": "@jupyter-widgets/controls",
            "_model_module_version": "1.5.0",
            "_view_count": null,
            "_view_module_version": "1.5.0",
            "box_style": "",
            "layout": "IPY_MODEL_e8fbf0209cf041be94d31e4a74a148fd",
            "_model_module": "@jupyter-widgets/controls",
            "children": [
              "IPY_MODEL_76315fb194e142e881f22eec7268810c",
              "IPY_MODEL_405534efbffd4282976c9626e9cc0588"
            ]
          }
        },
        "e8fbf0209cf041be94d31e4a74a148fd": {
          "model_module": "@jupyter-widgets/base",
          "model_name": "LayoutModel",
          "state": {
            "_view_name": "LayoutView",
            "grid_template_rows": null,
            "right": null,
            "justify_content": null,
            "_view_module": "@jupyter-widgets/base",
            "overflow": null,
            "_model_module_version": "1.2.0",
            "_view_count": null,
            "flex_flow": null,
            "width": null,
            "min_width": null,
            "border": null,
            "align_items": null,
            "bottom": null,
            "_model_module": "@jupyter-widgets/base",
            "top": null,
            "grid_column": null,
            "overflow_y": null,
            "overflow_x": null,
            "grid_auto_flow": null,
            "grid_area": null,
            "grid_template_columns": null,
            "flex": null,
            "_model_name": "LayoutModel",
            "justify_items": null,
            "grid_row": null,
            "max_height": null,
            "align_content": null,
            "visibility": null,
            "align_self": null,
            "height": null,
            "min_height": null,
            "padding": null,
            "grid_auto_rows": null,
            "grid_gap": null,
            "max_width": null,
            "order": null,
            "_view_module_version": "1.2.0",
            "grid_template_areas": null,
            "object_position": null,
            "object_fit": null,
            "grid_auto_columns": null,
            "margin": null,
            "display": null,
            "left": null
          }
        },
        "76315fb194e142e881f22eec7268810c": {
          "model_module": "@jupyter-widgets/controls",
          "model_name": "FloatProgressModel",
          "state": {
            "_view_name": "ProgressView",
            "style": "IPY_MODEL_8a119fa151444dd2b87e29845ea6ffca",
            "_dom_classes": [],
            "description": "Downloading: ",
            "_model_name": "FloatProgressModel",
            "bar_style": "success",
            "max": 1916,
            "_view_module": "@jupyter-widgets/controls",
            "_model_module_version": "1.5.0",
            "value": 1916,
            "_view_count": null,
            "_view_module_version": "1.5.0",
            "orientation": "horizontal",
            "min": 0,
            "description_tooltip": null,
            "_model_module": "@jupyter-widgets/controls",
            "layout": "IPY_MODEL_5b6ade4f18c643cf91830dc62ac1f576"
          }
        },
        "405534efbffd4282976c9626e9cc0588": {
          "model_module": "@jupyter-widgets/controls",
          "model_name": "HTMLModel",
          "state": {
            "_view_name": "HTMLView",
            "style": "IPY_MODEL_0780e5573cc04b5a81d8e7861b603213",
            "_dom_classes": [],
            "description": "",
            "_model_name": "HTMLModel",
            "placeholder": "​",
            "_view_module": "@jupyter-widgets/controls",
            "_model_module_version": "1.5.0",
            "value": " 4.75k/? [00:10&lt;00:00, 433B/s]",
            "_view_count": null,
            "_view_module_version": "1.5.0",
            "description_tooltip": null,
            "_model_module": "@jupyter-widgets/controls",
            "layout": "IPY_MODEL_7a35e024c6bb430bbae5e03a29887edd"
          }
        },
        "8a119fa151444dd2b87e29845ea6ffca": {
          "model_module": "@jupyter-widgets/controls",
          "model_name": "ProgressStyleModel",
          "state": {
            "_view_name": "StyleView",
            "_model_name": "ProgressStyleModel",
            "description_width": "initial",
            "_view_module": "@jupyter-widgets/base",
            "_model_module_version": "1.5.0",
            "_view_count": null,
            "_view_module_version": "1.2.0",
            "bar_color": null,
            "_model_module": "@jupyter-widgets/controls"
          }
        },
        "5b6ade4f18c643cf91830dc62ac1f576": {
          "model_module": "@jupyter-widgets/base",
          "model_name": "LayoutModel",
          "state": {
            "_view_name": "LayoutView",
            "grid_template_rows": null,
            "right": null,
            "justify_content": null,
            "_view_module": "@jupyter-widgets/base",
            "overflow": null,
            "_model_module_version": "1.2.0",
            "_view_count": null,
            "flex_flow": null,
            "width": null,
            "min_width": null,
            "border": null,
            "align_items": null,
            "bottom": null,
            "_model_module": "@jupyter-widgets/base",
            "top": null,
            "grid_column": null,
            "overflow_y": null,
            "overflow_x": null,
            "grid_auto_flow": null,
            "grid_area": null,
            "grid_template_columns": null,
            "flex": null,
            "_model_name": "LayoutModel",
            "justify_items": null,
            "grid_row": null,
            "max_height": null,
            "align_content": null,
            "visibility": null,
            "align_self": null,
            "height": null,
            "min_height": null,
            "padding": null,
            "grid_auto_rows": null,
            "grid_gap": null,
            "max_width": null,
            "order": null,
            "_view_module_version": "1.2.0",
            "grid_template_areas": null,
            "object_position": null,
            "object_fit": null,
            "grid_auto_columns": null,
            "margin": null,
            "display": null,
            "left": null
          }
        },
        "0780e5573cc04b5a81d8e7861b603213": {
          "model_module": "@jupyter-widgets/controls",
          "model_name": "DescriptionStyleModel",
          "state": {
            "_view_name": "StyleView",
            "_model_name": "DescriptionStyleModel",
            "description_width": "",
            "_view_module": "@jupyter-widgets/base",
            "_model_module_version": "1.5.0",
            "_view_count": null,
            "_view_module_version": "1.2.0",
            "_model_module": "@jupyter-widgets/controls"
          }
        },
        "7a35e024c6bb430bbae5e03a29887edd": {
          "model_module": "@jupyter-widgets/base",
          "model_name": "LayoutModel",
          "state": {
            "_view_name": "LayoutView",
            "grid_template_rows": null,
            "right": null,
            "justify_content": null,
            "_view_module": "@jupyter-widgets/base",
            "overflow": null,
            "_model_module_version": "1.2.0",
            "_view_count": null,
            "flex_flow": null,
            "width": null,
            "min_width": null,
            "border": null,
            "align_items": null,
            "bottom": null,
            "_model_module": "@jupyter-widgets/base",
            "top": null,
            "grid_column": null,
            "overflow_y": null,
            "overflow_x": null,
            "grid_auto_flow": null,
            "grid_area": null,
            "grid_template_columns": null,
            "flex": null,
            "_model_name": "LayoutModel",
            "justify_items": null,
            "grid_row": null,
            "max_height": null,
            "align_content": null,
            "visibility": null,
            "align_self": null,
            "height": null,
            "min_height": null,
            "padding": null,
            "grid_auto_rows": null,
            "grid_gap": null,
            "max_width": null,
            "order": null,
            "_view_module_version": "1.2.0",
            "grid_template_areas": null,
            "object_position": null,
            "object_fit": null,
            "grid_auto_columns": null,
            "margin": null,
            "display": null,
            "left": null
          }
        },
        "5bc3cacde52e497893c8f4119439747d": {
          "model_module": "@jupyter-widgets/controls",
          "model_name": "HBoxModel",
          "state": {
            "_view_name": "HBoxView",
            "_dom_classes": [],
            "_model_name": "HBoxModel",
            "_view_module": "@jupyter-widgets/controls",
            "_model_module_version": "1.5.0",
            "_view_count": null,
            "_view_module_version": "1.5.0",
            "box_style": "",
            "layout": "IPY_MODEL_422171d916fa4229b55e88e56d21c183",
            "_model_module": "@jupyter-widgets/controls",
            "children": [
              "IPY_MODEL_8d0506da012a402cbd4f27843862fe07",
              "IPY_MODEL_81602da7f1854a3ab65e46a215b98a76"
            ]
          }
        },
        "422171d916fa4229b55e88e56d21c183": {
          "model_module": "@jupyter-widgets/base",
          "model_name": "LayoutModel",
          "state": {
            "_view_name": "LayoutView",
            "grid_template_rows": null,
            "right": null,
            "justify_content": null,
            "_view_module": "@jupyter-widgets/base",
            "overflow": null,
            "_model_module_version": "1.2.0",
            "_view_count": null,
            "flex_flow": null,
            "width": null,
            "min_width": null,
            "border": null,
            "align_items": null,
            "bottom": null,
            "_model_module": "@jupyter-widgets/base",
            "top": null,
            "grid_column": null,
            "overflow_y": null,
            "overflow_x": null,
            "grid_auto_flow": null,
            "grid_area": null,
            "grid_template_columns": null,
            "flex": null,
            "_model_name": "LayoutModel",
            "justify_items": null,
            "grid_row": null,
            "max_height": null,
            "align_content": null,
            "visibility": null,
            "align_self": null,
            "height": null,
            "min_height": null,
            "padding": null,
            "grid_auto_rows": null,
            "grid_gap": null,
            "max_width": null,
            "order": null,
            "_view_module_version": "1.2.0",
            "grid_template_areas": null,
            "object_position": null,
            "object_fit": null,
            "grid_auto_columns": null,
            "margin": null,
            "display": null,
            "left": null
          }
        },
        "8d0506da012a402cbd4f27843862fe07": {
          "model_module": "@jupyter-widgets/controls",
          "model_name": "FloatProgressModel",
          "state": {
            "_view_name": "ProgressView",
            "style": "IPY_MODEL_7d0b859668024d1a849431f4952579f5",
            "_dom_classes": [],
            "description": "Downloading: ",
            "_model_name": "FloatProgressModel",
            "bar_style": "success",
            "max": 1054,
            "_view_module": "@jupyter-widgets/controls",
            "_model_module_version": "1.5.0",
            "value": 1054,
            "_view_count": null,
            "_view_module_version": "1.5.0",
            "orientation": "horizontal",
            "min": 0,
            "description_tooltip": null,
            "_model_module": "@jupyter-widgets/controls",
            "layout": "IPY_MODEL_fee7059593f14d92b914048063681450"
          }
        },
        "81602da7f1854a3ab65e46a215b98a76": {
          "model_module": "@jupyter-widgets/controls",
          "model_name": "HTMLModel",
          "state": {
            "_view_name": "HTMLView",
            "style": "IPY_MODEL_67ceac60308045808694d2a1ef215af4",
            "_dom_classes": [],
            "description": "",
            "_model_name": "HTMLModel",
            "placeholder": "​",
            "_view_module": "@jupyter-widgets/controls",
            "_model_module_version": "1.5.0",
            "value": " 2.17k/? [00:00&lt;00:00, 30.9kB/s]",
            "_view_count": null,
            "_view_module_version": "1.5.0",
            "description_tooltip": null,
            "_model_module": "@jupyter-widgets/controls",
            "layout": "IPY_MODEL_f687580a0ee0466e8a65f91708529c54"
          }
        },
        "7d0b859668024d1a849431f4952579f5": {
          "model_module": "@jupyter-widgets/controls",
          "model_name": "ProgressStyleModel",
          "state": {
            "_view_name": "StyleView",
            "_model_name": "ProgressStyleModel",
            "description_width": "initial",
            "_view_module": "@jupyter-widgets/base",
            "_model_module_version": "1.5.0",
            "_view_count": null,
            "_view_module_version": "1.2.0",
            "bar_color": null,
            "_model_module": "@jupyter-widgets/controls"
          }
        },
        "fee7059593f14d92b914048063681450": {
          "model_module": "@jupyter-widgets/base",
          "model_name": "LayoutModel",
          "state": {
            "_view_name": "LayoutView",
            "grid_template_rows": null,
            "right": null,
            "justify_content": null,
            "_view_module": "@jupyter-widgets/base",
            "overflow": null,
            "_model_module_version": "1.2.0",
            "_view_count": null,
            "flex_flow": null,
            "width": null,
            "min_width": null,
            "border": null,
            "align_items": null,
            "bottom": null,
            "_model_module": "@jupyter-widgets/base",
            "top": null,
            "grid_column": null,
            "overflow_y": null,
            "overflow_x": null,
            "grid_auto_flow": null,
            "grid_area": null,
            "grid_template_columns": null,
            "flex": null,
            "_model_name": "LayoutModel",
            "justify_items": null,
            "grid_row": null,
            "max_height": null,
            "align_content": null,
            "visibility": null,
            "align_self": null,
            "height": null,
            "min_height": null,
            "padding": null,
            "grid_auto_rows": null,
            "grid_gap": null,
            "max_width": null,
            "order": null,
            "_view_module_version": "1.2.0",
            "grid_template_areas": null,
            "object_position": null,
            "object_fit": null,
            "grid_auto_columns": null,
            "margin": null,
            "display": null,
            "left": null
          }
        },
        "67ceac60308045808694d2a1ef215af4": {
          "model_module": "@jupyter-widgets/controls",
          "model_name": "DescriptionStyleModel",
          "state": {
            "_view_name": "StyleView",
            "_model_name": "DescriptionStyleModel",
            "description_width": "",
            "_view_module": "@jupyter-widgets/base",
            "_model_module_version": "1.5.0",
            "_view_count": null,
            "_view_module_version": "1.2.0",
            "_model_module": "@jupyter-widgets/controls"
          }
        },
        "f687580a0ee0466e8a65f91708529c54": {
          "model_module": "@jupyter-widgets/base",
          "model_name": "LayoutModel",
          "state": {
            "_view_name": "LayoutView",
            "grid_template_rows": null,
            "right": null,
            "justify_content": null,
            "_view_module": "@jupyter-widgets/base",
            "overflow": null,
            "_model_module_version": "1.2.0",
            "_view_count": null,
            "flex_flow": null,
            "width": null,
            "min_width": null,
            "border": null,
            "align_items": null,
            "bottom": null,
            "_model_module": "@jupyter-widgets/base",
            "top": null,
            "grid_column": null,
            "overflow_y": null,
            "overflow_x": null,
            "grid_auto_flow": null,
            "grid_area": null,
            "grid_template_columns": null,
            "flex": null,
            "_model_name": "LayoutModel",
            "justify_items": null,
            "grid_row": null,
            "max_height": null,
            "align_content": null,
            "visibility": null,
            "align_self": null,
            "height": null,
            "min_height": null,
            "padding": null,
            "grid_auto_rows": null,
            "grid_gap": null,
            "max_width": null,
            "order": null,
            "_view_module_version": "1.2.0",
            "grid_template_areas": null,
            "object_position": null,
            "object_fit": null,
            "grid_auto_columns": null,
            "margin": null,
            "display": null,
            "left": null
          }
        },
        "401122e0da6b4c42b166d9d85ae6db55": {
          "model_module": "@jupyter-widgets/controls",
          "model_name": "HBoxModel",
          "state": {
            "_view_name": "HBoxView",
            "_dom_classes": [],
            "_model_name": "HBoxModel",
            "_view_module": "@jupyter-widgets/controls",
            "_model_module_version": "1.5.0",
            "_view_count": null,
            "_view_module_version": "1.5.0",
            "box_style": "",
            "layout": "IPY_MODEL_1c41822712764ca9894a86d8a5fd6659",
            "_model_module": "@jupyter-widgets/controls",
            "children": [
              "IPY_MODEL_e454fe1291ff4c0fae861578f999ac19",
              "IPY_MODEL_d7fd8cfa859a4ec3bee1a50214862f53"
            ]
          }
        },
        "1c41822712764ca9894a86d8a5fd6659": {
          "model_module": "@jupyter-widgets/base",
          "model_name": "LayoutModel",
          "state": {
            "_view_name": "LayoutView",
            "grid_template_rows": null,
            "right": null,
            "justify_content": null,
            "_view_module": "@jupyter-widgets/base",
            "overflow": null,
            "_model_module_version": "1.2.0",
            "_view_count": null,
            "flex_flow": null,
            "width": null,
            "min_width": null,
            "border": null,
            "align_items": null,
            "bottom": null,
            "_model_module": "@jupyter-widgets/base",
            "top": null,
            "grid_column": null,
            "overflow_y": null,
            "overflow_x": null,
            "grid_auto_flow": null,
            "grid_area": null,
            "grid_template_columns": null,
            "flex": null,
            "_model_name": "LayoutModel",
            "justify_items": null,
            "grid_row": null,
            "max_height": null,
            "align_content": null,
            "visibility": null,
            "align_self": null,
            "height": null,
            "min_height": null,
            "padding": null,
            "grid_auto_rows": null,
            "grid_gap": null,
            "max_width": null,
            "order": null,
            "_view_module_version": "1.2.0",
            "grid_template_areas": null,
            "object_position": null,
            "object_fit": null,
            "grid_auto_columns": null,
            "margin": null,
            "display": null,
            "left": null
          }
        },
        "e454fe1291ff4c0fae861578f999ac19": {
          "model_module": "@jupyter-widgets/controls",
          "model_name": "FloatProgressModel",
          "state": {
            "_view_name": "ProgressView",
            "style": "IPY_MODEL_e9055f35b5654101b9b6d34a5ac1da5c",
            "_dom_classes": [],
            "description": "Downloading: 100%",
            "_model_name": "FloatProgressModel",
            "bar_style": "success",
            "max": 84125825,
            "_view_module": "@jupyter-widgets/controls",
            "_model_module_version": "1.5.0",
            "value": 84125825,
            "_view_count": null,
            "_view_module_version": "1.5.0",
            "orientation": "horizontal",
            "min": 0,
            "description_tooltip": null,
            "_model_module": "@jupyter-widgets/controls",
            "layout": "IPY_MODEL_f286a2983cae413594c9ca34cb4945ce"
          }
        },
        "d7fd8cfa859a4ec3bee1a50214862f53": {
          "model_module": "@jupyter-widgets/controls",
          "model_name": "HTMLModel",
          "state": {
            "_view_name": "HTMLView",
            "style": "IPY_MODEL_06195178bb6a432ca394347f80e15ebb",
            "_dom_classes": [],
            "description": "",
            "_model_name": "HTMLModel",
            "placeholder": "​",
            "_view_module": "@jupyter-widgets/controls",
            "_model_module_version": "1.5.0",
            "value": " 84.1M/84.1M [00:09&lt;00:00, 8.59MB/s]",
            "_view_count": null,
            "_view_module_version": "1.5.0",
            "description_tooltip": null,
            "_model_module": "@jupyter-widgets/controls",
            "layout": "IPY_MODEL_3ec76175d0d748f89a67940779c8b826"
          }
        },
        "e9055f35b5654101b9b6d34a5ac1da5c": {
          "model_module": "@jupyter-widgets/controls",
          "model_name": "ProgressStyleModel",
          "state": {
            "_view_name": "StyleView",
            "_model_name": "ProgressStyleModel",
            "description_width": "initial",
            "_view_module": "@jupyter-widgets/base",
            "_model_module_version": "1.5.0",
            "_view_count": null,
            "_view_module_version": "1.2.0",
            "bar_color": null,
            "_model_module": "@jupyter-widgets/controls"
          }
        },
        "f286a2983cae413594c9ca34cb4945ce": {
          "model_module": "@jupyter-widgets/base",
          "model_name": "LayoutModel",
          "state": {
            "_view_name": "LayoutView",
            "grid_template_rows": null,
            "right": null,
            "justify_content": null,
            "_view_module": "@jupyter-widgets/base",
            "overflow": null,
            "_model_module_version": "1.2.0",
            "_view_count": null,
            "flex_flow": null,
            "width": null,
            "min_width": null,
            "border": null,
            "align_items": null,
            "bottom": null,
            "_model_module": "@jupyter-widgets/base",
            "top": null,
            "grid_column": null,
            "overflow_y": null,
            "overflow_x": null,
            "grid_auto_flow": null,
            "grid_area": null,
            "grid_template_columns": null,
            "flex": null,
            "_model_name": "LayoutModel",
            "justify_items": null,
            "grid_row": null,
            "max_height": null,
            "align_content": null,
            "visibility": null,
            "align_self": null,
            "height": null,
            "min_height": null,
            "padding": null,
            "grid_auto_rows": null,
            "grid_gap": null,
            "max_width": null,
            "order": null,
            "_view_module_version": "1.2.0",
            "grid_template_areas": null,
            "object_position": null,
            "object_fit": null,
            "grid_auto_columns": null,
            "margin": null,
            "display": null,
            "left": null
          }
        },
        "06195178bb6a432ca394347f80e15ebb": {
          "model_module": "@jupyter-widgets/controls",
          "model_name": "DescriptionStyleModel",
          "state": {
            "_view_name": "StyleView",
            "_model_name": "DescriptionStyleModel",
            "description_width": "",
            "_view_module": "@jupyter-widgets/base",
            "_model_module_version": "1.5.0",
            "_view_count": null,
            "_view_module_version": "1.2.0",
            "_model_module": "@jupyter-widgets/controls"
          }
        },
        "3ec76175d0d748f89a67940779c8b826": {
          "model_module": "@jupyter-widgets/base",
          "model_name": "LayoutModel",
          "state": {
            "_view_name": "LayoutView",
            "grid_template_rows": null,
            "right": null,
            "justify_content": null,
            "_view_module": "@jupyter-widgets/base",
            "overflow": null,
            "_model_module_version": "1.2.0",
            "_view_count": null,
            "flex_flow": null,
            "width": null,
            "min_width": null,
            "border": null,
            "align_items": null,
            "bottom": null,
            "_model_module": "@jupyter-widgets/base",
            "top": null,
            "grid_column": null,
            "overflow_y": null,
            "overflow_x": null,
            "grid_auto_flow": null,
            "grid_area": null,
            "grid_template_columns": null,
            "flex": null,
            "_model_name": "LayoutModel",
            "justify_items": null,
            "grid_row": null,
            "max_height": null,
            "align_content": null,
            "visibility": null,
            "align_self": null,
            "height": null,
            "min_height": null,
            "padding": null,
            "grid_auto_rows": null,
            "grid_gap": null,
            "max_width": null,
            "order": null,
            "_view_module_version": "1.2.0",
            "grid_template_areas": null,
            "object_position": null,
            "object_fit": null,
            "grid_auto_columns": null,
            "margin": null,
            "display": null,
            "left": null
          }
        },
        "71d723a0206b4f9cb9d4b93356cbc40a": {
          "model_module": "@jupyter-widgets/controls",
          "model_name": "HBoxModel",
          "state": {
            "_view_name": "HBoxView",
            "_dom_classes": [],
            "_model_name": "HBoxModel",
            "_view_module": "@jupyter-widgets/controls",
            "_model_module_version": "1.5.0",
            "_view_count": null,
            "_view_module_version": "1.5.0",
            "box_style": "",
            "layout": "IPY_MODEL_d231b419e132407ea98a758249d9e446",
            "_model_module": "@jupyter-widgets/controls",
            "children": [
              "IPY_MODEL_8a0bdb2c1c744f2e8ba9d8125b4aaf19",
              "IPY_MODEL_e69bec0eb74f4dcca0fe1d00c8afb4c1"
            ]
          }
        },
        "d231b419e132407ea98a758249d9e446": {
          "model_module": "@jupyter-widgets/base",
          "model_name": "LayoutModel",
          "state": {
            "_view_name": "LayoutView",
            "grid_template_rows": null,
            "right": null,
            "justify_content": null,
            "_view_module": "@jupyter-widgets/base",
            "overflow": null,
            "_model_module_version": "1.2.0",
            "_view_count": null,
            "flex_flow": null,
            "width": null,
            "min_width": null,
            "border": null,
            "align_items": null,
            "bottom": null,
            "_model_module": "@jupyter-widgets/base",
            "top": null,
            "grid_column": null,
            "overflow_y": null,
            "overflow_x": null,
            "grid_auto_flow": null,
            "grid_area": null,
            "grid_template_columns": null,
            "flex": null,
            "_model_name": "LayoutModel",
            "justify_items": null,
            "grid_row": null,
            "max_height": null,
            "align_content": null,
            "visibility": null,
            "align_self": null,
            "height": null,
            "min_height": null,
            "padding": null,
            "grid_auto_rows": null,
            "grid_gap": null,
            "max_width": null,
            "order": null,
            "_view_module_version": "1.2.0",
            "grid_template_areas": null,
            "object_position": null,
            "object_fit": null,
            "grid_auto_columns": null,
            "margin": null,
            "display": null,
            "left": null
          }
        },
        "8a0bdb2c1c744f2e8ba9d8125b4aaf19": {
          "model_module": "@jupyter-widgets/controls",
          "model_name": "FloatProgressModel",
          "state": {
            "_view_name": "ProgressView",
            "style": "IPY_MODEL_6319dab053e947dea95c649d27dda892",
            "_dom_classes": [],
            "description": "",
            "_model_name": "FloatProgressModel",
            "bar_style": "info",
            "max": 1,
            "_view_module": "@jupyter-widgets/controls",
            "_model_module_version": "1.5.0",
            "value": 1,
            "_view_count": null,
            "_view_module_version": "1.5.0",
            "orientation": "horizontal",
            "min": 0,
            "description_tooltip": null,
            "_model_module": "@jupyter-widgets/controls",
            "layout": "IPY_MODEL_ad692b4c5b9042e1a10aa4d149b76d99"
          }
        },
        "e69bec0eb74f4dcca0fe1d00c8afb4c1": {
          "model_module": "@jupyter-widgets/controls",
          "model_name": "HTMLModel",
          "state": {
            "_view_name": "HTMLView",
            "style": "IPY_MODEL_31a0fb820f044fdeb743a40fea89b79e",
            "_dom_classes": [],
            "description": "",
            "_model_name": "HTMLModel",
            "placeholder": "​",
            "_view_module": "@jupyter-widgets/controls",
            "_model_module_version": "1.5.0",
            "value": " 25000/0 [00:02&lt;00:00, 10889.02 examples/s]",
            "_view_count": null,
            "_view_module_version": "1.5.0",
            "description_tooltip": null,
            "_model_module": "@jupyter-widgets/controls",
            "layout": "IPY_MODEL_b4f84b6018254adeb09de78ec4f08c30"
          }
        },
        "6319dab053e947dea95c649d27dda892": {
          "model_module": "@jupyter-widgets/controls",
          "model_name": "ProgressStyleModel",
          "state": {
            "_view_name": "StyleView",
            "_model_name": "ProgressStyleModel",
            "description_width": "initial",
            "_view_module": "@jupyter-widgets/base",
            "_model_module_version": "1.5.0",
            "_view_count": null,
            "_view_module_version": "1.2.0",
            "bar_color": null,
            "_model_module": "@jupyter-widgets/controls"
          }
        },
        "ad692b4c5b9042e1a10aa4d149b76d99": {
          "model_module": "@jupyter-widgets/base",
          "model_name": "LayoutModel",
          "state": {
            "_view_name": "LayoutView",
            "grid_template_rows": null,
            "right": null,
            "justify_content": null,
            "_view_module": "@jupyter-widgets/base",
            "overflow": null,
            "_model_module_version": "1.2.0",
            "_view_count": null,
            "flex_flow": null,
            "width": null,
            "min_width": null,
            "border": null,
            "align_items": null,
            "bottom": null,
            "_model_module": "@jupyter-widgets/base",
            "top": null,
            "grid_column": null,
            "overflow_y": null,
            "overflow_x": null,
            "grid_auto_flow": null,
            "grid_area": null,
            "grid_template_columns": null,
            "flex": null,
            "_model_name": "LayoutModel",
            "justify_items": null,
            "grid_row": null,
            "max_height": null,
            "align_content": null,
            "visibility": null,
            "align_self": null,
            "height": null,
            "min_height": null,
            "padding": null,
            "grid_auto_rows": null,
            "grid_gap": null,
            "max_width": null,
            "order": null,
            "_view_module_version": "1.2.0",
            "grid_template_areas": null,
            "object_position": null,
            "object_fit": null,
            "grid_auto_columns": null,
            "margin": null,
            "display": null,
            "left": null
          }
        },
        "31a0fb820f044fdeb743a40fea89b79e": {
          "model_module": "@jupyter-widgets/controls",
          "model_name": "DescriptionStyleModel",
          "state": {
            "_view_name": "StyleView",
            "_model_name": "DescriptionStyleModel",
            "description_width": "",
            "_view_module": "@jupyter-widgets/base",
            "_model_module_version": "1.5.0",
            "_view_count": null,
            "_view_module_version": "1.2.0",
            "_model_module": "@jupyter-widgets/controls"
          }
        },
        "b4f84b6018254adeb09de78ec4f08c30": {
          "model_module": "@jupyter-widgets/base",
          "model_name": "LayoutModel",
          "state": {
            "_view_name": "LayoutView",
            "grid_template_rows": null,
            "right": null,
            "justify_content": null,
            "_view_module": "@jupyter-widgets/base",
            "overflow": null,
            "_model_module_version": "1.2.0",
            "_view_count": null,
            "flex_flow": null,
            "width": null,
            "min_width": null,
            "border": null,
            "align_items": null,
            "bottom": null,
            "_model_module": "@jupyter-widgets/base",
            "top": null,
            "grid_column": null,
            "overflow_y": null,
            "overflow_x": null,
            "grid_auto_flow": null,
            "grid_area": null,
            "grid_template_columns": null,
            "flex": null,
            "_model_name": "LayoutModel",
            "justify_items": null,
            "grid_row": null,
            "max_height": null,
            "align_content": null,
            "visibility": null,
            "align_self": null,
            "height": null,
            "min_height": null,
            "padding": null,
            "grid_auto_rows": null,
            "grid_gap": null,
            "max_width": null,
            "order": null,
            "_view_module_version": "1.2.0",
            "grid_template_areas": null,
            "object_position": null,
            "object_fit": null,
            "grid_auto_columns": null,
            "margin": null,
            "display": null,
            "left": null
          }
        },
        "a5deedd7347c46f8a10496ace5f487f6": {
          "model_module": "@jupyter-widgets/controls",
          "model_name": "HBoxModel",
          "state": {
            "_view_name": "HBoxView",
            "_dom_classes": [],
            "_model_name": "HBoxModel",
            "_view_module": "@jupyter-widgets/controls",
            "_model_module_version": "1.5.0",
            "_view_count": null,
            "_view_module_version": "1.5.0",
            "box_style": "",
            "layout": "IPY_MODEL_79f96205cc55431381a9c0dce6a2a650",
            "_model_module": "@jupyter-widgets/controls",
            "children": [
              "IPY_MODEL_75e01173308443f581840dfd4adff450",
              "IPY_MODEL_ef89356c23b447a08d1d805f7a0deb3a"
            ]
          }
        },
        "79f96205cc55431381a9c0dce6a2a650": {
          "model_module": "@jupyter-widgets/base",
          "model_name": "LayoutModel",
          "state": {
            "_view_name": "LayoutView",
            "grid_template_rows": null,
            "right": null,
            "justify_content": null,
            "_view_module": "@jupyter-widgets/base",
            "overflow": null,
            "_model_module_version": "1.2.0",
            "_view_count": null,
            "flex_flow": null,
            "width": null,
            "min_width": null,
            "border": null,
            "align_items": null,
            "bottom": null,
            "_model_module": "@jupyter-widgets/base",
            "top": null,
            "grid_column": null,
            "overflow_y": null,
            "overflow_x": null,
            "grid_auto_flow": null,
            "grid_area": null,
            "grid_template_columns": null,
            "flex": null,
            "_model_name": "LayoutModel",
            "justify_items": null,
            "grid_row": null,
            "max_height": null,
            "align_content": null,
            "visibility": null,
            "align_self": null,
            "height": null,
            "min_height": null,
            "padding": null,
            "grid_auto_rows": null,
            "grid_gap": null,
            "max_width": null,
            "order": null,
            "_view_module_version": "1.2.0",
            "grid_template_areas": null,
            "object_position": null,
            "object_fit": null,
            "grid_auto_columns": null,
            "margin": null,
            "display": null,
            "left": null
          }
        },
        "75e01173308443f581840dfd4adff450": {
          "model_module": "@jupyter-widgets/controls",
          "model_name": "FloatProgressModel",
          "state": {
            "_view_name": "ProgressView",
            "style": "IPY_MODEL_c53d2fc2c4114a8599fb304efbe6915b",
            "_dom_classes": [],
            "description": "",
            "_model_name": "FloatProgressModel",
            "bar_style": "info",
            "max": 1,
            "_view_module": "@jupyter-widgets/controls",
            "_model_module_version": "1.5.0",
            "value": 1,
            "_view_count": null,
            "_view_module_version": "1.5.0",
            "orientation": "horizontal",
            "min": 0,
            "description_tooltip": null,
            "_model_module": "@jupyter-widgets/controls",
            "layout": "IPY_MODEL_ae862e9b45c04496973dd1879600ed1d"
          }
        },
        "ef89356c23b447a08d1d805f7a0deb3a": {
          "model_module": "@jupyter-widgets/controls",
          "model_name": "HTMLModel",
          "state": {
            "_view_name": "HTMLView",
            "style": "IPY_MODEL_0bbef5bf59bd424ab2f77fa6bf77488e",
            "_dom_classes": [],
            "description": "",
            "_model_name": "HTMLModel",
            "placeholder": "​",
            "_view_module": "@jupyter-widgets/controls",
            "_model_module_version": "1.5.0",
            "value": " 25000/0 [00:02&lt;00:00, 8576.59 examples/s]",
            "_view_count": null,
            "_view_module_version": "1.5.0",
            "description_tooltip": null,
            "_model_module": "@jupyter-widgets/controls",
            "layout": "IPY_MODEL_8419f9a3f2af4e17964c33599d9f2851"
          }
        },
        "c53d2fc2c4114a8599fb304efbe6915b": {
          "model_module": "@jupyter-widgets/controls",
          "model_name": "ProgressStyleModel",
          "state": {
            "_view_name": "StyleView",
            "_model_name": "ProgressStyleModel",
            "description_width": "initial",
            "_view_module": "@jupyter-widgets/base",
            "_model_module_version": "1.5.0",
            "_view_count": null,
            "_view_module_version": "1.2.0",
            "bar_color": null,
            "_model_module": "@jupyter-widgets/controls"
          }
        },
        "ae862e9b45c04496973dd1879600ed1d": {
          "model_module": "@jupyter-widgets/base",
          "model_name": "LayoutModel",
          "state": {
            "_view_name": "LayoutView",
            "grid_template_rows": null,
            "right": null,
            "justify_content": null,
            "_view_module": "@jupyter-widgets/base",
            "overflow": null,
            "_model_module_version": "1.2.0",
            "_view_count": null,
            "flex_flow": null,
            "width": null,
            "min_width": null,
            "border": null,
            "align_items": null,
            "bottom": null,
            "_model_module": "@jupyter-widgets/base",
            "top": null,
            "grid_column": null,
            "overflow_y": null,
            "overflow_x": null,
            "grid_auto_flow": null,
            "grid_area": null,
            "grid_template_columns": null,
            "flex": null,
            "_model_name": "LayoutModel",
            "justify_items": null,
            "grid_row": null,
            "max_height": null,
            "align_content": null,
            "visibility": null,
            "align_self": null,
            "height": null,
            "min_height": null,
            "padding": null,
            "grid_auto_rows": null,
            "grid_gap": null,
            "max_width": null,
            "order": null,
            "_view_module_version": "1.2.0",
            "grid_template_areas": null,
            "object_position": null,
            "object_fit": null,
            "grid_auto_columns": null,
            "margin": null,
            "display": null,
            "left": null
          }
        },
        "0bbef5bf59bd424ab2f77fa6bf77488e": {
          "model_module": "@jupyter-widgets/controls",
          "model_name": "DescriptionStyleModel",
          "state": {
            "_view_name": "StyleView",
            "_model_name": "DescriptionStyleModel",
            "description_width": "",
            "_view_module": "@jupyter-widgets/base",
            "_model_module_version": "1.5.0",
            "_view_count": null,
            "_view_module_version": "1.2.0",
            "_model_module": "@jupyter-widgets/controls"
          }
        },
        "8419f9a3f2af4e17964c33599d9f2851": {
          "model_module": "@jupyter-widgets/base",
          "model_name": "LayoutModel",
          "state": {
            "_view_name": "LayoutView",
            "grid_template_rows": null,
            "right": null,
            "justify_content": null,
            "_view_module": "@jupyter-widgets/base",
            "overflow": null,
            "_model_module_version": "1.2.0",
            "_view_count": null,
            "flex_flow": null,
            "width": null,
            "min_width": null,
            "border": null,
            "align_items": null,
            "bottom": null,
            "_model_module": "@jupyter-widgets/base",
            "top": null,
            "grid_column": null,
            "overflow_y": null,
            "overflow_x": null,
            "grid_auto_flow": null,
            "grid_area": null,
            "grid_template_columns": null,
            "flex": null,
            "_model_name": "LayoutModel",
            "justify_items": null,
            "grid_row": null,
            "max_height": null,
            "align_content": null,
            "visibility": null,
            "align_self": null,
            "height": null,
            "min_height": null,
            "padding": null,
            "grid_auto_rows": null,
            "grid_gap": null,
            "max_width": null,
            "order": null,
            "_view_module_version": "1.2.0",
            "grid_template_areas": null,
            "object_position": null,
            "object_fit": null,
            "grid_auto_columns": null,
            "margin": null,
            "display": null,
            "left": null
          }
        },
        "a3a297e970344a6890948454a17289b5": {
          "model_module": "@jupyter-widgets/controls",
          "model_name": "HBoxModel",
          "state": {
            "_view_name": "HBoxView",
            "_dom_classes": [],
            "_model_name": "HBoxModel",
            "_view_module": "@jupyter-widgets/controls",
            "_model_module_version": "1.5.0",
            "_view_count": null,
            "_view_module_version": "1.5.0",
            "box_style": "",
            "layout": "IPY_MODEL_b5651e8efe70412f8e4f82d58d480aa2",
            "_model_module": "@jupyter-widgets/controls",
            "children": [
              "IPY_MODEL_e0ec2a0608a9460b849695050f3dc6ff",
              "IPY_MODEL_20bda1a1167d46b5bfa8ece4fc0d073c"
            ]
          }
        },
        "b5651e8efe70412f8e4f82d58d480aa2": {
          "model_module": "@jupyter-widgets/base",
          "model_name": "LayoutModel",
          "state": {
            "_view_name": "LayoutView",
            "grid_template_rows": null,
            "right": null,
            "justify_content": null,
            "_view_module": "@jupyter-widgets/base",
            "overflow": null,
            "_model_module_version": "1.2.0",
            "_view_count": null,
            "flex_flow": null,
            "width": null,
            "min_width": null,
            "border": null,
            "align_items": null,
            "bottom": null,
            "_model_module": "@jupyter-widgets/base",
            "top": null,
            "grid_column": null,
            "overflow_y": null,
            "overflow_x": null,
            "grid_auto_flow": null,
            "grid_area": null,
            "grid_template_columns": null,
            "flex": null,
            "_model_name": "LayoutModel",
            "justify_items": null,
            "grid_row": null,
            "max_height": null,
            "align_content": null,
            "visibility": null,
            "align_self": null,
            "height": null,
            "min_height": null,
            "padding": null,
            "grid_auto_rows": null,
            "grid_gap": null,
            "max_width": null,
            "order": null,
            "_view_module_version": "1.2.0",
            "grid_template_areas": null,
            "object_position": null,
            "object_fit": null,
            "grid_auto_columns": null,
            "margin": null,
            "display": null,
            "left": null
          }
        },
        "e0ec2a0608a9460b849695050f3dc6ff": {
          "model_module": "@jupyter-widgets/controls",
          "model_name": "FloatProgressModel",
          "state": {
            "_view_name": "ProgressView",
            "style": "IPY_MODEL_37c052b803b34537863a6dfebaa98281",
            "_dom_classes": [],
            "description": "",
            "_model_name": "FloatProgressModel",
            "bar_style": "info",
            "max": 1,
            "_view_module": "@jupyter-widgets/controls",
            "_model_module_version": "1.5.0",
            "value": 1,
            "_view_count": null,
            "_view_module_version": "1.5.0",
            "orientation": "horizontal",
            "min": 0,
            "description_tooltip": null,
            "_model_module": "@jupyter-widgets/controls",
            "layout": "IPY_MODEL_017c3af21efd4eaf8e0fe20889c89da0"
          }
        },
        "20bda1a1167d46b5bfa8ece4fc0d073c": {
          "model_module": "@jupyter-widgets/controls",
          "model_name": "HTMLModel",
          "state": {
            "_view_name": "HTMLView",
            "style": "IPY_MODEL_3ffe08e5ad27401db32201bfaac1bdc9",
            "_dom_classes": [],
            "description": "",
            "_model_name": "HTMLModel",
            "placeholder": "​",
            "_view_module": "@jupyter-widgets/controls",
            "_model_module_version": "1.5.0",
            "value": " 50000/0 [00:04&lt;00:00, 11670.33 examples/s]",
            "_view_count": null,
            "_view_module_version": "1.5.0",
            "description_tooltip": null,
            "_model_module": "@jupyter-widgets/controls",
            "layout": "IPY_MODEL_b3eaf9b254ca47cab9ee48a2afd03dc8"
          }
        },
        "37c052b803b34537863a6dfebaa98281": {
          "model_module": "@jupyter-widgets/controls",
          "model_name": "ProgressStyleModel",
          "state": {
            "_view_name": "StyleView",
            "_model_name": "ProgressStyleModel",
            "description_width": "initial",
            "_view_module": "@jupyter-widgets/base",
            "_model_module_version": "1.5.0",
            "_view_count": null,
            "_view_module_version": "1.2.0",
            "bar_color": null,
            "_model_module": "@jupyter-widgets/controls"
          }
        },
        "017c3af21efd4eaf8e0fe20889c89da0": {
          "model_module": "@jupyter-widgets/base",
          "model_name": "LayoutModel",
          "state": {
            "_view_name": "LayoutView",
            "grid_template_rows": null,
            "right": null,
            "justify_content": null,
            "_view_module": "@jupyter-widgets/base",
            "overflow": null,
            "_model_module_version": "1.2.0",
            "_view_count": null,
            "flex_flow": null,
            "width": null,
            "min_width": null,
            "border": null,
            "align_items": null,
            "bottom": null,
            "_model_module": "@jupyter-widgets/base",
            "top": null,
            "grid_column": null,
            "overflow_y": null,
            "overflow_x": null,
            "grid_auto_flow": null,
            "grid_area": null,
            "grid_template_columns": null,
            "flex": null,
            "_model_name": "LayoutModel",
            "justify_items": null,
            "grid_row": null,
            "max_height": null,
            "align_content": null,
            "visibility": null,
            "align_self": null,
            "height": null,
            "min_height": null,
            "padding": null,
            "grid_auto_rows": null,
            "grid_gap": null,
            "max_width": null,
            "order": null,
            "_view_module_version": "1.2.0",
            "grid_template_areas": null,
            "object_position": null,
            "object_fit": null,
            "grid_auto_columns": null,
            "margin": null,
            "display": null,
            "left": null
          }
        },
        "3ffe08e5ad27401db32201bfaac1bdc9": {
          "model_module": "@jupyter-widgets/controls",
          "model_name": "DescriptionStyleModel",
          "state": {
            "_view_name": "StyleView",
            "_model_name": "DescriptionStyleModel",
            "description_width": "",
            "_view_module": "@jupyter-widgets/base",
            "_model_module_version": "1.5.0",
            "_view_count": null,
            "_view_module_version": "1.2.0",
            "_model_module": "@jupyter-widgets/controls"
          }
        },
        "b3eaf9b254ca47cab9ee48a2afd03dc8": {
          "model_module": "@jupyter-widgets/base",
          "model_name": "LayoutModel",
          "state": {
            "_view_name": "LayoutView",
            "grid_template_rows": null,
            "right": null,
            "justify_content": null,
            "_view_module": "@jupyter-widgets/base",
            "overflow": null,
            "_model_module_version": "1.2.0",
            "_view_count": null,
            "flex_flow": null,
            "width": null,
            "min_width": null,
            "border": null,
            "align_items": null,
            "bottom": null,
            "_model_module": "@jupyter-widgets/base",
            "top": null,
            "grid_column": null,
            "overflow_y": null,
            "overflow_x": null,
            "grid_auto_flow": null,
            "grid_area": null,
            "grid_template_columns": null,
            "flex": null,
            "_model_name": "LayoutModel",
            "justify_items": null,
            "grid_row": null,
            "max_height": null,
            "align_content": null,
            "visibility": null,
            "align_self": null,
            "height": null,
            "min_height": null,
            "padding": null,
            "grid_auto_rows": null,
            "grid_gap": null,
            "max_width": null,
            "order": null,
            "_view_module_version": "1.2.0",
            "grid_template_areas": null,
            "object_position": null,
            "object_fit": null,
            "grid_auto_columns": null,
            "margin": null,
            "display": null,
            "left": null
          }
        },
        "efd6bae125d64933ade8048570bc02ab": {
          "model_module": "@jupyter-widgets/controls",
          "model_name": "HBoxModel",
          "state": {
            "_view_name": "HBoxView",
            "_dom_classes": [],
            "_model_name": "HBoxModel",
            "_view_module": "@jupyter-widgets/controls",
            "_model_module_version": "1.5.0",
            "_view_count": null,
            "_view_module_version": "1.5.0",
            "box_style": "",
            "layout": "IPY_MODEL_4c8ebf323eab438d94a1b3cf89418949",
            "_model_module": "@jupyter-widgets/controls",
            "children": [
              "IPY_MODEL_a4bc8682e1f74a14a468c9797a777f84",
              "IPY_MODEL_0f0d267dbcf34075a52b15b6f5d558d7"
            ]
          }
        },
        "4c8ebf323eab438d94a1b3cf89418949": {
          "model_module": "@jupyter-widgets/base",
          "model_name": "LayoutModel",
          "state": {
            "_view_name": "LayoutView",
            "grid_template_rows": null,
            "right": null,
            "justify_content": null,
            "_view_module": "@jupyter-widgets/base",
            "overflow": null,
            "_model_module_version": "1.2.0",
            "_view_count": null,
            "flex_flow": null,
            "width": null,
            "min_width": null,
            "border": null,
            "align_items": null,
            "bottom": null,
            "_model_module": "@jupyter-widgets/base",
            "top": null,
            "grid_column": null,
            "overflow_y": null,
            "overflow_x": null,
            "grid_auto_flow": null,
            "grid_area": null,
            "grid_template_columns": null,
            "flex": null,
            "_model_name": "LayoutModel",
            "justify_items": null,
            "grid_row": null,
            "max_height": null,
            "align_content": null,
            "visibility": null,
            "align_self": null,
            "height": null,
            "min_height": null,
            "padding": null,
            "grid_auto_rows": null,
            "grid_gap": null,
            "max_width": null,
            "order": null,
            "_view_module_version": "1.2.0",
            "grid_template_areas": null,
            "object_position": null,
            "object_fit": null,
            "grid_auto_columns": null,
            "margin": null,
            "display": null,
            "left": null
          }
        },
        "a4bc8682e1f74a14a468c9797a777f84": {
          "model_module": "@jupyter-widgets/controls",
          "model_name": "FloatProgressModel",
          "state": {
            "_view_name": "ProgressView",
            "style": "IPY_MODEL_1a02092976ff4c25ad6cbc1a7c3b261f",
            "_dom_classes": [],
            "description": "Downloading: 100%",
            "_model_name": "FloatProgressModel",
            "bar_style": "success",
            "max": 629,
            "_view_module": "@jupyter-widgets/controls",
            "_model_module_version": "1.5.0",
            "value": 629,
            "_view_count": null,
            "_view_module_version": "1.5.0",
            "orientation": "horizontal",
            "min": 0,
            "description_tooltip": null,
            "_model_module": "@jupyter-widgets/controls",
            "layout": "IPY_MODEL_9dc976f48d12475fa0e053ced6d9900d"
          }
        },
        "0f0d267dbcf34075a52b15b6f5d558d7": {
          "model_module": "@jupyter-widgets/controls",
          "model_name": "HTMLModel",
          "state": {
            "_view_name": "HTMLView",
            "style": "IPY_MODEL_b2afdae1478942778b71da01612adc21",
            "_dom_classes": [],
            "description": "",
            "_model_name": "HTMLModel",
            "placeholder": "​",
            "_view_module": "@jupyter-widgets/controls",
            "_model_module_version": "1.5.0",
            "value": " 629/629 [00:00&lt;00:00, 1.88kB/s]",
            "_view_count": null,
            "_view_module_version": "1.5.0",
            "description_tooltip": null,
            "_model_module": "@jupyter-widgets/controls",
            "layout": "IPY_MODEL_6f1cd821faa14ea58e4ab6bdca726a1a"
          }
        },
        "1a02092976ff4c25ad6cbc1a7c3b261f": {
          "model_module": "@jupyter-widgets/controls",
          "model_name": "ProgressStyleModel",
          "state": {
            "_view_name": "StyleView",
            "_model_name": "ProgressStyleModel",
            "description_width": "initial",
            "_view_module": "@jupyter-widgets/base",
            "_model_module_version": "1.5.0",
            "_view_count": null,
            "_view_module_version": "1.2.0",
            "bar_color": null,
            "_model_module": "@jupyter-widgets/controls"
          }
        },
        "9dc976f48d12475fa0e053ced6d9900d": {
          "model_module": "@jupyter-widgets/base",
          "model_name": "LayoutModel",
          "state": {
            "_view_name": "LayoutView",
            "grid_template_rows": null,
            "right": null,
            "justify_content": null,
            "_view_module": "@jupyter-widgets/base",
            "overflow": null,
            "_model_module_version": "1.2.0",
            "_view_count": null,
            "flex_flow": null,
            "width": null,
            "min_width": null,
            "border": null,
            "align_items": null,
            "bottom": null,
            "_model_module": "@jupyter-widgets/base",
            "top": null,
            "grid_column": null,
            "overflow_y": null,
            "overflow_x": null,
            "grid_auto_flow": null,
            "grid_area": null,
            "grid_template_columns": null,
            "flex": null,
            "_model_name": "LayoutModel",
            "justify_items": null,
            "grid_row": null,
            "max_height": null,
            "align_content": null,
            "visibility": null,
            "align_self": null,
            "height": null,
            "min_height": null,
            "padding": null,
            "grid_auto_rows": null,
            "grid_gap": null,
            "max_width": null,
            "order": null,
            "_view_module_version": "1.2.0",
            "grid_template_areas": null,
            "object_position": null,
            "object_fit": null,
            "grid_auto_columns": null,
            "margin": null,
            "display": null,
            "left": null
          }
        },
        "b2afdae1478942778b71da01612adc21": {
          "model_module": "@jupyter-widgets/controls",
          "model_name": "DescriptionStyleModel",
          "state": {
            "_view_name": "StyleView",
            "_model_name": "DescriptionStyleModel",
            "description_width": "",
            "_view_module": "@jupyter-widgets/base",
            "_model_module_version": "1.5.0",
            "_view_count": null,
            "_view_module_version": "1.2.0",
            "_model_module": "@jupyter-widgets/controls"
          }
        },
        "6f1cd821faa14ea58e4ab6bdca726a1a": {
          "model_module": "@jupyter-widgets/base",
          "model_name": "LayoutModel",
          "state": {
            "_view_name": "LayoutView",
            "grid_template_rows": null,
            "right": null,
            "justify_content": null,
            "_view_module": "@jupyter-widgets/base",
            "overflow": null,
            "_model_module_version": "1.2.0",
            "_view_count": null,
            "flex_flow": null,
            "width": null,
            "min_width": null,
            "border": null,
            "align_items": null,
            "bottom": null,
            "_model_module": "@jupyter-widgets/base",
            "top": null,
            "grid_column": null,
            "overflow_y": null,
            "overflow_x": null,
            "grid_auto_flow": null,
            "grid_area": null,
            "grid_template_columns": null,
            "flex": null,
            "_model_name": "LayoutModel",
            "justify_items": null,
            "grid_row": null,
            "max_height": null,
            "align_content": null,
            "visibility": null,
            "align_self": null,
            "height": null,
            "min_height": null,
            "padding": null,
            "grid_auto_rows": null,
            "grid_gap": null,
            "max_width": null,
            "order": null,
            "_view_module_version": "1.2.0",
            "grid_template_areas": null,
            "object_position": null,
            "object_fit": null,
            "grid_auto_columns": null,
            "margin": null,
            "display": null,
            "left": null
          }
        },
        "5e05958c7e6d420b9c5718b2031c165b": {
          "model_module": "@jupyter-widgets/controls",
          "model_name": "HBoxModel",
          "state": {
            "_view_name": "HBoxView",
            "_dom_classes": [],
            "_model_name": "HBoxModel",
            "_view_module": "@jupyter-widgets/controls",
            "_model_module_version": "1.5.0",
            "_view_count": null,
            "_view_module_version": "1.5.0",
            "box_style": "",
            "layout": "IPY_MODEL_3d6a0dbc6afa4e348d84152f13267a29",
            "_model_module": "@jupyter-widgets/controls",
            "children": [
              "IPY_MODEL_53bd66e96c194aa2b6f37ca247cd894b",
              "IPY_MODEL_0c7b10fd11b24581ac52332b80a2bb76"
            ]
          }
        },
        "3d6a0dbc6afa4e348d84152f13267a29": {
          "model_module": "@jupyter-widgets/base",
          "model_name": "LayoutModel",
          "state": {
            "_view_name": "LayoutView",
            "grid_template_rows": null,
            "right": null,
            "justify_content": null,
            "_view_module": "@jupyter-widgets/base",
            "overflow": null,
            "_model_module_version": "1.2.0",
            "_view_count": null,
            "flex_flow": null,
            "width": null,
            "min_width": null,
            "border": null,
            "align_items": null,
            "bottom": null,
            "_model_module": "@jupyter-widgets/base",
            "top": null,
            "grid_column": null,
            "overflow_y": null,
            "overflow_x": null,
            "grid_auto_flow": null,
            "grid_area": null,
            "grid_template_columns": null,
            "flex": null,
            "_model_name": "LayoutModel",
            "justify_items": null,
            "grid_row": null,
            "max_height": null,
            "align_content": null,
            "visibility": null,
            "align_self": null,
            "height": null,
            "min_height": null,
            "padding": null,
            "grid_auto_rows": null,
            "grid_gap": null,
            "max_width": null,
            "order": null,
            "_view_module_version": "1.2.0",
            "grid_template_areas": null,
            "object_position": null,
            "object_fit": null,
            "grid_auto_columns": null,
            "margin": null,
            "display": null,
            "left": null
          }
        },
        "53bd66e96c194aa2b6f37ca247cd894b": {
          "model_module": "@jupyter-widgets/controls",
          "model_name": "FloatProgressModel",
          "state": {
            "_view_name": "ProgressView",
            "style": "IPY_MODEL_a3072ebac24c4e2e9edae36f0910d48b",
            "_dom_classes": [],
            "description": "Downloading: 100%",
            "_model_name": "FloatProgressModel",
            "bar_style": "success",
            "max": 267844284,
            "_view_module": "@jupyter-widgets/controls",
            "_model_module_version": "1.5.0",
            "value": 267844284,
            "_view_count": null,
            "_view_module_version": "1.5.0",
            "orientation": "horizontal",
            "min": 0,
            "description_tooltip": null,
            "_model_module": "@jupyter-widgets/controls",
            "layout": "IPY_MODEL_ed2fcfeee60446e890f7f1e58a38a33f"
          }
        },
        "0c7b10fd11b24581ac52332b80a2bb76": {
          "model_module": "@jupyter-widgets/controls",
          "model_name": "HTMLModel",
          "state": {
            "_view_name": "HTMLView",
            "style": "IPY_MODEL_0ef3ea155f4c42709710872f48334eba",
            "_dom_classes": [],
            "description": "",
            "_model_name": "HTMLModel",
            "placeholder": "​",
            "_view_module": "@jupyter-widgets/controls",
            "_model_module_version": "1.5.0",
            "value": " 268M/268M [00:09&lt;00:00, 29.3MB/s]",
            "_view_count": null,
            "_view_module_version": "1.5.0",
            "description_tooltip": null,
            "_model_module": "@jupyter-widgets/controls",
            "layout": "IPY_MODEL_3546ac2fa3984aae8baebd4b63717770"
          }
        },
        "a3072ebac24c4e2e9edae36f0910d48b": {
          "model_module": "@jupyter-widgets/controls",
          "model_name": "ProgressStyleModel",
          "state": {
            "_view_name": "StyleView",
            "_model_name": "ProgressStyleModel",
            "description_width": "initial",
            "_view_module": "@jupyter-widgets/base",
            "_model_module_version": "1.5.0",
            "_view_count": null,
            "_view_module_version": "1.2.0",
            "bar_color": null,
            "_model_module": "@jupyter-widgets/controls"
          }
        },
        "ed2fcfeee60446e890f7f1e58a38a33f": {
          "model_module": "@jupyter-widgets/base",
          "model_name": "LayoutModel",
          "state": {
            "_view_name": "LayoutView",
            "grid_template_rows": null,
            "right": null,
            "justify_content": null,
            "_view_module": "@jupyter-widgets/base",
            "overflow": null,
            "_model_module_version": "1.2.0",
            "_view_count": null,
            "flex_flow": null,
            "width": null,
            "min_width": null,
            "border": null,
            "align_items": null,
            "bottom": null,
            "_model_module": "@jupyter-widgets/base",
            "top": null,
            "grid_column": null,
            "overflow_y": null,
            "overflow_x": null,
            "grid_auto_flow": null,
            "grid_area": null,
            "grid_template_columns": null,
            "flex": null,
            "_model_name": "LayoutModel",
            "justify_items": null,
            "grid_row": null,
            "max_height": null,
            "align_content": null,
            "visibility": null,
            "align_self": null,
            "height": null,
            "min_height": null,
            "padding": null,
            "grid_auto_rows": null,
            "grid_gap": null,
            "max_width": null,
            "order": null,
            "_view_module_version": "1.2.0",
            "grid_template_areas": null,
            "object_position": null,
            "object_fit": null,
            "grid_auto_columns": null,
            "margin": null,
            "display": null,
            "left": null
          }
        },
        "0ef3ea155f4c42709710872f48334eba": {
          "model_module": "@jupyter-widgets/controls",
          "model_name": "DescriptionStyleModel",
          "state": {
            "_view_name": "StyleView",
            "_model_name": "DescriptionStyleModel",
            "description_width": "",
            "_view_module": "@jupyter-widgets/base",
            "_model_module_version": "1.5.0",
            "_view_count": null,
            "_view_module_version": "1.2.0",
            "_model_module": "@jupyter-widgets/controls"
          }
        },
        "3546ac2fa3984aae8baebd4b63717770": {
          "model_module": "@jupyter-widgets/base",
          "model_name": "LayoutModel",
          "state": {
            "_view_name": "LayoutView",
            "grid_template_rows": null,
            "right": null,
            "justify_content": null,
            "_view_module": "@jupyter-widgets/base",
            "overflow": null,
            "_model_module_version": "1.2.0",
            "_view_count": null,
            "flex_flow": null,
            "width": null,
            "min_width": null,
            "border": null,
            "align_items": null,
            "bottom": null,
            "_model_module": "@jupyter-widgets/base",
            "top": null,
            "grid_column": null,
            "overflow_y": null,
            "overflow_x": null,
            "grid_auto_flow": null,
            "grid_area": null,
            "grid_template_columns": null,
            "flex": null,
            "_model_name": "LayoutModel",
            "justify_items": null,
            "grid_row": null,
            "max_height": null,
            "align_content": null,
            "visibility": null,
            "align_self": null,
            "height": null,
            "min_height": null,
            "padding": null,
            "grid_auto_rows": null,
            "grid_gap": null,
            "max_width": null,
            "order": null,
            "_view_module_version": "1.2.0",
            "grid_template_areas": null,
            "object_position": null,
            "object_fit": null,
            "grid_auto_columns": null,
            "margin": null,
            "display": null,
            "left": null
          }
        },
        "aa7655c5e55b4eccb87b2940432bfd53": {
          "model_module": "@jupyter-widgets/controls",
          "model_name": "HBoxModel",
          "state": {
            "_view_name": "HBoxView",
            "_dom_classes": [],
            "_model_name": "HBoxModel",
            "_view_module": "@jupyter-widgets/controls",
            "_model_module_version": "1.5.0",
            "_view_count": null,
            "_view_module_version": "1.5.0",
            "box_style": "",
            "layout": "IPY_MODEL_3a899be497354c109e5a2bb3dded1cf6",
            "_model_module": "@jupyter-widgets/controls",
            "children": [
              "IPY_MODEL_12f45b2ba14f40c28e8b3e6342d19c42",
              "IPY_MODEL_bc76eafbbd524c5295de1f08c5678c22"
            ]
          }
        },
        "3a899be497354c109e5a2bb3dded1cf6": {
          "model_module": "@jupyter-widgets/base",
          "model_name": "LayoutModel",
          "state": {
            "_view_name": "LayoutView",
            "grid_template_rows": null,
            "right": null,
            "justify_content": null,
            "_view_module": "@jupyter-widgets/base",
            "overflow": null,
            "_model_module_version": "1.2.0",
            "_view_count": null,
            "flex_flow": null,
            "width": null,
            "min_width": null,
            "border": null,
            "align_items": null,
            "bottom": null,
            "_model_module": "@jupyter-widgets/base",
            "top": null,
            "grid_column": null,
            "overflow_y": null,
            "overflow_x": null,
            "grid_auto_flow": null,
            "grid_area": null,
            "grid_template_columns": null,
            "flex": null,
            "_model_name": "LayoutModel",
            "justify_items": null,
            "grid_row": null,
            "max_height": null,
            "align_content": null,
            "visibility": null,
            "align_self": null,
            "height": null,
            "min_height": null,
            "padding": null,
            "grid_auto_rows": null,
            "grid_gap": null,
            "max_width": null,
            "order": null,
            "_view_module_version": "1.2.0",
            "grid_template_areas": null,
            "object_position": null,
            "object_fit": null,
            "grid_auto_columns": null,
            "margin": null,
            "display": null,
            "left": null
          }
        },
        "12f45b2ba14f40c28e8b3e6342d19c42": {
          "model_module": "@jupyter-widgets/controls",
          "model_name": "FloatProgressModel",
          "state": {
            "_view_name": "ProgressView",
            "style": "IPY_MODEL_cfebb3c24318416498f17fb9c3e26370",
            "_dom_classes": [],
            "description": "Downloading: 100%",
            "_model_name": "FloatProgressModel",
            "bar_style": "success",
            "max": 231508,
            "_view_module": "@jupyter-widgets/controls",
            "_model_module_version": "1.5.0",
            "value": 231508,
            "_view_count": null,
            "_view_module_version": "1.5.0",
            "orientation": "horizontal",
            "min": 0,
            "description_tooltip": null,
            "_model_module": "@jupyter-widgets/controls",
            "layout": "IPY_MODEL_93a8106d7a1241ffa05997c63bc62b1e"
          }
        },
        "bc76eafbbd524c5295de1f08c5678c22": {
          "model_module": "@jupyter-widgets/controls",
          "model_name": "HTMLModel",
          "state": {
            "_view_name": "HTMLView",
            "style": "IPY_MODEL_47dac18bf40f41f9a5bc4ae6034a2549",
            "_dom_classes": [],
            "description": "",
            "_model_name": "HTMLModel",
            "placeholder": "​",
            "_view_module": "@jupyter-widgets/controls",
            "_model_module_version": "1.5.0",
            "value": " 232k/232k [00:02&lt;00:00, 116kB/s]",
            "_view_count": null,
            "_view_module_version": "1.5.0",
            "description_tooltip": null,
            "_model_module": "@jupyter-widgets/controls",
            "layout": "IPY_MODEL_550538c7fd4041f69591a778ea19ed30"
          }
        },
        "cfebb3c24318416498f17fb9c3e26370": {
          "model_module": "@jupyter-widgets/controls",
          "model_name": "ProgressStyleModel",
          "state": {
            "_view_name": "StyleView",
            "_model_name": "ProgressStyleModel",
            "description_width": "initial",
            "_view_module": "@jupyter-widgets/base",
            "_model_module_version": "1.5.0",
            "_view_count": null,
            "_view_module_version": "1.2.0",
            "bar_color": null,
            "_model_module": "@jupyter-widgets/controls"
          }
        },
        "93a8106d7a1241ffa05997c63bc62b1e": {
          "model_module": "@jupyter-widgets/base",
          "model_name": "LayoutModel",
          "state": {
            "_view_name": "LayoutView",
            "grid_template_rows": null,
            "right": null,
            "justify_content": null,
            "_view_module": "@jupyter-widgets/base",
            "overflow": null,
            "_model_module_version": "1.2.0",
            "_view_count": null,
            "flex_flow": null,
            "width": null,
            "min_width": null,
            "border": null,
            "align_items": null,
            "bottom": null,
            "_model_module": "@jupyter-widgets/base",
            "top": null,
            "grid_column": null,
            "overflow_y": null,
            "overflow_x": null,
            "grid_auto_flow": null,
            "grid_area": null,
            "grid_template_columns": null,
            "flex": null,
            "_model_name": "LayoutModel",
            "justify_items": null,
            "grid_row": null,
            "max_height": null,
            "align_content": null,
            "visibility": null,
            "align_self": null,
            "height": null,
            "min_height": null,
            "padding": null,
            "grid_auto_rows": null,
            "grid_gap": null,
            "max_width": null,
            "order": null,
            "_view_module_version": "1.2.0",
            "grid_template_areas": null,
            "object_position": null,
            "object_fit": null,
            "grid_auto_columns": null,
            "margin": null,
            "display": null,
            "left": null
          }
        },
        "47dac18bf40f41f9a5bc4ae6034a2549": {
          "model_module": "@jupyter-widgets/controls",
          "model_name": "DescriptionStyleModel",
          "state": {
            "_view_name": "StyleView",
            "_model_name": "DescriptionStyleModel",
            "description_width": "",
            "_view_module": "@jupyter-widgets/base",
            "_model_module_version": "1.5.0",
            "_view_count": null,
            "_view_module_version": "1.2.0",
            "_model_module": "@jupyter-widgets/controls"
          }
        },
        "550538c7fd4041f69591a778ea19ed30": {
          "model_module": "@jupyter-widgets/base",
          "model_name": "LayoutModel",
          "state": {
            "_view_name": "LayoutView",
            "grid_template_rows": null,
            "right": null,
            "justify_content": null,
            "_view_module": "@jupyter-widgets/base",
            "overflow": null,
            "_model_module_version": "1.2.0",
            "_view_count": null,
            "flex_flow": null,
            "width": null,
            "min_width": null,
            "border": null,
            "align_items": null,
            "bottom": null,
            "_model_module": "@jupyter-widgets/base",
            "top": null,
            "grid_column": null,
            "overflow_y": null,
            "overflow_x": null,
            "grid_auto_flow": null,
            "grid_area": null,
            "grid_template_columns": null,
            "flex": null,
            "_model_name": "LayoutModel",
            "justify_items": null,
            "grid_row": null,
            "max_height": null,
            "align_content": null,
            "visibility": null,
            "align_self": null,
            "height": null,
            "min_height": null,
            "padding": null,
            "grid_auto_rows": null,
            "grid_gap": null,
            "max_width": null,
            "order": null,
            "_view_module_version": "1.2.0",
            "grid_template_areas": null,
            "object_position": null,
            "object_fit": null,
            "grid_auto_columns": null,
            "margin": null,
            "display": null,
            "left": null
          }
        },
        "925e956cb5994c65b4d8d52644a087e7": {
          "model_module": "@jupyter-widgets/controls",
          "model_name": "HBoxModel",
          "state": {
            "_view_name": "HBoxView",
            "_dom_classes": [],
            "_model_name": "HBoxModel",
            "_view_module": "@jupyter-widgets/controls",
            "_model_module_version": "1.5.0",
            "_view_count": null,
            "_view_module_version": "1.5.0",
            "box_style": "",
            "layout": "IPY_MODEL_0ad0ea0ed2f748c8b110724d4d274ff8",
            "_model_module": "@jupyter-widgets/controls",
            "children": [
              "IPY_MODEL_aac18220ea2b4af9b24cdf1f1b6a6fc4",
              "IPY_MODEL_0a84453a89b34930a120b6e85288d6cf"
            ]
          }
        },
        "0ad0ea0ed2f748c8b110724d4d274ff8": {
          "model_module": "@jupyter-widgets/base",
          "model_name": "LayoutModel",
          "state": {
            "_view_name": "LayoutView",
            "grid_template_rows": null,
            "right": null,
            "justify_content": null,
            "_view_module": "@jupyter-widgets/base",
            "overflow": null,
            "_model_module_version": "1.2.0",
            "_view_count": null,
            "flex_flow": null,
            "width": null,
            "min_width": null,
            "border": null,
            "align_items": null,
            "bottom": null,
            "_model_module": "@jupyter-widgets/base",
            "top": null,
            "grid_column": null,
            "overflow_y": null,
            "overflow_x": null,
            "grid_auto_flow": null,
            "grid_area": null,
            "grid_template_columns": null,
            "flex": null,
            "_model_name": "LayoutModel",
            "justify_items": null,
            "grid_row": null,
            "max_height": null,
            "align_content": null,
            "visibility": null,
            "align_self": null,
            "height": null,
            "min_height": null,
            "padding": null,
            "grid_auto_rows": null,
            "grid_gap": null,
            "max_width": null,
            "order": null,
            "_view_module_version": "1.2.0",
            "grid_template_areas": null,
            "object_position": null,
            "object_fit": null,
            "grid_auto_columns": null,
            "margin": null,
            "display": null,
            "left": null
          }
        },
        "aac18220ea2b4af9b24cdf1f1b6a6fc4": {
          "model_module": "@jupyter-widgets/controls",
          "model_name": "FloatProgressModel",
          "state": {
            "_view_name": "ProgressView",
            "style": "IPY_MODEL_4fbd95a628e64a22b425e3211722bd15",
            "_dom_classes": [],
            "description": "Downloading: 100%",
            "_model_name": "FloatProgressModel",
            "bar_style": "success",
            "max": 48,
            "_view_module": "@jupyter-widgets/controls",
            "_model_module_version": "1.5.0",
            "value": 48,
            "_view_count": null,
            "_view_module_version": "1.5.0",
            "orientation": "horizontal",
            "min": 0,
            "description_tooltip": null,
            "_model_module": "@jupyter-widgets/controls",
            "layout": "IPY_MODEL_63b344d70ff747b59b9be9bdd95148b5"
          }
        },
        "0a84453a89b34930a120b6e85288d6cf": {
          "model_module": "@jupyter-widgets/controls",
          "model_name": "HTMLModel",
          "state": {
            "_view_name": "HTMLView",
            "style": "IPY_MODEL_690b342c9b73467690d212f119c2ee2d",
            "_dom_classes": [],
            "description": "",
            "_model_name": "HTMLModel",
            "placeholder": "​",
            "_view_module": "@jupyter-widgets/controls",
            "_model_module_version": "1.5.0",
            "value": " 48.0/48.0 [00:00&lt;00:00, 360B/s]",
            "_view_count": null,
            "_view_module_version": "1.5.0",
            "description_tooltip": null,
            "_model_module": "@jupyter-widgets/controls",
            "layout": "IPY_MODEL_33af7c217bb645ca9775a7019d808fec"
          }
        },
        "4fbd95a628e64a22b425e3211722bd15": {
          "model_module": "@jupyter-widgets/controls",
          "model_name": "ProgressStyleModel",
          "state": {
            "_view_name": "StyleView",
            "_model_name": "ProgressStyleModel",
            "description_width": "initial",
            "_view_module": "@jupyter-widgets/base",
            "_model_module_version": "1.5.0",
            "_view_count": null,
            "_view_module_version": "1.2.0",
            "bar_color": null,
            "_model_module": "@jupyter-widgets/controls"
          }
        },
        "63b344d70ff747b59b9be9bdd95148b5": {
          "model_module": "@jupyter-widgets/base",
          "model_name": "LayoutModel",
          "state": {
            "_view_name": "LayoutView",
            "grid_template_rows": null,
            "right": null,
            "justify_content": null,
            "_view_module": "@jupyter-widgets/base",
            "overflow": null,
            "_model_module_version": "1.2.0",
            "_view_count": null,
            "flex_flow": null,
            "width": null,
            "min_width": null,
            "border": null,
            "align_items": null,
            "bottom": null,
            "_model_module": "@jupyter-widgets/base",
            "top": null,
            "grid_column": null,
            "overflow_y": null,
            "overflow_x": null,
            "grid_auto_flow": null,
            "grid_area": null,
            "grid_template_columns": null,
            "flex": null,
            "_model_name": "LayoutModel",
            "justify_items": null,
            "grid_row": null,
            "max_height": null,
            "align_content": null,
            "visibility": null,
            "align_self": null,
            "height": null,
            "min_height": null,
            "padding": null,
            "grid_auto_rows": null,
            "grid_gap": null,
            "max_width": null,
            "order": null,
            "_view_module_version": "1.2.0",
            "grid_template_areas": null,
            "object_position": null,
            "object_fit": null,
            "grid_auto_columns": null,
            "margin": null,
            "display": null,
            "left": null
          }
        },
        "690b342c9b73467690d212f119c2ee2d": {
          "model_module": "@jupyter-widgets/controls",
          "model_name": "DescriptionStyleModel",
          "state": {
            "_view_name": "StyleView",
            "_model_name": "DescriptionStyleModel",
            "description_width": "",
            "_view_module": "@jupyter-widgets/base",
            "_model_module_version": "1.5.0",
            "_view_count": null,
            "_view_module_version": "1.2.0",
            "_model_module": "@jupyter-widgets/controls"
          }
        },
        "33af7c217bb645ca9775a7019d808fec": {
          "model_module": "@jupyter-widgets/base",
          "model_name": "LayoutModel",
          "state": {
            "_view_name": "LayoutView",
            "grid_template_rows": null,
            "right": null,
            "justify_content": null,
            "_view_module": "@jupyter-widgets/base",
            "overflow": null,
            "_model_module_version": "1.2.0",
            "_view_count": null,
            "flex_flow": null,
            "width": null,
            "min_width": null,
            "border": null,
            "align_items": null,
            "bottom": null,
            "_model_module": "@jupyter-widgets/base",
            "top": null,
            "grid_column": null,
            "overflow_y": null,
            "overflow_x": null,
            "grid_auto_flow": null,
            "grid_area": null,
            "grid_template_columns": null,
            "flex": null,
            "_model_name": "LayoutModel",
            "justify_items": null,
            "grid_row": null,
            "max_height": null,
            "align_content": null,
            "visibility": null,
            "align_self": null,
            "height": null,
            "min_height": null,
            "padding": null,
            "grid_auto_rows": null,
            "grid_gap": null,
            "max_width": null,
            "order": null,
            "_view_module_version": "1.2.0",
            "grid_template_areas": null,
            "object_position": null,
            "object_fit": null,
            "grid_auto_columns": null,
            "margin": null,
            "display": null,
            "left": null
          }
        },
        "a6aa44e6c05442d6a5db5dfc90bffaf4": {
          "model_module": "@jupyter-widgets/controls",
          "model_name": "HBoxModel",
          "state": {
            "_view_name": "HBoxView",
            "_dom_classes": [],
            "_model_name": "HBoxModel",
            "_view_module": "@jupyter-widgets/controls",
            "_model_module_version": "1.5.0",
            "_view_count": null,
            "_view_module_version": "1.5.0",
            "box_style": "",
            "layout": "IPY_MODEL_f5159b532b5f4ac1b69b58827ffab87f",
            "_model_module": "@jupyter-widgets/controls",
            "children": [
              "IPY_MODEL_394060881e954088b205d0d53a55dc53",
              "IPY_MODEL_6adfe7df6c2045d79dad4e7769ee1ce7"
            ]
          }
        },
        "f5159b532b5f4ac1b69b58827ffab87f": {
          "model_module": "@jupyter-widgets/base",
          "model_name": "LayoutModel",
          "state": {
            "_view_name": "LayoutView",
            "grid_template_rows": null,
            "right": null,
            "justify_content": null,
            "_view_module": "@jupyter-widgets/base",
            "overflow": null,
            "_model_module_version": "1.2.0",
            "_view_count": null,
            "flex_flow": null,
            "width": null,
            "min_width": null,
            "border": null,
            "align_items": null,
            "bottom": null,
            "_model_module": "@jupyter-widgets/base",
            "top": null,
            "grid_column": null,
            "overflow_y": null,
            "overflow_x": null,
            "grid_auto_flow": null,
            "grid_area": null,
            "grid_template_columns": null,
            "flex": null,
            "_model_name": "LayoutModel",
            "justify_items": null,
            "grid_row": null,
            "max_height": null,
            "align_content": null,
            "visibility": null,
            "align_self": null,
            "height": null,
            "min_height": null,
            "padding": null,
            "grid_auto_rows": null,
            "grid_gap": null,
            "max_width": null,
            "order": null,
            "_view_module_version": "1.2.0",
            "grid_template_areas": null,
            "object_position": null,
            "object_fit": null,
            "grid_auto_columns": null,
            "margin": null,
            "display": null,
            "left": null
          }
        },
        "394060881e954088b205d0d53a55dc53": {
          "model_module": "@jupyter-widgets/controls",
          "model_name": "FloatProgressModel",
          "state": {
            "_view_name": "ProgressView",
            "style": "IPY_MODEL_4aa3ede8e6c84c75845475abc0f1ce16",
            "_dom_classes": [],
            "description": "",
            "_model_name": "FloatProgressModel",
            "bar_style": "",
            "max": 48,
            "_view_module": "@jupyter-widgets/controls",
            "_model_module_version": "1.5.0",
            "value": 48,
            "_view_count": null,
            "_view_module_version": "1.5.0",
            "orientation": "horizontal",
            "min": 0,
            "description_tooltip": null,
            "_model_module": "@jupyter-widgets/controls",
            "layout": "IPY_MODEL_e52cdc986629493ab9f75ba7352a7271"
          }
        },
        "6adfe7df6c2045d79dad4e7769ee1ce7": {
          "model_module": "@jupyter-widgets/controls",
          "model_name": "HTMLModel",
          "state": {
            "_view_name": "HTMLView",
            "style": "IPY_MODEL_7842b7246e16494b815edd1e31da67ac",
            "_dom_classes": [],
            "description": "",
            "_model_name": "HTMLModel",
            "placeholder": "​",
            "_view_module": "@jupyter-widgets/controls",
            "_model_module_version": "1.5.0",
            "value": " 54/? [00:03&lt;00:00,  9.98it/s]",
            "_view_count": null,
            "_view_module_version": "1.5.0",
            "description_tooltip": null,
            "_model_module": "@jupyter-widgets/controls",
            "layout": "IPY_MODEL_401e5b908dcc4cfdb67d912534fe0221"
          }
        },
        "4aa3ede8e6c84c75845475abc0f1ce16": {
          "model_module": "@jupyter-widgets/controls",
          "model_name": "ProgressStyleModel",
          "state": {
            "_view_name": "StyleView",
            "_model_name": "ProgressStyleModel",
            "description_width": "initial",
            "_view_module": "@jupyter-widgets/base",
            "_model_module_version": "1.5.0",
            "_view_count": null,
            "_view_module_version": "1.2.0",
            "bar_color": null,
            "_model_module": "@jupyter-widgets/controls"
          }
        },
        "e52cdc986629493ab9f75ba7352a7271": {
          "model_module": "@jupyter-widgets/base",
          "model_name": "LayoutModel",
          "state": {
            "_view_name": "LayoutView",
            "grid_template_rows": null,
            "right": null,
            "justify_content": null,
            "_view_module": "@jupyter-widgets/base",
            "overflow": null,
            "_model_module_version": "1.2.0",
            "_view_count": null,
            "flex_flow": null,
            "width": null,
            "min_width": null,
            "border": null,
            "align_items": null,
            "bottom": null,
            "_model_module": "@jupyter-widgets/base",
            "top": null,
            "grid_column": null,
            "overflow_y": null,
            "overflow_x": null,
            "grid_auto_flow": null,
            "grid_area": null,
            "grid_template_columns": null,
            "flex": null,
            "_model_name": "LayoutModel",
            "justify_items": null,
            "grid_row": null,
            "max_height": null,
            "align_content": null,
            "visibility": null,
            "align_self": null,
            "height": null,
            "min_height": null,
            "padding": null,
            "grid_auto_rows": null,
            "grid_gap": null,
            "max_width": null,
            "order": null,
            "_view_module_version": "1.2.0",
            "grid_template_areas": null,
            "object_position": null,
            "object_fit": null,
            "grid_auto_columns": null,
            "margin": null,
            "display": null,
            "left": null
          }
        },
        "7842b7246e16494b815edd1e31da67ac": {
          "model_module": "@jupyter-widgets/controls",
          "model_name": "DescriptionStyleModel",
          "state": {
            "_view_name": "StyleView",
            "_model_name": "DescriptionStyleModel",
            "description_width": "",
            "_view_module": "@jupyter-widgets/base",
            "_model_module_version": "1.5.0",
            "_view_count": null,
            "_view_module_version": "1.2.0",
            "_model_module": "@jupyter-widgets/controls"
          }
        },
        "401e5b908dcc4cfdb67d912534fe0221": {
          "model_module": "@jupyter-widgets/base",
          "model_name": "LayoutModel",
          "state": {
            "_view_name": "LayoutView",
            "grid_template_rows": null,
            "right": null,
            "justify_content": null,
            "_view_module": "@jupyter-widgets/base",
            "overflow": null,
            "_model_module_version": "1.2.0",
            "_view_count": null,
            "flex_flow": null,
            "width": null,
            "min_width": null,
            "border": null,
            "align_items": null,
            "bottom": null,
            "_model_module": "@jupyter-widgets/base",
            "top": null,
            "grid_column": null,
            "overflow_y": null,
            "overflow_x": null,
            "grid_auto_flow": null,
            "grid_area": null,
            "grid_template_columns": null,
            "flex": null,
            "_model_name": "LayoutModel",
            "justify_items": null,
            "grid_row": null,
            "max_height": null,
            "align_content": null,
            "visibility": null,
            "align_self": null,
            "height": null,
            "min_height": null,
            "padding": null,
            "grid_auto_rows": null,
            "grid_gap": null,
            "max_width": null,
            "order": null,
            "_view_module_version": "1.2.0",
            "grid_template_areas": null,
            "object_position": null,
            "object_fit": null,
            "grid_auto_columns": null,
            "margin": null,
            "display": null,
            "left": null
          }
        },
        "f0b0e7176190468c849fea309d04384c": {
          "model_module": "@jupyter-widgets/controls",
          "model_name": "HBoxModel",
          "state": {
            "_view_name": "HBoxView",
            "_dom_classes": [],
            "_model_name": "HBoxModel",
            "_view_module": "@jupyter-widgets/controls",
            "_model_module_version": "1.5.0",
            "_view_count": null,
            "_view_module_version": "1.5.0",
            "box_style": "",
            "layout": "IPY_MODEL_d9f3e08c8d8d4cc596b90372462d33b4",
            "_model_module": "@jupyter-widgets/controls",
            "children": [
              "IPY_MODEL_29cfb642c708433f90c867b64c954fbd",
              "IPY_MODEL_a95e1d9a77fa47b98c18a4368b3c88d1"
            ]
          }
        },
        "d9f3e08c8d8d4cc596b90372462d33b4": {
          "model_module": "@jupyter-widgets/base",
          "model_name": "LayoutModel",
          "state": {
            "_view_name": "LayoutView",
            "grid_template_rows": null,
            "right": null,
            "justify_content": null,
            "_view_module": "@jupyter-widgets/base",
            "overflow": null,
            "_model_module_version": "1.2.0",
            "_view_count": null,
            "flex_flow": null,
            "width": null,
            "min_width": null,
            "border": null,
            "align_items": null,
            "bottom": null,
            "_model_module": "@jupyter-widgets/base",
            "top": null,
            "grid_column": null,
            "overflow_y": null,
            "overflow_x": null,
            "grid_auto_flow": null,
            "grid_area": null,
            "grid_template_columns": null,
            "flex": null,
            "_model_name": "LayoutModel",
            "justify_items": null,
            "grid_row": null,
            "max_height": null,
            "align_content": null,
            "visibility": null,
            "align_self": null,
            "height": null,
            "min_height": null,
            "padding": null,
            "grid_auto_rows": null,
            "grid_gap": null,
            "max_width": null,
            "order": null,
            "_view_module_version": "1.2.0",
            "grid_template_areas": null,
            "object_position": null,
            "object_fit": null,
            "grid_auto_columns": null,
            "margin": null,
            "display": null,
            "left": null
          }
        },
        "29cfb642c708433f90c867b64c954fbd": {
          "model_module": "@jupyter-widgets/controls",
          "model_name": "FloatProgressModel",
          "state": {
            "_view_name": "ProgressView",
            "style": "IPY_MODEL_8b8e2abb67724f4392a0626e28169bea",
            "_dom_classes": [],
            "description": "",
            "_model_name": "FloatProgressModel",
            "bar_style": "",
            "max": 48,
            "_view_module": "@jupyter-widgets/controls",
            "_model_module_version": "1.5.0",
            "value": 48,
            "_view_count": null,
            "_view_module_version": "1.5.0",
            "orientation": "horizontal",
            "min": 0,
            "description_tooltip": null,
            "_model_module": "@jupyter-widgets/controls",
            "layout": "IPY_MODEL_18de6a78c5a14dbaa44447dda145eb35"
          }
        },
        "a95e1d9a77fa47b98c18a4368b3c88d1": {
          "model_module": "@jupyter-widgets/controls",
          "model_name": "HTMLModel",
          "state": {
            "_view_name": "HTMLView",
            "style": "IPY_MODEL_9769aacc2f2846f6aa5791aac1b15cda",
            "_dom_classes": [],
            "description": "",
            "_model_name": "HTMLModel",
            "placeholder": "​",
            "_view_module": "@jupyter-widgets/controls",
            "_model_module_version": "1.5.0",
            "value": " 54/? [00:03&lt;00:00,  9.94it/s]",
            "_view_count": null,
            "_view_module_version": "1.5.0",
            "description_tooltip": null,
            "_model_module": "@jupyter-widgets/controls",
            "layout": "IPY_MODEL_1e094fb5ce1744f6b99670dbae5fe3dc"
          }
        },
        "8b8e2abb67724f4392a0626e28169bea": {
          "model_module": "@jupyter-widgets/controls",
          "model_name": "ProgressStyleModel",
          "state": {
            "_view_name": "StyleView",
            "_model_name": "ProgressStyleModel",
            "description_width": "initial",
            "_view_module": "@jupyter-widgets/base",
            "_model_module_version": "1.5.0",
            "_view_count": null,
            "_view_module_version": "1.2.0",
            "bar_color": null,
            "_model_module": "@jupyter-widgets/controls"
          }
        },
        "18de6a78c5a14dbaa44447dda145eb35": {
          "model_module": "@jupyter-widgets/base",
          "model_name": "LayoutModel",
          "state": {
            "_view_name": "LayoutView",
            "grid_template_rows": null,
            "right": null,
            "justify_content": null,
            "_view_module": "@jupyter-widgets/base",
            "overflow": null,
            "_model_module_version": "1.2.0",
            "_view_count": null,
            "flex_flow": null,
            "width": null,
            "min_width": null,
            "border": null,
            "align_items": null,
            "bottom": null,
            "_model_module": "@jupyter-widgets/base",
            "top": null,
            "grid_column": null,
            "overflow_y": null,
            "overflow_x": null,
            "grid_auto_flow": null,
            "grid_area": null,
            "grid_template_columns": null,
            "flex": null,
            "_model_name": "LayoutModel",
            "justify_items": null,
            "grid_row": null,
            "max_height": null,
            "align_content": null,
            "visibility": null,
            "align_self": null,
            "height": null,
            "min_height": null,
            "padding": null,
            "grid_auto_rows": null,
            "grid_gap": null,
            "max_width": null,
            "order": null,
            "_view_module_version": "1.2.0",
            "grid_template_areas": null,
            "object_position": null,
            "object_fit": null,
            "grid_auto_columns": null,
            "margin": null,
            "display": null,
            "left": null
          }
        },
        "9769aacc2f2846f6aa5791aac1b15cda": {
          "model_module": "@jupyter-widgets/controls",
          "model_name": "DescriptionStyleModel",
          "state": {
            "_view_name": "StyleView",
            "_model_name": "DescriptionStyleModel",
            "description_width": "",
            "_view_module": "@jupyter-widgets/base",
            "_model_module_version": "1.5.0",
            "_view_count": null,
            "_view_module_version": "1.2.0",
            "_model_module": "@jupyter-widgets/controls"
          }
        },
        "1e094fb5ce1744f6b99670dbae5fe3dc": {
          "model_module": "@jupyter-widgets/base",
          "model_name": "LayoutModel",
          "state": {
            "_view_name": "LayoutView",
            "grid_template_rows": null,
            "right": null,
            "justify_content": null,
            "_view_module": "@jupyter-widgets/base",
            "overflow": null,
            "_model_module_version": "1.2.0",
            "_view_count": null,
            "flex_flow": null,
            "width": null,
            "min_width": null,
            "border": null,
            "align_items": null,
            "bottom": null,
            "_model_module": "@jupyter-widgets/base",
            "top": null,
            "grid_column": null,
            "overflow_y": null,
            "overflow_x": null,
            "grid_auto_flow": null,
            "grid_area": null,
            "grid_template_columns": null,
            "flex": null,
            "_model_name": "LayoutModel",
            "justify_items": null,
            "grid_row": null,
            "max_height": null,
            "align_content": null,
            "visibility": null,
            "align_self": null,
            "height": null,
            "min_height": null,
            "padding": null,
            "grid_auto_rows": null,
            "grid_gap": null,
            "max_width": null,
            "order": null,
            "_view_module_version": "1.2.0",
            "grid_template_areas": null,
            "object_position": null,
            "object_fit": null,
            "grid_auto_columns": null,
            "margin": null,
            "display": null,
            "left": null
          }
        },
        "f1476ef36a974ee2808032b36480cc12": {
          "model_module": "@jupyter-widgets/controls",
          "model_name": "HBoxModel",
          "state": {
            "_view_name": "HBoxView",
            "_dom_classes": [],
            "_model_name": "HBoxModel",
            "_view_module": "@jupyter-widgets/controls",
            "_model_module_version": "1.5.0",
            "_view_count": null,
            "_view_module_version": "1.5.0",
            "box_style": "",
            "layout": "IPY_MODEL_4e6bd663b47f4d96a032ea3bb13e0ac0",
            "_model_module": "@jupyter-widgets/controls",
            "children": [
              "IPY_MODEL_72103409250044a08510fff7bfaadcfb",
              "IPY_MODEL_2ef220c1545242698a74b198f7912f7f"
            ]
          }
        },
        "4e6bd663b47f4d96a032ea3bb13e0ac0": {
          "model_module": "@jupyter-widgets/base",
          "model_name": "LayoutModel",
          "state": {
            "_view_name": "LayoutView",
            "grid_template_rows": null,
            "right": null,
            "justify_content": null,
            "_view_module": "@jupyter-widgets/base",
            "overflow": null,
            "_model_module_version": "1.2.0",
            "_view_count": null,
            "flex_flow": null,
            "width": null,
            "min_width": null,
            "border": null,
            "align_items": null,
            "bottom": null,
            "_model_module": "@jupyter-widgets/base",
            "top": null,
            "grid_column": null,
            "overflow_y": null,
            "overflow_x": null,
            "grid_auto_flow": null,
            "grid_area": null,
            "grid_template_columns": null,
            "flex": null,
            "_model_name": "LayoutModel",
            "justify_items": null,
            "grid_row": null,
            "max_height": null,
            "align_content": null,
            "visibility": null,
            "align_self": null,
            "height": null,
            "min_height": null,
            "padding": null,
            "grid_auto_rows": null,
            "grid_gap": null,
            "max_width": null,
            "order": null,
            "_view_module_version": "1.2.0",
            "grid_template_areas": null,
            "object_position": null,
            "object_fit": null,
            "grid_auto_columns": null,
            "margin": null,
            "display": null,
            "left": null
          }
        },
        "72103409250044a08510fff7bfaadcfb": {
          "model_module": "@jupyter-widgets/controls",
          "model_name": "FloatProgressModel",
          "state": {
            "_view_name": "ProgressView",
            "style": "IPY_MODEL_8610557951674c15b432898df00f9420",
            "_dom_classes": [],
            "description": "",
            "_model_name": "FloatProgressModel",
            "bar_style": "",
            "max": 48,
            "_view_module": "@jupyter-widgets/controls",
            "_model_module_version": "1.5.0",
            "value": 48,
            "_view_count": null,
            "_view_module_version": "1.5.0",
            "orientation": "horizontal",
            "min": 0,
            "description_tooltip": null,
            "_model_module": "@jupyter-widgets/controls",
            "layout": "IPY_MODEL_306bd3dfcdf14ebfa462c92e55a41ace"
          }
        },
        "2ef220c1545242698a74b198f7912f7f": {
          "model_module": "@jupyter-widgets/controls",
          "model_name": "HTMLModel",
          "state": {
            "_view_name": "HTMLView",
            "style": "IPY_MODEL_9034ba21f1844ee38efd2df914172a95",
            "_dom_classes": [],
            "description": "",
            "_model_name": "HTMLModel",
            "placeholder": "​",
            "_view_module": "@jupyter-widgets/controls",
            "_model_module_version": "1.5.0",
            "value": " 54/? [00:03&lt;00:00,  9.98it/s]",
            "_view_count": null,
            "_view_module_version": "1.5.0",
            "description_tooltip": null,
            "_model_module": "@jupyter-widgets/controls",
            "layout": "IPY_MODEL_0b0a6618ff0a48ef89a962dc17f94e7d"
          }
        },
        "8610557951674c15b432898df00f9420": {
          "model_module": "@jupyter-widgets/controls",
          "model_name": "ProgressStyleModel",
          "state": {
            "_view_name": "StyleView",
            "_model_name": "ProgressStyleModel",
            "description_width": "initial",
            "_view_module": "@jupyter-widgets/base",
            "_model_module_version": "1.5.0",
            "_view_count": null,
            "_view_module_version": "1.2.0",
            "bar_color": null,
            "_model_module": "@jupyter-widgets/controls"
          }
        },
        "306bd3dfcdf14ebfa462c92e55a41ace": {
          "model_module": "@jupyter-widgets/base",
          "model_name": "LayoutModel",
          "state": {
            "_view_name": "LayoutView",
            "grid_template_rows": null,
            "right": null,
            "justify_content": null,
            "_view_module": "@jupyter-widgets/base",
            "overflow": null,
            "_model_module_version": "1.2.0",
            "_view_count": null,
            "flex_flow": null,
            "width": null,
            "min_width": null,
            "border": null,
            "align_items": null,
            "bottom": null,
            "_model_module": "@jupyter-widgets/base",
            "top": null,
            "grid_column": null,
            "overflow_y": null,
            "overflow_x": null,
            "grid_auto_flow": null,
            "grid_area": null,
            "grid_template_columns": null,
            "flex": null,
            "_model_name": "LayoutModel",
            "justify_items": null,
            "grid_row": null,
            "max_height": null,
            "align_content": null,
            "visibility": null,
            "align_self": null,
            "height": null,
            "min_height": null,
            "padding": null,
            "grid_auto_rows": null,
            "grid_gap": null,
            "max_width": null,
            "order": null,
            "_view_module_version": "1.2.0",
            "grid_template_areas": null,
            "object_position": null,
            "object_fit": null,
            "grid_auto_columns": null,
            "margin": null,
            "display": null,
            "left": null
          }
        },
        "9034ba21f1844ee38efd2df914172a95": {
          "model_module": "@jupyter-widgets/controls",
          "model_name": "DescriptionStyleModel",
          "state": {
            "_view_name": "StyleView",
            "_model_name": "DescriptionStyleModel",
            "description_width": "",
            "_view_module": "@jupyter-widgets/base",
            "_model_module_version": "1.5.0",
            "_view_count": null,
            "_view_module_version": "1.2.0",
            "_model_module": "@jupyter-widgets/controls"
          }
        },
        "0b0a6618ff0a48ef89a962dc17f94e7d": {
          "model_module": "@jupyter-widgets/base",
          "model_name": "LayoutModel",
          "state": {
            "_view_name": "LayoutView",
            "grid_template_rows": null,
            "right": null,
            "justify_content": null,
            "_view_module": "@jupyter-widgets/base",
            "overflow": null,
            "_model_module_version": "1.2.0",
            "_view_count": null,
            "flex_flow": null,
            "width": null,
            "min_width": null,
            "border": null,
            "align_items": null,
            "bottom": null,
            "_model_module": "@jupyter-widgets/base",
            "top": null,
            "grid_column": null,
            "overflow_y": null,
            "overflow_x": null,
            "grid_auto_flow": null,
            "grid_area": null,
            "grid_template_columns": null,
            "flex": null,
            "_model_name": "LayoutModel",
            "justify_items": null,
            "grid_row": null,
            "max_height": null,
            "align_content": null,
            "visibility": null,
            "align_self": null,
            "height": null,
            "min_height": null,
            "padding": null,
            "grid_auto_rows": null,
            "grid_gap": null,
            "max_width": null,
            "order": null,
            "_view_module_version": "1.2.0",
            "grid_template_areas": null,
            "object_position": null,
            "object_fit": null,
            "grid_auto_columns": null,
            "margin": null,
            "display": null,
            "left": null
          }
        },
        "524aef4fb6db406cb984b7c7e0381313": {
          "model_module": "@jupyter-widgets/controls",
          "model_name": "HBoxModel",
          "state": {
            "_view_name": "HBoxView",
            "_dom_classes": [],
            "_model_name": "HBoxModel",
            "_view_module": "@jupyter-widgets/controls",
            "_model_module_version": "1.5.0",
            "_view_count": null,
            "_view_module_version": "1.5.0",
            "box_style": "",
            "layout": "IPY_MODEL_38193b43d7f94ccfa981b361f88c165c",
            "_model_module": "@jupyter-widgets/controls",
            "children": [
              "IPY_MODEL_380a709f16d443c48ce51366977bec55",
              "IPY_MODEL_d99c64af344149b3bdd698d394f68e0e"
            ]
          }
        },
        "38193b43d7f94ccfa981b361f88c165c": {
          "model_module": "@jupyter-widgets/base",
          "model_name": "LayoutModel",
          "state": {
            "_view_name": "LayoutView",
            "grid_template_rows": null,
            "right": null,
            "justify_content": null,
            "_view_module": "@jupyter-widgets/base",
            "overflow": null,
            "_model_module_version": "1.2.0",
            "_view_count": null,
            "flex_flow": null,
            "width": null,
            "min_width": null,
            "border": null,
            "align_items": null,
            "bottom": null,
            "_model_module": "@jupyter-widgets/base",
            "top": null,
            "grid_column": null,
            "overflow_y": null,
            "overflow_x": null,
            "grid_auto_flow": null,
            "grid_area": null,
            "grid_template_columns": null,
            "flex": null,
            "_model_name": "LayoutModel",
            "justify_items": null,
            "grid_row": null,
            "max_height": null,
            "align_content": null,
            "visibility": null,
            "align_self": null,
            "height": null,
            "min_height": null,
            "padding": null,
            "grid_auto_rows": null,
            "grid_gap": null,
            "max_width": null,
            "order": null,
            "_view_module_version": "1.2.0",
            "grid_template_areas": null,
            "object_position": null,
            "object_fit": null,
            "grid_auto_columns": null,
            "margin": null,
            "display": null,
            "left": null
          }
        },
        "380a709f16d443c48ce51366977bec55": {
          "model_module": "@jupyter-widgets/controls",
          "model_name": "FloatProgressModel",
          "state": {
            "_view_name": "ProgressView",
            "style": "IPY_MODEL_65875a6b6d0a4d7599f702cb7b4b1eee",
            "_dom_classes": [],
            "description": "",
            "_model_name": "FloatProgressModel",
            "bar_style": "",
            "max": 48,
            "_view_module": "@jupyter-widgets/controls",
            "_model_module_version": "1.5.0",
            "value": 48,
            "_view_count": null,
            "_view_module_version": "1.5.0",
            "orientation": "horizontal",
            "min": 0,
            "description_tooltip": null,
            "_model_module": "@jupyter-widgets/controls",
            "layout": "IPY_MODEL_54305426ed4a403eaa0e79ef44ac237f"
          }
        },
        "d99c64af344149b3bdd698d394f68e0e": {
          "model_module": "@jupyter-widgets/controls",
          "model_name": "HTMLModel",
          "state": {
            "_view_name": "HTMLView",
            "style": "IPY_MODEL_7e10cf72aa7d446cafa9e53f68602868",
            "_dom_classes": [],
            "description": "",
            "_model_name": "HTMLModel",
            "placeholder": "​",
            "_view_module": "@jupyter-widgets/controls",
            "_model_module_version": "1.5.0",
            "value": " 54/? [00:03&lt;00:00,  9.78it/s]",
            "_view_count": null,
            "_view_module_version": "1.5.0",
            "description_tooltip": null,
            "_model_module": "@jupyter-widgets/controls",
            "layout": "IPY_MODEL_5125fad968094a6d8e8c9a8756da95c8"
          }
        },
        "65875a6b6d0a4d7599f702cb7b4b1eee": {
          "model_module": "@jupyter-widgets/controls",
          "model_name": "ProgressStyleModel",
          "state": {
            "_view_name": "StyleView",
            "_model_name": "ProgressStyleModel",
            "description_width": "initial",
            "_view_module": "@jupyter-widgets/base",
            "_model_module_version": "1.5.0",
            "_view_count": null,
            "_view_module_version": "1.2.0",
            "bar_color": null,
            "_model_module": "@jupyter-widgets/controls"
          }
        },
        "54305426ed4a403eaa0e79ef44ac237f": {
          "model_module": "@jupyter-widgets/base",
          "model_name": "LayoutModel",
          "state": {
            "_view_name": "LayoutView",
            "grid_template_rows": null,
            "right": null,
            "justify_content": null,
            "_view_module": "@jupyter-widgets/base",
            "overflow": null,
            "_model_module_version": "1.2.0",
            "_view_count": null,
            "flex_flow": null,
            "width": null,
            "min_width": null,
            "border": null,
            "align_items": null,
            "bottom": null,
            "_model_module": "@jupyter-widgets/base",
            "top": null,
            "grid_column": null,
            "overflow_y": null,
            "overflow_x": null,
            "grid_auto_flow": null,
            "grid_area": null,
            "grid_template_columns": null,
            "flex": null,
            "_model_name": "LayoutModel",
            "justify_items": null,
            "grid_row": null,
            "max_height": null,
            "align_content": null,
            "visibility": null,
            "align_self": null,
            "height": null,
            "min_height": null,
            "padding": null,
            "grid_auto_rows": null,
            "grid_gap": null,
            "max_width": null,
            "order": null,
            "_view_module_version": "1.2.0",
            "grid_template_areas": null,
            "object_position": null,
            "object_fit": null,
            "grid_auto_columns": null,
            "margin": null,
            "display": null,
            "left": null
          }
        },
        "7e10cf72aa7d446cafa9e53f68602868": {
          "model_module": "@jupyter-widgets/controls",
          "model_name": "DescriptionStyleModel",
          "state": {
            "_view_name": "StyleView",
            "_model_name": "DescriptionStyleModel",
            "description_width": "",
            "_view_module": "@jupyter-widgets/base",
            "_model_module_version": "1.5.0",
            "_view_count": null,
            "_view_module_version": "1.2.0",
            "_model_module": "@jupyter-widgets/controls"
          }
        },
        "5125fad968094a6d8e8c9a8756da95c8": {
          "model_module": "@jupyter-widgets/base",
          "model_name": "LayoutModel",
          "state": {
            "_view_name": "LayoutView",
            "grid_template_rows": null,
            "right": null,
            "justify_content": null,
            "_view_module": "@jupyter-widgets/base",
            "overflow": null,
            "_model_module_version": "1.2.0",
            "_view_count": null,
            "flex_flow": null,
            "width": null,
            "min_width": null,
            "border": null,
            "align_items": null,
            "bottom": null,
            "_model_module": "@jupyter-widgets/base",
            "top": null,
            "grid_column": null,
            "overflow_y": null,
            "overflow_x": null,
            "grid_auto_flow": null,
            "grid_area": null,
            "grid_template_columns": null,
            "flex": null,
            "_model_name": "LayoutModel",
            "justify_items": null,
            "grid_row": null,
            "max_height": null,
            "align_content": null,
            "visibility": null,
            "align_self": null,
            "height": null,
            "min_height": null,
            "padding": null,
            "grid_auto_rows": null,
            "grid_gap": null,
            "max_width": null,
            "order": null,
            "_view_module_version": "1.2.0",
            "grid_template_areas": null,
            "object_position": null,
            "object_fit": null,
            "grid_auto_columns": null,
            "margin": null,
            "display": null,
            "left": null
          }
        },
        "5d9ad076bed349f0afa93b65082ea7f5": {
          "model_module": "@jupyter-widgets/controls",
          "model_name": "HBoxModel",
          "state": {
            "_view_name": "HBoxView",
            "_dom_classes": [],
            "_model_name": "HBoxModel",
            "_view_module": "@jupyter-widgets/controls",
            "_model_module_version": "1.5.0",
            "_view_count": null,
            "_view_module_version": "1.5.0",
            "box_style": "",
            "layout": "IPY_MODEL_3364c99ba34341c3a106b055cfddbbd8",
            "_model_module": "@jupyter-widgets/controls",
            "children": [
              "IPY_MODEL_60777b6df7c6411082a9d4b70bf4f73f",
              "IPY_MODEL_843e18bea77242ae9b8ed268558b14a9"
            ]
          }
        },
        "3364c99ba34341c3a106b055cfddbbd8": {
          "model_module": "@jupyter-widgets/base",
          "model_name": "LayoutModel",
          "state": {
            "_view_name": "LayoutView",
            "grid_template_rows": null,
            "right": null,
            "justify_content": null,
            "_view_module": "@jupyter-widgets/base",
            "overflow": null,
            "_model_module_version": "1.2.0",
            "_view_count": null,
            "flex_flow": null,
            "width": null,
            "min_width": null,
            "border": null,
            "align_items": null,
            "bottom": null,
            "_model_module": "@jupyter-widgets/base",
            "top": null,
            "grid_column": null,
            "overflow_y": null,
            "overflow_x": null,
            "grid_auto_flow": null,
            "grid_area": null,
            "grid_template_columns": null,
            "flex": null,
            "_model_name": "LayoutModel",
            "justify_items": null,
            "grid_row": null,
            "max_height": null,
            "align_content": null,
            "visibility": null,
            "align_self": null,
            "height": null,
            "min_height": null,
            "padding": null,
            "grid_auto_rows": null,
            "grid_gap": null,
            "max_width": null,
            "order": null,
            "_view_module_version": "1.2.0",
            "grid_template_areas": null,
            "object_position": null,
            "object_fit": null,
            "grid_auto_columns": null,
            "margin": null,
            "display": null,
            "left": null
          }
        },
        "60777b6df7c6411082a9d4b70bf4f73f": {
          "model_module": "@jupyter-widgets/controls",
          "model_name": "FloatProgressModel",
          "state": {
            "_view_name": "ProgressView",
            "style": "IPY_MODEL_813704335a6c4d3187c225ea1fc3df29",
            "_dom_classes": [],
            "description": "",
            "_model_name": "FloatProgressModel",
            "bar_style": "",
            "max": 48,
            "_view_module": "@jupyter-widgets/controls",
            "_model_module_version": "1.5.0",
            "value": 48,
            "_view_count": null,
            "_view_module_version": "1.5.0",
            "orientation": "horizontal",
            "min": 0,
            "description_tooltip": null,
            "_model_module": "@jupyter-widgets/controls",
            "layout": "IPY_MODEL_e4eac4f353084ff8924c697c6c38dd64"
          }
        },
        "843e18bea77242ae9b8ed268558b14a9": {
          "model_module": "@jupyter-widgets/controls",
          "model_name": "HTMLModel",
          "state": {
            "_view_name": "HTMLView",
            "style": "IPY_MODEL_2935c2daace24fefb327b948f59f8279",
            "_dom_classes": [],
            "description": "",
            "_model_name": "HTMLModel",
            "placeholder": "​",
            "_view_module": "@jupyter-widgets/controls",
            "_model_module_version": "1.5.0",
            "value": " 54/? [00:03&lt;00:00,  9.84it/s]",
            "_view_count": null,
            "_view_module_version": "1.5.0",
            "description_tooltip": null,
            "_model_module": "@jupyter-widgets/controls",
            "layout": "IPY_MODEL_4ec92745eac14550af16ef55cb3cf4d2"
          }
        },
        "813704335a6c4d3187c225ea1fc3df29": {
          "model_module": "@jupyter-widgets/controls",
          "model_name": "ProgressStyleModel",
          "state": {
            "_view_name": "StyleView",
            "_model_name": "ProgressStyleModel",
            "description_width": "initial",
            "_view_module": "@jupyter-widgets/base",
            "_model_module_version": "1.5.0",
            "_view_count": null,
            "_view_module_version": "1.2.0",
            "bar_color": null,
            "_model_module": "@jupyter-widgets/controls"
          }
        },
        "e4eac4f353084ff8924c697c6c38dd64": {
          "model_module": "@jupyter-widgets/base",
          "model_name": "LayoutModel",
          "state": {
            "_view_name": "LayoutView",
            "grid_template_rows": null,
            "right": null,
            "justify_content": null,
            "_view_module": "@jupyter-widgets/base",
            "overflow": null,
            "_model_module_version": "1.2.0",
            "_view_count": null,
            "flex_flow": null,
            "width": null,
            "min_width": null,
            "border": null,
            "align_items": null,
            "bottom": null,
            "_model_module": "@jupyter-widgets/base",
            "top": null,
            "grid_column": null,
            "overflow_y": null,
            "overflow_x": null,
            "grid_auto_flow": null,
            "grid_area": null,
            "grid_template_columns": null,
            "flex": null,
            "_model_name": "LayoutModel",
            "justify_items": null,
            "grid_row": null,
            "max_height": null,
            "align_content": null,
            "visibility": null,
            "align_self": null,
            "height": null,
            "min_height": null,
            "padding": null,
            "grid_auto_rows": null,
            "grid_gap": null,
            "max_width": null,
            "order": null,
            "_view_module_version": "1.2.0",
            "grid_template_areas": null,
            "object_position": null,
            "object_fit": null,
            "grid_auto_columns": null,
            "margin": null,
            "display": null,
            "left": null
          }
        },
        "2935c2daace24fefb327b948f59f8279": {
          "model_module": "@jupyter-widgets/controls",
          "model_name": "DescriptionStyleModel",
          "state": {
            "_view_name": "StyleView",
            "_model_name": "DescriptionStyleModel",
            "description_width": "",
            "_view_module": "@jupyter-widgets/base",
            "_model_module_version": "1.5.0",
            "_view_count": null,
            "_view_module_version": "1.2.0",
            "_model_module": "@jupyter-widgets/controls"
          }
        },
        "4ec92745eac14550af16ef55cb3cf4d2": {
          "model_module": "@jupyter-widgets/base",
          "model_name": "LayoutModel",
          "state": {
            "_view_name": "LayoutView",
            "grid_template_rows": null,
            "right": null,
            "justify_content": null,
            "_view_module": "@jupyter-widgets/base",
            "overflow": null,
            "_model_module_version": "1.2.0",
            "_view_count": null,
            "flex_flow": null,
            "width": null,
            "min_width": null,
            "border": null,
            "align_items": null,
            "bottom": null,
            "_model_module": "@jupyter-widgets/base",
            "top": null,
            "grid_column": null,
            "overflow_y": null,
            "overflow_x": null,
            "grid_auto_flow": null,
            "grid_area": null,
            "grid_template_columns": null,
            "flex": null,
            "_model_name": "LayoutModel",
            "justify_items": null,
            "grid_row": null,
            "max_height": null,
            "align_content": null,
            "visibility": null,
            "align_self": null,
            "height": null,
            "min_height": null,
            "padding": null,
            "grid_auto_rows": null,
            "grid_gap": null,
            "max_width": null,
            "order": null,
            "_view_module_version": "1.2.0",
            "grid_template_areas": null,
            "object_position": null,
            "object_fit": null,
            "grid_auto_columns": null,
            "margin": null,
            "display": null,
            "left": null
          }
        },
        "58106eb3133b4363b6f80125d63cb8f5": {
          "model_module": "@jupyter-widgets/controls",
          "model_name": "HBoxModel",
          "state": {
            "_view_name": "HBoxView",
            "_dom_classes": [],
            "_model_name": "HBoxModel",
            "_view_module": "@jupyter-widgets/controls",
            "_model_module_version": "1.5.0",
            "_view_count": null,
            "_view_module_version": "1.5.0",
            "box_style": "",
            "layout": "IPY_MODEL_d974fc6795cc4561a94cd9eee9922f1e",
            "_model_module": "@jupyter-widgets/controls",
            "children": [
              "IPY_MODEL_ea57618f2531423ab0a91bdd9e816b71",
              "IPY_MODEL_745a34849aed42c88b1be34f3fc7c05c"
            ]
          }
        },
        "d974fc6795cc4561a94cd9eee9922f1e": {
          "model_module": "@jupyter-widgets/base",
          "model_name": "LayoutModel",
          "state": {
            "_view_name": "LayoutView",
            "grid_template_rows": null,
            "right": null,
            "justify_content": null,
            "_view_module": "@jupyter-widgets/base",
            "overflow": null,
            "_model_module_version": "1.2.0",
            "_view_count": null,
            "flex_flow": null,
            "width": null,
            "min_width": null,
            "border": null,
            "align_items": null,
            "bottom": null,
            "_model_module": "@jupyter-widgets/base",
            "top": null,
            "grid_column": null,
            "overflow_y": null,
            "overflow_x": null,
            "grid_auto_flow": null,
            "grid_area": null,
            "grid_template_columns": null,
            "flex": null,
            "_model_name": "LayoutModel",
            "justify_items": null,
            "grid_row": null,
            "max_height": null,
            "align_content": null,
            "visibility": null,
            "align_self": null,
            "height": null,
            "min_height": null,
            "padding": null,
            "grid_auto_rows": null,
            "grid_gap": null,
            "max_width": null,
            "order": null,
            "_view_module_version": "1.2.0",
            "grid_template_areas": null,
            "object_position": null,
            "object_fit": null,
            "grid_auto_columns": null,
            "margin": null,
            "display": null,
            "left": null
          }
        },
        "ea57618f2531423ab0a91bdd9e816b71": {
          "model_module": "@jupyter-widgets/controls",
          "model_name": "FloatProgressModel",
          "state": {
            "_view_name": "ProgressView",
            "style": "IPY_MODEL_9e14b1b5056847f6871deecf6ecb551b",
            "_dom_classes": [],
            "description": "",
            "_model_name": "FloatProgressModel",
            "bar_style": "",
            "max": 48,
            "_view_module": "@jupyter-widgets/controls",
            "_model_module_version": "1.5.0",
            "value": 48,
            "_view_count": null,
            "_view_module_version": "1.5.0",
            "orientation": "horizontal",
            "min": 0,
            "description_tooltip": null,
            "_model_module": "@jupyter-widgets/controls",
            "layout": "IPY_MODEL_91e77ba8d00d46c0a914324d69b47cfa"
          }
        },
        "745a34849aed42c88b1be34f3fc7c05c": {
          "model_module": "@jupyter-widgets/controls",
          "model_name": "HTMLModel",
          "state": {
            "_view_name": "HTMLView",
            "style": "IPY_MODEL_87ceab0883dd467ebd80b98b45144eec",
            "_dom_classes": [],
            "description": "",
            "_model_name": "HTMLModel",
            "placeholder": "​",
            "_view_module": "@jupyter-widgets/controls",
            "_model_module_version": "1.5.0",
            "value": " 54/? [00:03&lt;00:00,  9.71it/s]",
            "_view_count": null,
            "_view_module_version": "1.5.0",
            "description_tooltip": null,
            "_model_module": "@jupyter-widgets/controls",
            "layout": "IPY_MODEL_1ebc0f547f3143ccaf1ba3d7d1e896a8"
          }
        },
        "9e14b1b5056847f6871deecf6ecb551b": {
          "model_module": "@jupyter-widgets/controls",
          "model_name": "ProgressStyleModel",
          "state": {
            "_view_name": "StyleView",
            "_model_name": "ProgressStyleModel",
            "description_width": "initial",
            "_view_module": "@jupyter-widgets/base",
            "_model_module_version": "1.5.0",
            "_view_count": null,
            "_view_module_version": "1.2.0",
            "bar_color": null,
            "_model_module": "@jupyter-widgets/controls"
          }
        },
        "91e77ba8d00d46c0a914324d69b47cfa": {
          "model_module": "@jupyter-widgets/base",
          "model_name": "LayoutModel",
          "state": {
            "_view_name": "LayoutView",
            "grid_template_rows": null,
            "right": null,
            "justify_content": null,
            "_view_module": "@jupyter-widgets/base",
            "overflow": null,
            "_model_module_version": "1.2.0",
            "_view_count": null,
            "flex_flow": null,
            "width": null,
            "min_width": null,
            "border": null,
            "align_items": null,
            "bottom": null,
            "_model_module": "@jupyter-widgets/base",
            "top": null,
            "grid_column": null,
            "overflow_y": null,
            "overflow_x": null,
            "grid_auto_flow": null,
            "grid_area": null,
            "grid_template_columns": null,
            "flex": null,
            "_model_name": "LayoutModel",
            "justify_items": null,
            "grid_row": null,
            "max_height": null,
            "align_content": null,
            "visibility": null,
            "align_self": null,
            "height": null,
            "min_height": null,
            "padding": null,
            "grid_auto_rows": null,
            "grid_gap": null,
            "max_width": null,
            "order": null,
            "_view_module_version": "1.2.0",
            "grid_template_areas": null,
            "object_position": null,
            "object_fit": null,
            "grid_auto_columns": null,
            "margin": null,
            "display": null,
            "left": null
          }
        },
        "87ceab0883dd467ebd80b98b45144eec": {
          "model_module": "@jupyter-widgets/controls",
          "model_name": "DescriptionStyleModel",
          "state": {
            "_view_name": "StyleView",
            "_model_name": "DescriptionStyleModel",
            "description_width": "",
            "_view_module": "@jupyter-widgets/base",
            "_model_module_version": "1.5.0",
            "_view_count": null,
            "_view_module_version": "1.2.0",
            "_model_module": "@jupyter-widgets/controls"
          }
        },
        "1ebc0f547f3143ccaf1ba3d7d1e896a8": {
          "model_module": "@jupyter-widgets/base",
          "model_name": "LayoutModel",
          "state": {
            "_view_name": "LayoutView",
            "grid_template_rows": null,
            "right": null,
            "justify_content": null,
            "_view_module": "@jupyter-widgets/base",
            "overflow": null,
            "_model_module_version": "1.2.0",
            "_view_count": null,
            "flex_flow": null,
            "width": null,
            "min_width": null,
            "border": null,
            "align_items": null,
            "bottom": null,
            "_model_module": "@jupyter-widgets/base",
            "top": null,
            "grid_column": null,
            "overflow_y": null,
            "overflow_x": null,
            "grid_auto_flow": null,
            "grid_area": null,
            "grid_template_columns": null,
            "flex": null,
            "_model_name": "LayoutModel",
            "justify_items": null,
            "grid_row": null,
            "max_height": null,
            "align_content": null,
            "visibility": null,
            "align_self": null,
            "height": null,
            "min_height": null,
            "padding": null,
            "grid_auto_rows": null,
            "grid_gap": null,
            "max_width": null,
            "order": null,
            "_view_module_version": "1.2.0",
            "grid_template_areas": null,
            "object_position": null,
            "object_fit": null,
            "grid_auto_columns": null,
            "margin": null,
            "display": null,
            "left": null
          }
        }
      }
    }
  },
  "cells": [
    {
      "cell_type": "markdown",
      "metadata": {
        "id": "view-in-github",
        "colab_type": "text"
      },
      "source": [
        "<a href=\"https://colab.research.google.com/github/transformernlp/explainablility/blob/main/shap_imdb.ipynb\" target=\"_parent\"><img src=\"https://colab.research.google.com/assets/colab-badge.svg\" alt=\"Open In Colab\"/></a>"
      ]
    },
    {
      "cell_type": "code",
      "metadata": {
        "colab": {
          "base_uri": "https://localhost:8080/"
        },
        "id": "-f96XpqDvO26",
        "outputId": "ed9d2e16-5502-467d-ae27-5ef3b0143411"
      },
      "source": [
        "!pip -q install shap transformers datasets"
      ],
      "execution_count": null,
      "outputs": [
        {
          "output_type": "stream",
          "text": [
            "\u001b[K     |████████████████████████████████| 358kB 12.0MB/s \n",
            "\u001b[K     |████████████████████████████████| 2.3MB 20.7MB/s \n",
            "\u001b[K     |████████████████████████████████| 245kB 36.1MB/s \n",
            "\u001b[K     |████████████████████████████████| 3.3MB 28.2MB/s \n",
            "\u001b[K     |████████████████████████████████| 901kB 31.8MB/s \n",
            "\u001b[K     |████████████████████████████████| 245kB 38.2MB/s \n",
            "\u001b[K     |████████████████████████████████| 122kB 45.3MB/s \n",
            "\u001b[?25h  Building wheel for shap (setup.py) ... \u001b[?25l\u001b[?25hdone\n"
          ],
          "name": "stdout"
        }
      ]
    },
    {
      "cell_type": "code",
      "metadata": {
        "id": "OkB-AwN7vbvJ"
      },
      "source": [
        "import transformers\n",
        "import datasets\n",
        "import shap\n",
        "import numpy as np"
      ],
      "execution_count": null,
      "outputs": []
    },
    {
      "cell_type": "code",
      "metadata": {
        "colab": {
          "base_uri": "https://localhost:8080/",
          "height": 218,
          "referenced_widgets": [
            "835b0d070fca464db9e197d4a3e88bf7",
            "e8fbf0209cf041be94d31e4a74a148fd",
            "76315fb194e142e881f22eec7268810c",
            "405534efbffd4282976c9626e9cc0588",
            "8a119fa151444dd2b87e29845ea6ffca",
            "5b6ade4f18c643cf91830dc62ac1f576",
            "0780e5573cc04b5a81d8e7861b603213",
            "7a35e024c6bb430bbae5e03a29887edd",
            "5bc3cacde52e497893c8f4119439747d",
            "422171d916fa4229b55e88e56d21c183",
            "8d0506da012a402cbd4f27843862fe07",
            "81602da7f1854a3ab65e46a215b98a76",
            "7d0b859668024d1a849431f4952579f5",
            "fee7059593f14d92b914048063681450",
            "67ceac60308045808694d2a1ef215af4",
            "f687580a0ee0466e8a65f91708529c54",
            "401122e0da6b4c42b166d9d85ae6db55",
            "1c41822712764ca9894a86d8a5fd6659",
            "e454fe1291ff4c0fae861578f999ac19",
            "d7fd8cfa859a4ec3bee1a50214862f53",
            "e9055f35b5654101b9b6d34a5ac1da5c",
            "f286a2983cae413594c9ca34cb4945ce",
            "06195178bb6a432ca394347f80e15ebb",
            "3ec76175d0d748f89a67940779c8b826",
            "71d723a0206b4f9cb9d4b93356cbc40a",
            "d231b419e132407ea98a758249d9e446",
            "8a0bdb2c1c744f2e8ba9d8125b4aaf19",
            "e69bec0eb74f4dcca0fe1d00c8afb4c1",
            "6319dab053e947dea95c649d27dda892",
            "ad692b4c5b9042e1a10aa4d149b76d99",
            "31a0fb820f044fdeb743a40fea89b79e",
            "b4f84b6018254adeb09de78ec4f08c30",
            "a5deedd7347c46f8a10496ace5f487f6",
            "79f96205cc55431381a9c0dce6a2a650",
            "75e01173308443f581840dfd4adff450",
            "ef89356c23b447a08d1d805f7a0deb3a",
            "c53d2fc2c4114a8599fb304efbe6915b",
            "ae862e9b45c04496973dd1879600ed1d",
            "0bbef5bf59bd424ab2f77fa6bf77488e",
            "8419f9a3f2af4e17964c33599d9f2851",
            "a3a297e970344a6890948454a17289b5",
            "b5651e8efe70412f8e4f82d58d480aa2",
            "e0ec2a0608a9460b849695050f3dc6ff",
            "20bda1a1167d46b5bfa8ece4fc0d073c",
            "37c052b803b34537863a6dfebaa98281",
            "017c3af21efd4eaf8e0fe20889c89da0",
            "3ffe08e5ad27401db32201bfaac1bdc9",
            "b3eaf9b254ca47cab9ee48a2afd03dc8"
          ]
        },
        "id": "7qLQQ7YSveyb",
        "outputId": "8de70816-65c8-425c-833d-71b30ea7caf2"
      },
      "source": [
        "dataset = datasets.load_dataset(\"imdb\", split=\"test\")\n",
        "\n",
        "# shorten the strings to fit into the pipeline model\n",
        "short_data = [v[:500] for v in dataset[\"text\"][:20]]"
      ],
      "execution_count": null,
      "outputs": [
        {
          "output_type": "display_data",
          "data": {
            "application/vnd.jupyter.widget-view+json": {
              "model_id": "835b0d070fca464db9e197d4a3e88bf7",
              "version_minor": 0,
              "version_major": 2
            },
            "text/plain": [
              "HBox(children=(FloatProgress(value=0.0, description='Downloading', max=1916.0, style=ProgressStyle(description…"
            ]
          },
          "metadata": {
            "tags": []
          }
        },
        {
          "output_type": "stream",
          "text": [
            "\n"
          ],
          "name": "stdout"
        },
        {
          "output_type": "display_data",
          "data": {
            "application/vnd.jupyter.widget-view+json": {
              "model_id": "5bc3cacde52e497893c8f4119439747d",
              "version_minor": 0,
              "version_major": 2
            },
            "text/plain": [
              "HBox(children=(FloatProgress(value=0.0, description='Downloading', max=1054.0, style=ProgressStyle(description…"
            ]
          },
          "metadata": {
            "tags": []
          }
        },
        {
          "output_type": "stream",
          "text": [
            "\n",
            "Downloading and preparing dataset imdb/plain_text (download: 80.23 MiB, generated: 127.02 MiB, post-processed: Unknown size, total: 207.25 MiB) to /root/.cache/huggingface/datasets/imdb/plain_text/1.0.0/e3c66f1788a67a89c7058d97ff62b6c30531e05b549de56d3ab91891f0561f9a...\n"
          ],
          "name": "stdout"
        },
        {
          "output_type": "display_data",
          "data": {
            "application/vnd.jupyter.widget-view+json": {
              "model_id": "401122e0da6b4c42b166d9d85ae6db55",
              "version_minor": 0,
              "version_major": 2
            },
            "text/plain": [
              "HBox(children=(FloatProgress(value=0.0, description='Downloading', max=84125825.0, style=ProgressStyle(descrip…"
            ]
          },
          "metadata": {
            "tags": []
          }
        },
        {
          "output_type": "stream",
          "text": [
            "\n"
          ],
          "name": "stdout"
        },
        {
          "output_type": "display_data",
          "data": {
            "application/vnd.jupyter.widget-view+json": {
              "model_id": "71d723a0206b4f9cb9d4b93356cbc40a",
              "version_minor": 0,
              "version_major": 2
            },
            "text/plain": [
              "HBox(children=(FloatProgress(value=1.0, bar_style='info', max=1.0), HTML(value='')))"
            ]
          },
          "metadata": {
            "tags": []
          }
        },
        {
          "output_type": "stream",
          "text": [
            "\r"
          ],
          "name": "stdout"
        },
        {
          "output_type": "display_data",
          "data": {
            "application/vnd.jupyter.widget-view+json": {
              "model_id": "a5deedd7347c46f8a10496ace5f487f6",
              "version_minor": 0,
              "version_major": 2
            },
            "text/plain": [
              "HBox(children=(FloatProgress(value=1.0, bar_style='info', max=1.0), HTML(value='')))"
            ]
          },
          "metadata": {
            "tags": []
          }
        },
        {
          "output_type": "stream",
          "text": [
            "\r"
          ],
          "name": "stdout"
        },
        {
          "output_type": "display_data",
          "data": {
            "application/vnd.jupyter.widget-view+json": {
              "model_id": "a3a297e970344a6890948454a17289b5",
              "version_minor": 0,
              "version_major": 2
            },
            "text/plain": [
              "HBox(children=(FloatProgress(value=1.0, bar_style='info', max=1.0), HTML(value='')))"
            ]
          },
          "metadata": {
            "tags": []
          }
        },
        {
          "output_type": "stream",
          "text": [
            "\rDataset imdb downloaded and prepared to /root/.cache/huggingface/datasets/imdb/plain_text/1.0.0/e3c66f1788a67a89c7058d97ff62b6c30531e05b549de56d3ab91891f0561f9a. Subsequent calls will reuse this data.\n"
          ],
          "name": "stdout"
        }
      ]
    },
    {
      "cell_type": "code",
      "metadata": {
        "colab": {
          "base_uri": "https://localhost:8080/"
        },
        "id": "jZcGcglQv7EG",
        "outputId": "422043a3-777e-40c6-dc0b-f379d8516c29"
      },
      "source": [
        "short_data[0], short_data[1]"
      ],
      "execution_count": null,
      "outputs": [
        {
          "output_type": "execute_result",
          "data": {
            "text/plain": [
              "(\"I went and saw this movie last night after being coaxed to by a few friends of mine. I'll admit that I was reluctant to see it because from what I knew of Ashton Kutcher he was only able to do comedy. I was wrong. Kutcher played the character of Jake Fischer very well, and Kevin Costner played Ben Randall with such professionalism. The sign of a good movie is that it can toy with our emotions. This one did exactly that. The entire theater (which was sold out) was overcome by laughter during the \",\n",
              " 'Actor turned director Bill Paxton follows up his promising debut, the Gothic-horror \"Frailty\", with this family friendly sports drama about the 1913 U.S. Open where a young American caddy rises from his humble background to play against his Bristish idol in what was dubbed as \"The Greatest Game Ever Played.\" I\\'m no fan of golf, and these scrappy underdog sports flicks are a dime a dozen (most recently done to grand effect with \"Miracle\" and \"Cinderella Man\"), but some how this film was enthralli')"
            ]
          },
          "metadata": {
            "tags": []
          },
          "execution_count": 10
        }
      ]
    },
    {
      "cell_type": "code",
      "metadata": {
        "colab": {
          "base_uri": "https://localhost:8080/",
          "height": 281,
          "referenced_widgets": [
            "efd6bae125d64933ade8048570bc02ab",
            "4c8ebf323eab438d94a1b3cf89418949",
            "a4bc8682e1f74a14a468c9797a777f84",
            "0f0d267dbcf34075a52b15b6f5d558d7",
            "1a02092976ff4c25ad6cbc1a7c3b261f",
            "9dc976f48d12475fa0e053ced6d9900d",
            "b2afdae1478942778b71da01612adc21",
            "6f1cd821faa14ea58e4ab6bdca726a1a",
            "5e05958c7e6d420b9c5718b2031c165b",
            "3d6a0dbc6afa4e348d84152f13267a29",
            "53bd66e96c194aa2b6f37ca247cd894b",
            "0c7b10fd11b24581ac52332b80a2bb76",
            "a3072ebac24c4e2e9edae36f0910d48b",
            "ed2fcfeee60446e890f7f1e58a38a33f",
            "0ef3ea155f4c42709710872f48334eba",
            "3546ac2fa3984aae8baebd4b63717770",
            "aa7655c5e55b4eccb87b2940432bfd53",
            "3a899be497354c109e5a2bb3dded1cf6",
            "12f45b2ba14f40c28e8b3e6342d19c42",
            "bc76eafbbd524c5295de1f08c5678c22",
            "cfebb3c24318416498f17fb9c3e26370",
            "93a8106d7a1241ffa05997c63bc62b1e",
            "47dac18bf40f41f9a5bc4ae6034a2549",
            "550538c7fd4041f69591a778ea19ed30",
            "925e956cb5994c65b4d8d52644a087e7",
            "0ad0ea0ed2f748c8b110724d4d274ff8",
            "aac18220ea2b4af9b24cdf1f1b6a6fc4",
            "0a84453a89b34930a120b6e85288d6cf",
            "4fbd95a628e64a22b425e3211722bd15",
            "63b344d70ff747b59b9be9bdd95148b5",
            "690b342c9b73467690d212f119c2ee2d",
            "33af7c217bb645ca9775a7019d808fec"
          ]
        },
        "id": "iDTygHHqvnDB",
        "outputId": "c270b35d-d740-459f-b4e3-fdec6740e2a3"
      },
      "source": [
        "classifier = transformers.pipeline('sentiment-analysis', return_all_scores=True)\n",
        "classifier(short_data[:2])"
      ],
      "execution_count": null,
      "outputs": [
        {
          "output_type": "display_data",
          "data": {
            "application/vnd.jupyter.widget-view+json": {
              "model_id": "efd6bae125d64933ade8048570bc02ab",
              "version_minor": 0,
              "version_major": 2
            },
            "text/plain": [
              "HBox(children=(FloatProgress(value=0.0, description='Downloading', max=629.0, style=ProgressStyle(description_…"
            ]
          },
          "metadata": {
            "tags": []
          }
        },
        {
          "output_type": "stream",
          "text": [
            "\n"
          ],
          "name": "stdout"
        },
        {
          "output_type": "display_data",
          "data": {
            "application/vnd.jupyter.widget-view+json": {
              "model_id": "5e05958c7e6d420b9c5718b2031c165b",
              "version_minor": 0,
              "version_major": 2
            },
            "text/plain": [
              "HBox(children=(FloatProgress(value=0.0, description='Downloading', max=267844284.0, style=ProgressStyle(descri…"
            ]
          },
          "metadata": {
            "tags": []
          }
        },
        {
          "output_type": "stream",
          "text": [
            "\n"
          ],
          "name": "stdout"
        },
        {
          "output_type": "display_data",
          "data": {
            "application/vnd.jupyter.widget-view+json": {
              "model_id": "aa7655c5e55b4eccb87b2940432bfd53",
              "version_minor": 0,
              "version_major": 2
            },
            "text/plain": [
              "HBox(children=(FloatProgress(value=0.0, description='Downloading', max=231508.0, style=ProgressStyle(descripti…"
            ]
          },
          "metadata": {
            "tags": []
          }
        },
        {
          "output_type": "stream",
          "text": [
            "\n"
          ],
          "name": "stdout"
        },
        {
          "output_type": "display_data",
          "data": {
            "application/vnd.jupyter.widget-view+json": {
              "model_id": "925e956cb5994c65b4d8d52644a087e7",
              "version_minor": 0,
              "version_major": 2
            },
            "text/plain": [
              "HBox(children=(FloatProgress(value=0.0, description='Downloading', max=48.0, style=ProgressStyle(description_w…"
            ]
          },
          "metadata": {
            "tags": []
          }
        },
        {
          "output_type": "stream",
          "text": [
            "\n"
          ],
          "name": "stdout"
        },
        {
          "output_type": "execute_result",
          "data": {
            "text/plain": [
              "[[{'label': 'NEGATIVE', 'score': 0.0012035154504701495},\n",
              "  {'label': 'POSITIVE', 'score': 0.9987965226173401}],\n",
              " [{'label': 'NEGATIVE', 'score': 0.002218783600255847},\n",
              "  {'label': 'POSITIVE', 'score': 0.9977812170982361}]]"
            ]
          },
          "metadata": {
            "tags": []
          },
          "execution_count": 6
        }
      ]
    },
    {
      "cell_type": "code",
      "metadata": {
        "id": "NChI0Ha0vtvA"
      },
      "source": [
        "explainer = shap.Explainer(classifier)"
      ],
      "execution_count": null,
      "outputs": []
    },
    {
      "cell_type": "code",
      "metadata": {
        "colab": {
          "base_uri": "https://localhost:8080/",
          "height": 51,
          "referenced_widgets": [
            "a6aa44e6c05442d6a5db5dfc90bffaf4",
            "f5159b532b5f4ac1b69b58827ffab87f",
            "394060881e954088b205d0d53a55dc53",
            "6adfe7df6c2045d79dad4e7769ee1ce7",
            "4aa3ede8e6c84c75845475abc0f1ce16",
            "e52cdc986629493ab9f75ba7352a7271",
            "7842b7246e16494b815edd1e31da67ac",
            "401e5b908dcc4cfdb67d912534fe0221",
            "f0b0e7176190468c849fea309d04384c",
            "d9f3e08c8d8d4cc596b90372462d33b4",
            "29cfb642c708433f90c867b64c954fbd",
            "a95e1d9a77fa47b98c18a4368b3c88d1",
            "8b8e2abb67724f4392a0626e28169bea",
            "18de6a78c5a14dbaa44447dda145eb35",
            "9769aacc2f2846f6aa5791aac1b15cda",
            "1e094fb5ce1744f6b99670dbae5fe3dc"
          ]
        },
        "id": "HEFcI_hswZek",
        "outputId": "12a2d5d9-d116-4194-c4db-8e840dfb17d8"
      },
      "source": [
        "shap_values = explainer(short_data[:2])"
      ],
      "execution_count": null,
      "outputs": [
        {
          "output_type": "display_data",
          "data": {
            "application/vnd.jupyter.widget-view+json": {
              "model_id": "a6aa44e6c05442d6a5db5dfc90bffaf4",
              "version_minor": 0,
              "version_major": 2
            },
            "text/plain": [
              "HBox(children=(FloatProgress(value=0.0, max=48.0), HTML(value='')))"
            ]
          },
          "metadata": {
            "tags": []
          }
        },
        {
          "output_type": "stream",
          "text": [
            "\rPartition explainer:  50%|█████     | 1/2 [00:00<?, ?it/s]"
          ],
          "name": "stderr"
        },
        {
          "output_type": "stream",
          "text": [
            "\r"
          ],
          "name": "stdout"
        },
        {
          "output_type": "display_data",
          "data": {
            "application/vnd.jupyter.widget-view+json": {
              "model_id": "f0b0e7176190468c849fea309d04384c",
              "version_minor": 0,
              "version_major": 2
            },
            "text/plain": [
              "HBox(children=(FloatProgress(value=0.0, max=48.0), HTML(value='')))"
            ]
          },
          "metadata": {
            "tags": []
          }
        },
        {
          "output_type": "stream",
          "text": [
            "Partition explainer: 3it [00:19,  6.37s/it]"
          ],
          "name": "stderr"
        },
        {
          "output_type": "stream",
          "text": [
            "\r"
          ],
          "name": "stdout"
        },
        {
          "output_type": "stream",
          "text": [
            "\n"
          ],
          "name": "stderr"
        }
      ]
    },
    {
      "cell_type": "code",
      "metadata": {
        "colab": {
          "base_uri": "https://localhost:8080/",
          "height": 392
        },
        "id": "6HWw1MvbvwXf",
        "outputId": "65f8a9b6-06de-428e-a6db-c6aa014d7047"
      },
      "source": [
        "shap.plots.text(shap_values[:,:,\"POSITIVE\"])"
      ],
      "execution_count": null,
      "outputs": [
        {
          "output_type": "stream",
          "text": [
            "Creating an ndarray from ragged nested sequences (which is a list-or-tuple of lists-or-tuples-or ndarrays with different lengths or shapes) is deprecated. If you meant to do this, you must specify 'dtype=object' when creating the ndarray\n"
          ],
          "name": "stderr"
        },
        {
          "output_type": "display_data",
          "data": {
            "text/html": [
              "<br/><b>0th instance:</b><br/>"
            ],
            "text/plain": [
              "<IPython.core.display.HTML object>"
            ]
          },
          "metadata": {
            "tags": []
          }
        },
        {
          "output_type": "display_data",
          "data": {
            "text/html": [
              "<svg width=\"100%\" height=\"80px\"><line x1=\"0\" y1=\"33\" x2=\"100%\" y2=\"33\" style=\"stroke:rgb(150,150,150);stroke-width:1\" /><line x1=\"23.312873%\" y1=\"33\" x2=\"23.312873%\" y2=\"37\" style=\"stroke:rgb(150,150,150);stroke-width:1\" /><text x=\"23.312873%\" y=\"27\" font-size=\"12px\" fill=\"rgb(120,120,120)\" dominant-baseline=\"bottom\" text-anchor=\"middle\">-0.187151</text><text x=\"23.312873%\" y=\"10\" font-size=\"12px\" fill=\"rgb(120,120,120)\" dominant-baseline=\"bottom\" text-anchor=\"middle\">base value</text><line x1=\"9.027158%\" y1=\"33\" x2=\"9.027158%\" y2=\"37\" style=\"stroke:rgb(150,150,150);stroke-width:1\" /><text x=\"9.027158%\" y=\"27\" font-size=\"12px\" fill=\"rgb(120,120,120)\" dominant-baseline=\"bottom\" text-anchor=\"middle\">-2.036220</text><line x1=\"37.598587%\" y1=\"33\" x2=\"37.598587%\" y2=\"37\" style=\"stroke:rgb(150,150,150);stroke-width:1\" /><text x=\"37.598587%\" y=\"27\" font-size=\"12px\" fill=\"rgb(120,120,120)\" dominant-baseline=\"bottom\" text-anchor=\"middle\">1.661918</text><line x1=\"51.884301%\" y1=\"33\" x2=\"51.884301%\" y2=\"37\" style=\"stroke:rgb(150,150,150);stroke-width:1\" /><text x=\"51.884301%\" y=\"27\" font-size=\"12px\" fill=\"rgb(120,120,120)\" dominant-baseline=\"bottom\" text-anchor=\"middle\">3.510986</text><line x1=\"66.170015%\" y1=\"33\" x2=\"66.170015%\" y2=\"37\" style=\"stroke:rgb(150,150,150);stroke-width:1\" /><text x=\"66.170015%\" y=\"27\" font-size=\"12px\" fill=\"rgb(120,120,120)\" dominant-baseline=\"bottom\" text-anchor=\"middle\">5.360055</text><line x1=\"80.455730%\" y1=\"33\" x2=\"80.455730%\" y2=\"37\" style=\"stroke:rgb(150,150,150);stroke-width:1\" /><text x=\"80.455730%\" y=\"27\" font-size=\"12px\" fill=\"rgb(120,120,120)\" dominant-baseline=\"bottom\" text-anchor=\"middle\">7.209124</text><line x1=\"76.687127%\" y1=\"33\" x2=\"76.687127%\" y2=\"37\" style=\"stroke:rgb(150,150,150);stroke-width:1\" /><text x=\"76.687127%\" y=\"27\" font-size=\"13px\" style=\"stroke:#ffffff;stroke-width:8px;\" font-weight=\"bold\" fill=\"rgb(255,255,255)\" dominant-baseline=\"bottom\" text-anchor=\"middle\">6.721336</text><text x=\"76.687127%\" y=\"27\" font-size=\"13px\" font-weight=\"bold\" fill=\"rgb(0,0,0)\" dominant-baseline=\"bottom\" text-anchor=\"middle\">6.721336</text><text x=\"76.687127%\" y=\"10\" font-size=\"12px\" fill=\"rgb(120,120,120)\" dominant-baseline=\"bottom\" text-anchor=\"middle\">f(x)</text><rect x=\"8.333333333333336%\" width=\"68.3537940904717%\" y=\"40\" height=\"18\" style=\"fill:rgb(255.0, 0.0, 81.08083606031792); stroke-width:0; stroke:rgb(0,0,0)\" /><line x1=\"44.40393669251893%\" x2=\"76.68712742380502%\" y1=\"60\" y2=\"60\" id=\"_fb_cdzbarunfggdrgkytvtj_ind_3\" style=\"stroke:rgb(255.0, 0.0, 81.08083606031792);stroke-width:2; opacity: 0\"/><text x=\"60.54553205816198%\" y=\"71\" font-size=\"12px\" id=\"_fs_cdzbarunfggdrgkytvtj_ind_3\" fill=\"rgb(255.0, 0.0, 81.08083606031792)\" style=\"opacity: 0\" dominant-baseline=\"middle\" text-anchor=\"middle\">4.179</text><svg x=\"44.40393669251893%\" y=\"40\" height=\"20\" width=\"32.28319073128609%\">  <svg x=\"0\" y=\"0\" width=\"100%\" height=\"100%\">    <text x=\"50%\" y=\"9\" font-size=\"12px\" fill=\"rgb(255,255,255)\" dominant-baseline=\"middle\" text-anchor=\"middle\">The sign of a good movie is that it can toy with our emotions. This one did exactly that.</text>  </svg></svg><line x1=\"18.147906713735786%\" x2=\"44.40393669251893%\" y1=\"60\" y2=\"60\" id=\"_fb_cdzbarunfggdrgkytvtj_ind_4\" style=\"stroke:rgb(255.0, 0.0, 81.08083606031792);stroke-width:2; opacity: 0\"/><text x=\"31.27592170312736%\" y=\"71\" font-size=\"12px\" id=\"_fs_cdzbarunfggdrgkytvtj_ind_4\" fill=\"rgb(255.0, 0.0, 81.08083606031792)\" style=\"opacity: 0\" dominant-baseline=\"middle\" text-anchor=\"middle\">3.398</text><svg x=\"18.147906713735786%\" y=\"40\" height=\"20\" width=\"26.256029978783147%\">  <svg x=\"0\" y=\"0\" width=\"100%\" height=\"100%\">    <text x=\"50%\" y=\"9\" font-size=\"12px\" fill=\"rgb(255,255,255)\" dominant-baseline=\"middle\" text-anchor=\"middle\">The entire theater (which was sold out) was overcome by laughter during the</text>  </svg></svg><line x1=\"8.333333333333329%\" x2=\"18.147906713735786%\" y1=\"60\" y2=\"60\" id=\"_fb_cdzbarunfggdrgkytvtj_ind_2\" style=\"stroke:rgb(255.0, 0.0, 81.08083606031792);stroke-width:2; opacity: 0\"/><text x=\"13.240620023534557%\" y=\"71\" font-size=\"12px\" id=\"_fs_cdzbarunfggdrgkytvtj_ind_2\" fill=\"rgb(255.0, 0.0, 81.08083606031792)\" style=\"opacity: 0\" dominant-baseline=\"middle\" text-anchor=\"middle\">1.27</text><svg x=\"8.333333333333329%\" y=\"40\" height=\"20\" width=\"9.814573380402457%\">  <svg x=\"0\" y=\"0\" width=\"100%\" height=\"100%\">    <text x=\"50%\" y=\"9\" font-size=\"12px\" fill=\"rgb(255,255,255)\" dominant-baseline=\"middle\" text-anchor=\"middle\">I was wrong. Kutcher played the character of Jake Fischer very well, and Kevin Costner played Ben Randall with such professionalism.</text>  </svg></svg><g transform=\"translate(0,0)\">  <svg x=\"44.40393669251893%\" y=\"40\" height=\"18\" overflow=\"visible\" width=\"30\">    <path d=\"M 0 -9 l 6 18 L 0 25\" fill=\"none\" style=\"stroke:rgb(255.0, 0.0, 81.08083606031792);stroke-width:2\" />  </svg></g><g transform=\"translate(2,0)\">  <svg x=\"44.40393669251893%\" y=\"40\" height=\"18\" overflow=\"visible\" width=\"30\">    <path d=\"M 0 -9 l 6 18 L 0 25\" fill=\"none\" style=\"stroke:rgb(255.0, 0.0, 81.08083606031792);stroke-width:2\" />  </svg></g><g transform=\"translate(4,0)\">  <svg x=\"44.40393669251893%\" y=\"40\" height=\"18\" overflow=\"visible\" width=\"30\">    <path d=\"M 0 -9 l 6 18 L 0 25\" fill=\"none\" style=\"stroke:rgb(255.0, 0.0, 81.08083606031792);stroke-width:2\" />  </svg></g><g transform=\"translate(6,0)\">  <svg x=\"44.40393669251893%\" y=\"40\" height=\"18\" overflow=\"visible\" width=\"30\">    <path d=\"M 0 -9 l 6 18 L 0 25\" fill=\"none\" style=\"stroke:rgb(255.0, 0.0, 81.08083606031792);stroke-width:2\" />  </svg></g><g transform=\"translate(-8,0)\">  <svg x=\"44.40393669251893%\" y=\"40\" height=\"18\" overflow=\"visible\" width=\"30\">    <path d=\"M 0 -9 l 6 18 L 0 25\" fill=\"none\" style=\"stroke:rgb(255.0, 0.0, 81.08083606031792);stroke-width:2\" />  </svg></g><g transform=\"translate(-6,0)\">  <svg x=\"44.40393669251893%\" y=\"40\" height=\"18\" overflow=\"visible\" width=\"30\">    <path d=\"M 0 -9 l 6 18 L 0 25\" fill=\"none\" style=\"stroke:rgb(255.0, 0.0, 81.08083606031792);stroke-width:2\" />  </svg></g><g transform=\"translate(-4,0)\">  <svg x=\"44.40393669251893%\" y=\"40\" height=\"18\" overflow=\"visible\" width=\"30\">    <path d=\"M 0 -9 l 6 18 L 0 25\" fill=\"none\" style=\"stroke:rgb(255.0, 0.0, 81.08083606031792);stroke-width:2\" />  </svg></g><g transform=\"translate(-2,0)\">  <svg x=\"44.40393669251893%\" y=\"40\" height=\"18\" overflow=\"visible\" width=\"30\">    <path d=\"M 0 -9 l 6 18 L 0 25\" fill=\"none\" style=\"stroke:rgb(255.0, 0.0, 81.08083606031792);stroke-width:2\" />  </svg></g><g transform=\"translate(0,0)\">  <svg x=\"18.147906713735786%\" y=\"40\" height=\"18\" overflow=\"visible\" width=\"30\">    <path d=\"M 0 -9 l 6 18 L 0 25\" fill=\"none\" style=\"stroke:rgb(255.0, 0.0, 81.08083606031792);stroke-width:2\" />  </svg></g><g transform=\"translate(2,0)\">  <svg x=\"18.147906713735786%\" y=\"40\" height=\"18\" overflow=\"visible\" width=\"30\">    <path d=\"M 0 -9 l 6 18 L 0 25\" fill=\"none\" style=\"stroke:rgb(255.0, 0.0, 81.08083606031792);stroke-width:2\" />  </svg></g><g transform=\"translate(4,0)\">  <svg x=\"18.147906713735786%\" y=\"40\" height=\"18\" overflow=\"visible\" width=\"30\">    <path d=\"M 0 -9 l 6 18 L 0 25\" fill=\"none\" style=\"stroke:rgb(255.0, 0.0, 81.08083606031792);stroke-width:2\" />  </svg></g><g transform=\"translate(6,0)\">  <svg x=\"18.147906713735786%\" y=\"40\" height=\"18\" overflow=\"visible\" width=\"30\">    <path d=\"M 0 -9 l 6 18 L 0 25\" fill=\"none\" style=\"stroke:rgb(255.0, 0.0, 81.08083606031792);stroke-width:2\" />  </svg></g><g transform=\"translate(-8,0)\">  <svg x=\"18.147906713735786%\" y=\"40\" height=\"18\" overflow=\"visible\" width=\"30\">    <path d=\"M 0 -9 l 6 18 L 0 25\" fill=\"none\" style=\"stroke:rgb(255.0, 0.0, 81.08083606031792);stroke-width:2\" />  </svg></g><g transform=\"translate(-6,0)\">  <svg x=\"18.147906713735786%\" y=\"40\" height=\"18\" overflow=\"visible\" width=\"30\">    <path d=\"M 0 -9 l 6 18 L 0 25\" fill=\"none\" style=\"stroke:rgb(255.0, 0.0, 81.08083606031792);stroke-width:2\" />  </svg></g><g transform=\"translate(-4,0)\">  <svg x=\"18.147906713735786%\" y=\"40\" height=\"18\" overflow=\"visible\" width=\"30\">    <path d=\"M 0 -9 l 6 18 L 0 25\" fill=\"none\" style=\"stroke:rgb(255.0, 0.0, 81.08083606031792);stroke-width:2\" />  </svg></g><g transform=\"translate(-2,0)\">  <svg x=\"18.147906713735786%\" y=\"40\" height=\"18\" overflow=\"visible\" width=\"30\">    <path d=\"M 0 -9 l 6 18 L 0 25\" fill=\"none\" style=\"stroke:rgb(255.0, 0.0, 81.08083606031792);stroke-width:2\" />  </svg></g><rect transform=\"translate(-8,0)\" x=\"76.68712742380502%\" y=\"40\" width=\"8\" height=\"18\" style=\"fill:rgb(255.0, 0.0, 81.08083606031792)\"/><g transform=\"translate(-11.5,0)\">  <svg x=\"8.333333333333336%\" y=\"40\" height=\"18\" overflow=\"visible\" width=\"30\">    <path d=\"M 10 -9 l 6 18 L 10 25 L 0 25 L 0 -9\" fill=\"#ffffff\" style=\"stroke:rgb(255,255,255);stroke-width:2\" />  </svg></g><g transform=\"translate(-1.5,0)\">  <svg x=\"76.68712742380502%\" y=\"40\" height=\"18\" overflow=\"visible\" width=\"30\">    <path d=\"M 0 -9 l 6 18 L 0 25\" fill=\"none\" style=\"stroke:rgb(255, 195, 213);stroke-width:2\" />  </svg></g><rect x=\"44.40393669251893%\" y=\"40\" height=\"20\" width=\"32.28319073128609%\"      onmouseover=\"document.getElementById('_tp_cdzbarunfggdrgkytvtj_ind_3').style.textDecoration = 'underline';document.getElementById('_fs_cdzbarunfggdrgkytvtj_ind_3').style.opacity = 1;document.getElementById('_fb_cdzbarunfggdrgkytvtj_ind_3').style.opacity = 1;\"      onmouseout=\"document.getElementById('_tp_cdzbarunfggdrgkytvtj_ind_3').style.textDecoration = 'none';document.getElementById('_fs_cdzbarunfggdrgkytvtj_ind_3').style.opacity = 0;document.getElementById('_fb_cdzbarunfggdrgkytvtj_ind_3').style.opacity = 0;\" style=\"fill:rgb(0,0,0,0)\" /><g transform=\"translate(-1.5,0)\">  <svg x=\"44.40393669251893%\" y=\"40\" height=\"18\" overflow=\"visible\" width=\"30\">    <path d=\"M 0 -9 l 6 18 L 0 25\" fill=\"none\" style=\"stroke:rgb(255, 195, 213);stroke-width:2\" />  </svg></g><rect x=\"18.147906713735786%\" y=\"40\" height=\"20\" width=\"26.256029978783147%\"      onmouseover=\"document.getElementById('_tp_cdzbarunfggdrgkytvtj_ind_4').style.textDecoration = 'underline';document.getElementById('_fs_cdzbarunfggdrgkytvtj_ind_4').style.opacity = 1;document.getElementById('_fb_cdzbarunfggdrgkytvtj_ind_4').style.opacity = 1;\"      onmouseout=\"document.getElementById('_tp_cdzbarunfggdrgkytvtj_ind_4').style.textDecoration = 'none';document.getElementById('_fs_cdzbarunfggdrgkytvtj_ind_4').style.opacity = 0;document.getElementById('_fb_cdzbarunfggdrgkytvtj_ind_4').style.opacity = 0;\" style=\"fill:rgb(0,0,0,0)\" /><rect x=\"8.333333333333329%\" y=\"40\" height=\"20\" width=\"9.814573380402457%\"      onmouseover=\"document.getElementById('_tp_cdzbarunfggdrgkytvtj_ind_2').style.textDecoration = 'underline';document.getElementById('_fs_cdzbarunfggdrgkytvtj_ind_2').style.opacity = 1;document.getElementById('_fb_cdzbarunfggdrgkytvtj_ind_2').style.opacity = 1;\"      onmouseout=\"document.getElementById('_tp_cdzbarunfggdrgkytvtj_ind_2').style.textDecoration = 'none';document.getElementById('_fs_cdzbarunfggdrgkytvtj_ind_2').style.opacity = 0;document.getElementById('_fb_cdzbarunfggdrgkytvtj_ind_2').style.opacity = 0;\" style=\"fill:rgb(0,0,0,0)\" /><rect x=\"76.68712742380502%\" width=\"14.97953924286163%\" y=\"40\" height=\"18\" style=\"fill:rgb(0.0, 138.56128015770724, 250.76166088685727); stroke-width:0; stroke:rgb(0,0,0)\" /><line x1=\"76.68712742380502%\" x2=\"91.66666666666666%\" y1=\"60\" y2=\"60\" id=\"_fb_cdzbarunfggdrgkytvtj_ind_1\" style=\"stroke:rgb(0.0, 138.56128015770724, 250.76166088685727);stroke-width:2; opacity: 0\"/><text x=\"84.17689704523585%\" y=\"71\" font-size=\"12px\" fill=\"rgb(0.0, 138.56128015770724, 250.76166088685727)\" id=\"_fs_cdzbarunfggdrgkytvtj_ind_1\" style=\"opacity: 0\" dominant-baseline=\"middle\" text-anchor=\"middle\">-1.939</text><svg x=\"76.68712742380502%\" y=\"40\" height=\"20\" width=\"14.979539242861634%\">  <svg x=\"0\" y=\"0\" width=\"100%\" height=\"100%\">    <text x=\"50%\" y=\"9\" font-size=\"12px\" fill=\"rgb(255,255,255)\" dominant-baseline=\"middle\" text-anchor=\"middle\">I went and saw this movie last night after being coaxed to by a few friends of mine. I'll admit that I was reluctant to see it because from what I knew of Ashton Kutcher he was only able to do comedy.</text>  </svg></svg><rect transform=\"translate(0,0)\" x=\"76.68712742380502%\" y=\"40\" width=\"8\" height=\"18\" style=\"fill:rgb(0.0, 138.56128015770724, 250.76166088685727)\"/><g transform=\"translate(-6.0,0)\">  <svg x=\"91.66666666666666%\" y=\"40\" height=\"18\" overflow=\"visible\" width=\"30\">    <path d=\"M 8 -9 l -6 18 L 8 25 L 20 25 L 20 -9\" fill=\"#ffffff\" style=\"stroke:rgb(255,255,255);stroke-width:2\" />  </svg></g><rect x=\"76.68712742380502%\" y=\"40\" height=\"20\" width=\"14.979539242861634%\"      onmouseover=\"document.getElementById('_tp_cdzbarunfggdrgkytvtj_ind_1').style.textDecoration = 'underline';document.getElementById('_fs_cdzbarunfggdrgkytvtj_ind_1').style.opacity = 1;document.getElementById('_fb_cdzbarunfggdrgkytvtj_ind_1').style.opacity = 1;\"      onmouseout=\"document.getElementById('_tp_cdzbarunfggdrgkytvtj_ind_1').style.textDecoration = 'none';document.getElementById('_fs_cdzbarunfggdrgkytvtj_ind_1').style.opacity = 0;document.getElementById('_fb_cdzbarunfggdrgkytvtj_ind_1').style.opacity = 0;\" style=\"fill:rgb(0,0,0,0)\" /></svg><div style='display: inline; text-align: center;'><div style='display: none; color: #999; padding-top: 0px; font-size: 12px;'>0.0</div><div id='_tp_cdzbarunfggdrgkytvtj_ind_0'style='display: inline; background: rgba(230.2941176470614, 26.505882352939775, 102.59215686274348, 0.0); border-radius: 3px; padding: 0px'onclick=\"if (this.previousSibling.style.display == 'none') {this.previousSibling.style.display = 'block';this.parentNode.style.display = 'inline-block';} else {this.previousSibling.style.display = 'none';this.parentNode.style.display = 'inline';}\"onmouseover=\"document.getElementById('_fb_cdzbarunfggdrgkytvtj_ind_0').style.opacity = 1; document.getElementById('_fs_cdzbarunfggdrgkytvtj_ind_0').style.opacity = 1;\"onmouseout=\"document.getElementById('_fb_cdzbarunfggdrgkytvtj_ind_0').style.opacity = 0; document.getElementById('_fs_cdzbarunfggdrgkytvtj_ind_0').style.opacity = 0;\"></div></div><div style='display: inline; text-align: center;'><div style='display: none; color: #999; padding-top: 0px; font-size: 12px;'>-1.939 / 49</div><div id='_tp_cdzbarunfggdrgkytvtj_ind_1'style='display: inline; background: rgba(30.0, 136.0, 229.0, 0.46397306397306387); border-radius: 3px; padding: 0px'onclick=\"if (this.previousSibling.style.display == 'none') {this.previousSibling.style.display = 'block';this.parentNode.style.display = 'inline-block';} else {this.previousSibling.style.display = 'none';this.parentNode.style.display = 'inline';}\"onmouseover=\"document.getElementById('_fb_cdzbarunfggdrgkytvtj_ind_1').style.opacity = 1; document.getElementById('_fs_cdzbarunfggdrgkytvtj_ind_1').style.opacity = 1;\"onmouseout=\"document.getElementById('_fb_cdzbarunfggdrgkytvtj_ind_1').style.opacity = 0; document.getElementById('_fs_cdzbarunfggdrgkytvtj_ind_1').style.opacity = 0;\">I went and saw this movie last night after being coaxed to by a few friends of mine. I'll admit that I was reluctant to see it because from what I knew of Ashton Kutcher he was only able to do comedy. </div></div><div style='display: inline; text-align: center;'><div style='display: none; color: #999; padding-top: 0px; font-size: 12px;'>1.27 / 28</div><div id='_tp_cdzbarunfggdrgkytvtj_ind_2'style='display: inline; background: rgba(255.0, 13.0, 87.0, 0.29843533372945136); border-radius: 3px; padding: 0px'onclick=\"if (this.previousSibling.style.display == 'none') {this.previousSibling.style.display = 'block';this.parentNode.style.display = 'inline-block';} else {this.previousSibling.style.display = 'none';this.parentNode.style.display = 'inline';}\"onmouseover=\"document.getElementById('_fb_cdzbarunfggdrgkytvtj_ind_2').style.opacity = 1; document.getElementById('_fs_cdzbarunfggdrgkytvtj_ind_2').style.opacity = 1;\"onmouseout=\"document.getElementById('_fb_cdzbarunfggdrgkytvtj_ind_2').style.opacity = 0; document.getElementById('_fs_cdzbarunfggdrgkytvtj_ind_2').style.opacity = 0;\">I was wrong. Kutcher played the character of Jake Fischer very well, and Kevin Costner played Ben Randall with such professionalism. </div></div><div style='display: inline; text-align: center;'><div style='display: none; color: #999; padding-top: 0px; font-size: 12px;'>4.179 / 21</div><div id='_tp_cdzbarunfggdrgkytvtj_ind_3'style='display: inline; background: rgba(255.0, 13.0, 87.0, 1.0); border-radius: 3px; padding: 0px'onclick=\"if (this.previousSibling.style.display == 'none') {this.previousSibling.style.display = 'block';this.parentNode.style.display = 'inline-block';} else {this.previousSibling.style.display = 'none';this.parentNode.style.display = 'inline';}\"onmouseover=\"document.getElementById('_fb_cdzbarunfggdrgkytvtj_ind_3').style.opacity = 1; document.getElementById('_fs_cdzbarunfggdrgkytvtj_ind_3').style.opacity = 1;\"onmouseout=\"document.getElementById('_fb_cdzbarunfggdrgkytvtj_ind_3').style.opacity = 0; document.getElementById('_fs_cdzbarunfggdrgkytvtj_ind_3').style.opacity = 0;\">The sign of a good movie is that it can toy with our emotions. This one did exactly that. </div></div><div style='display: inline; text-align: center;'><div style='display: none; color: #999; padding-top: 0px; font-size: 12px;'>3.398 / 15</div><div id='_tp_cdzbarunfggdrgkytvtj_ind_4'style='display: inline; background: rgba(255.0, 13.0, 87.0, 0.8186967716379481); border-radius: 3px; padding: 0px'onclick=\"if (this.previousSibling.style.display == 'none') {this.previousSibling.style.display = 'block';this.parentNode.style.display = 'inline-block';} else {this.previousSibling.style.display = 'none';this.parentNode.style.display = 'inline';}\"onmouseover=\"document.getElementById('_fb_cdzbarunfggdrgkytvtj_ind_4').style.opacity = 1; document.getElementById('_fs_cdzbarunfggdrgkytvtj_ind_4').style.opacity = 1;\"onmouseout=\"document.getElementById('_fb_cdzbarunfggdrgkytvtj_ind_4').style.opacity = 0; document.getElementById('_fs_cdzbarunfggdrgkytvtj_ind_4').style.opacity = 0;\">The entire theater (which was sold out) was overcome by laughter during the</div></div><div style='display: inline; text-align: center;'><div style='display: none; color: #999; padding-top: 0px; font-size: 12px;'>0.0</div><div id='_tp_cdzbarunfggdrgkytvtj_ind_5'style='display: inline; background: rgba(230.2941176470614, 26.505882352939775, 102.59215686274348, 0.0); border-radius: 3px; padding: 0px'onclick=\"if (this.previousSibling.style.display == 'none') {this.previousSibling.style.display = 'block';this.parentNode.style.display = 'inline-block';} else {this.previousSibling.style.display = 'none';this.parentNode.style.display = 'inline';}\"onmouseover=\"document.getElementById('_fb_cdzbarunfggdrgkytvtj_ind_5').style.opacity = 1; document.getElementById('_fs_cdzbarunfggdrgkytvtj_ind_5').style.opacity = 1;\"onmouseout=\"document.getElementById('_fb_cdzbarunfggdrgkytvtj_ind_5').style.opacity = 0; document.getElementById('_fs_cdzbarunfggdrgkytvtj_ind_5').style.opacity = 0;\"></div></div>"
            ],
            "text/plain": [
              "<IPython.core.display.HTML object>"
            ]
          },
          "metadata": {
            "tags": []
          }
        },
        {
          "output_type": "display_data",
          "data": {
            "text/html": [
              "<br/><b>1st instance:</b><br/>"
            ],
            "text/plain": [
              "<IPython.core.display.HTML object>"
            ]
          },
          "metadata": {
            "tags": []
          }
        },
        {
          "output_type": "display_data",
          "data": {
            "text/html": [
              "<svg width=\"100%\" height=\"80px\"><line x1=\"0\" y1=\"33\" x2=\"100%\" y2=\"33\" style=\"stroke:rgb(150,150,150);stroke-width:1\" /><line x1=\"23.182280%\" y1=\"33\" x2=\"23.182280%\" y2=\"37\" style=\"stroke:rgb(150,150,150);stroke-width:1\" /><text x=\"23.182280%\" y=\"27\" font-size=\"12px\" fill=\"rgb(120,120,120)\" dominant-baseline=\"bottom\" text-anchor=\"middle\">-0.204055</text><text x=\"23.182280%\" y=\"10\" font-size=\"12px\" fill=\"rgb(120,120,120)\" dominant-baseline=\"bottom\" text-anchor=\"middle\">base value</text><line x1=\"8.896566%\" y1=\"33\" x2=\"8.896566%\" y2=\"37\" style=\"stroke:rgb(150,150,150);stroke-width:1\" /><text x=\"8.896566%\" y=\"27\" font-size=\"12px\" fill=\"rgb(120,120,120)\" dominant-baseline=\"bottom\" text-anchor=\"middle\">-2.053123</text><line x1=\"37.467994%\" y1=\"33\" x2=\"37.467994%\" y2=\"37\" style=\"stroke:rgb(150,150,150);stroke-width:1\" /><text x=\"37.467994%\" y=\"27\" font-size=\"12px\" fill=\"rgb(120,120,120)\" dominant-baseline=\"bottom\" text-anchor=\"middle\">1.645014</text><line x1=\"51.753709%\" y1=\"33\" x2=\"51.753709%\" y2=\"37\" style=\"stroke:rgb(150,150,150);stroke-width:1\" /><text x=\"51.753709%\" y=\"27\" font-size=\"12px\" fill=\"rgb(120,120,120)\" dominant-baseline=\"bottom\" text-anchor=\"middle\">3.494083</text><line x1=\"66.039423%\" y1=\"33\" x2=\"66.039423%\" y2=\"37\" style=\"stroke:rgb(150,150,150);stroke-width:1\" /><text x=\"66.039423%\" y=\"27\" font-size=\"12px\" fill=\"rgb(120,120,120)\" dominant-baseline=\"bottom\" text-anchor=\"middle\">5.343152</text><line x1=\"80.325137%\" y1=\"33\" x2=\"80.325137%\" y2=\"37\" style=\"stroke:rgb(150,150,150);stroke-width:1\" /><text x=\"80.325137%\" y=\"27\" font-size=\"12px\" fill=\"rgb(120,120,120)\" dominant-baseline=\"bottom\" text-anchor=\"middle\">7.192221</text><line x1=\"71.953002%\" y1=\"33\" x2=\"71.953002%\" y2=\"37\" style=\"stroke:rgb(150,150,150);stroke-width:1\" /><text x=\"71.953002%\" y=\"27\" font-size=\"13px\" style=\"stroke:#ffffff;stroke-width:8px;\" font-weight=\"bold\" fill=\"rgb(255,255,255)\" dominant-baseline=\"bottom\" text-anchor=\"middle\">6.108575</text><text x=\"71.953002%\" y=\"27\" font-size=\"13px\" font-weight=\"bold\" fill=\"rgb(0,0,0)\" dominant-baseline=\"bottom\" text-anchor=\"middle\">6.108575</text><text x=\"71.953002%\" y=\"10\" font-size=\"12px\" fill=\"rgb(120,120,120)\" dominant-baseline=\"bottom\" text-anchor=\"middle\">f(x)</text><rect x=\"21.055689379358334%\" width=\"50.89731280542228%\" y=\"40\" height=\"18\" style=\"fill:rgb(255.0, 0.0, 81.08083606031792); stroke-width:0; stroke:rgb(0,0,0)\" /><line x1=\"57.392914522528294%\" x2=\"71.95300218478062%\" y1=\"60\" y2=\"60\" id=\"_fb_zslxftxpkwdeejsplcyo_ind_1\" style=\"stroke:rgb(255.0, 0.0, 81.08083606031792);stroke-width:2; opacity: 0\"/><text x=\"64.67295835365445%\" y=\"71\" font-size=\"12px\" id=\"_fs_zslxftxpkwdeejsplcyo_ind_1\" fill=\"rgb(255.0, 0.0, 81.08083606031792)\" style=\"opacity: 0\" dominant-baseline=\"middle\" text-anchor=\"middle\">1.885</text><svg x=\"57.392914522528294%\" y=\"40\" height=\"20\" width=\"14.560087662252322%\">  <svg x=\"0\" y=\"0\" width=\"100%\" height=\"100%\">    <text x=\"50%\" y=\"9\" font-size=\"12px\" fill=\"rgb(255,255,255)\" dominant-baseline=\"middle\" text-anchor=\"middle\">Actor turned director Bill Paxton follows up his promising debut, the Gothic-horror \"Frailty\", with this family friendly sports drama about the 1913 U.S.</text>  </svg></svg><line x1=\"44.00502293655942%\" x2=\"57.392914522528294%\" y1=\"60\" y2=\"60\" id=\"_fb_zslxftxpkwdeejsplcyo_ind_5\" style=\"stroke:rgb(255.0, 0.0, 81.08083606031792);stroke-width:2; opacity: 0\"/><text x=\"50.69896872954386%\" y=\"71\" font-size=\"12px\" id=\"_fs_zslxftxpkwdeejsplcyo_ind_5\" fill=\"rgb(255.0, 0.0, 81.08083606031792)\" style=\"opacity: 0\" dominant-baseline=\"middle\" text-anchor=\"middle\">1.733</text><svg x=\"44.00502293655942%\" y=\"40\" height=\"20\" width=\"13.387891585968873%\">  <svg x=\"0\" y=\"0\" width=\"100%\" height=\"100%\">    <text x=\"50%\" y=\"9\" font-size=\"12px\" fill=\"rgb(255,255,255)\" dominant-baseline=\"middle\" text-anchor=\"middle\">but some how this film was enthralli</text>  </svg></svg><line x1=\"31.55316999886096%\" x2=\"44.00502293655942%\" y1=\"60\" y2=\"60\" id=\"_fb_zslxftxpkwdeejsplcyo_ind_3\" style=\"stroke:rgb(255.0, 0.0, 81.08083606031792);stroke-width:2; opacity: 0\"/><text x=\"37.77909646771019%\" y=\"71\" font-size=\"12px\" id=\"_fs_zslxftxpkwdeejsplcyo_ind_3\" fill=\"rgb(255.0, 0.0, 81.08083606031792)\" style=\"opacity: 0\" dominant-baseline=\"middle\" text-anchor=\"middle\">1.612</text><svg x=\"31.55316999886096%\" y=\"40\" height=\"20\" width=\"12.451852937698462%\">  <svg x=\"0\" y=\"0\" width=\"100%\" height=\"100%\">    <text x=\"50%\" y=\"9\" font-size=\"12px\" fill=\"rgb(255,255,255)\" dominant-baseline=\"middle\" text-anchor=\"middle\">idol in what was dubbed as \"The Greatest Game Ever Played.</text>  </svg></svg><line x1=\"21.055689379358338%\" x2=\"31.55316999886096%\" y1=\"60\" y2=\"60\" id=\"_fb_zslxftxpkwdeejsplcyo_ind_2\" style=\"stroke:rgb(255.0, 0.0, 81.08083606031792);stroke-width:2; opacity: 0\"/><text x=\"26.304429689109647%\" y=\"71\" font-size=\"12px\" id=\"_fs_zslxftxpkwdeejsplcyo_ind_2\" fill=\"rgb(255.0, 0.0, 81.08083606031792)\" style=\"opacity: 0\" dominant-baseline=\"middle\" text-anchor=\"middle\">1.359</text><svg x=\"21.055689379358338%\" y=\"40\" height=\"20\" width=\"10.497480619502621%\">  <svg x=\"0\" y=\"0\" width=\"100%\" height=\"100%\">    <text x=\"50%\" y=\"9\" font-size=\"12px\" fill=\"rgb(255,255,255)\" dominant-baseline=\"middle\" text-anchor=\"middle\">Open where a young American caddy rises from his humble background to play against his Bristish</text>  </svg></svg><g transform=\"translate(0,0)\">  <svg x=\"57.392914522528294%\" y=\"40\" height=\"18\" overflow=\"visible\" width=\"30\">    <path d=\"M 0 -9 l 6 18 L 0 25\" fill=\"none\" style=\"stroke:rgb(255.0, 0.0, 81.08083606031792);stroke-width:2\" />  </svg></g><g transform=\"translate(2,0)\">  <svg x=\"57.392914522528294%\" y=\"40\" height=\"18\" overflow=\"visible\" width=\"30\">    <path d=\"M 0 -9 l 6 18 L 0 25\" fill=\"none\" style=\"stroke:rgb(255.0, 0.0, 81.08083606031792);stroke-width:2\" />  </svg></g><g transform=\"translate(4,0)\">  <svg x=\"57.392914522528294%\" y=\"40\" height=\"18\" overflow=\"visible\" width=\"30\">    <path d=\"M 0 -9 l 6 18 L 0 25\" fill=\"none\" style=\"stroke:rgb(255.0, 0.0, 81.08083606031792);stroke-width:2\" />  </svg></g><g transform=\"translate(6,0)\">  <svg x=\"57.392914522528294%\" y=\"40\" height=\"18\" overflow=\"visible\" width=\"30\">    <path d=\"M 0 -9 l 6 18 L 0 25\" fill=\"none\" style=\"stroke:rgb(255.0, 0.0, 81.08083606031792);stroke-width:2\" />  </svg></g><g transform=\"translate(-8,0)\">  <svg x=\"57.392914522528294%\" y=\"40\" height=\"18\" overflow=\"visible\" width=\"30\">    <path d=\"M 0 -9 l 6 18 L 0 25\" fill=\"none\" style=\"stroke:rgb(255.0, 0.0, 81.08083606031792);stroke-width:2\" />  </svg></g><g transform=\"translate(-6,0)\">  <svg x=\"57.392914522528294%\" y=\"40\" height=\"18\" overflow=\"visible\" width=\"30\">    <path d=\"M 0 -9 l 6 18 L 0 25\" fill=\"none\" style=\"stroke:rgb(255.0, 0.0, 81.08083606031792);stroke-width:2\" />  </svg></g><g transform=\"translate(-4,0)\">  <svg x=\"57.392914522528294%\" y=\"40\" height=\"18\" overflow=\"visible\" width=\"30\">    <path d=\"M 0 -9 l 6 18 L 0 25\" fill=\"none\" style=\"stroke:rgb(255.0, 0.0, 81.08083606031792);stroke-width:2\" />  </svg></g><g transform=\"translate(-2,0)\">  <svg x=\"57.392914522528294%\" y=\"40\" height=\"18\" overflow=\"visible\" width=\"30\">    <path d=\"M 0 -9 l 6 18 L 0 25\" fill=\"none\" style=\"stroke:rgb(255.0, 0.0, 81.08083606031792);stroke-width:2\" />  </svg></g><g transform=\"translate(0,0)\">  <svg x=\"44.00502293655942%\" y=\"40\" height=\"18\" overflow=\"visible\" width=\"30\">    <path d=\"M 0 -9 l 6 18 L 0 25\" fill=\"none\" style=\"stroke:rgb(255.0, 0.0, 81.08083606031792);stroke-width:2\" />  </svg></g><g transform=\"translate(2,0)\">  <svg x=\"44.00502293655942%\" y=\"40\" height=\"18\" overflow=\"visible\" width=\"30\">    <path d=\"M 0 -9 l 6 18 L 0 25\" fill=\"none\" style=\"stroke:rgb(255.0, 0.0, 81.08083606031792);stroke-width:2\" />  </svg></g><g transform=\"translate(4,0)\">  <svg x=\"44.00502293655942%\" y=\"40\" height=\"18\" overflow=\"visible\" width=\"30\">    <path d=\"M 0 -9 l 6 18 L 0 25\" fill=\"none\" style=\"stroke:rgb(255.0, 0.0, 81.08083606031792);stroke-width:2\" />  </svg></g><g transform=\"translate(6,0)\">  <svg x=\"44.00502293655942%\" y=\"40\" height=\"18\" overflow=\"visible\" width=\"30\">    <path d=\"M 0 -9 l 6 18 L 0 25\" fill=\"none\" style=\"stroke:rgb(255.0, 0.0, 81.08083606031792);stroke-width:2\" />  </svg></g><g transform=\"translate(-8,0)\">  <svg x=\"44.00502293655942%\" y=\"40\" height=\"18\" overflow=\"visible\" width=\"30\">    <path d=\"M 0 -9 l 6 18 L 0 25\" fill=\"none\" style=\"stroke:rgb(255.0, 0.0, 81.08083606031792);stroke-width:2\" />  </svg></g><g transform=\"translate(-6,0)\">  <svg x=\"44.00502293655942%\" y=\"40\" height=\"18\" overflow=\"visible\" width=\"30\">    <path d=\"M 0 -9 l 6 18 L 0 25\" fill=\"none\" style=\"stroke:rgb(255.0, 0.0, 81.08083606031792);stroke-width:2\" />  </svg></g><g transform=\"translate(-4,0)\">  <svg x=\"44.00502293655942%\" y=\"40\" height=\"18\" overflow=\"visible\" width=\"30\">    <path d=\"M 0 -9 l 6 18 L 0 25\" fill=\"none\" style=\"stroke:rgb(255.0, 0.0, 81.08083606031792);stroke-width:2\" />  </svg></g><g transform=\"translate(-2,0)\">  <svg x=\"44.00502293655942%\" y=\"40\" height=\"18\" overflow=\"visible\" width=\"30\">    <path d=\"M 0 -9 l 6 18 L 0 25\" fill=\"none\" style=\"stroke:rgb(255.0, 0.0, 81.08083606031792);stroke-width:2\" />  </svg></g><g transform=\"translate(0,0)\">  <svg x=\"31.55316999886096%\" y=\"40\" height=\"18\" overflow=\"visible\" width=\"30\">    <path d=\"M 0 -9 l 6 18 L 0 25\" fill=\"none\" style=\"stroke:rgb(255.0, 0.0, 81.08083606031792);stroke-width:2\" />  </svg></g><g transform=\"translate(2,0)\">  <svg x=\"31.55316999886096%\" y=\"40\" height=\"18\" overflow=\"visible\" width=\"30\">    <path d=\"M 0 -9 l 6 18 L 0 25\" fill=\"none\" style=\"stroke:rgb(255.0, 0.0, 81.08083606031792);stroke-width:2\" />  </svg></g><g transform=\"translate(4,0)\">  <svg x=\"31.55316999886096%\" y=\"40\" height=\"18\" overflow=\"visible\" width=\"30\">    <path d=\"M 0 -9 l 6 18 L 0 25\" fill=\"none\" style=\"stroke:rgb(255.0, 0.0, 81.08083606031792);stroke-width:2\" />  </svg></g><g transform=\"translate(6,0)\">  <svg x=\"31.55316999886096%\" y=\"40\" height=\"18\" overflow=\"visible\" width=\"30\">    <path d=\"M 0 -9 l 6 18 L 0 25\" fill=\"none\" style=\"stroke:rgb(255.0, 0.0, 81.08083606031792);stroke-width:2\" />  </svg></g><g transform=\"translate(-8,0)\">  <svg x=\"31.55316999886096%\" y=\"40\" height=\"18\" overflow=\"visible\" width=\"30\">    <path d=\"M 0 -9 l 6 18 L 0 25\" fill=\"none\" style=\"stroke:rgb(255.0, 0.0, 81.08083606031792);stroke-width:2\" />  </svg></g><g transform=\"translate(-6,0)\">  <svg x=\"31.55316999886096%\" y=\"40\" height=\"18\" overflow=\"visible\" width=\"30\">    <path d=\"M 0 -9 l 6 18 L 0 25\" fill=\"none\" style=\"stroke:rgb(255.0, 0.0, 81.08083606031792);stroke-width:2\" />  </svg></g><g transform=\"translate(-4,0)\">  <svg x=\"31.55316999886096%\" y=\"40\" height=\"18\" overflow=\"visible\" width=\"30\">    <path d=\"M 0 -9 l 6 18 L 0 25\" fill=\"none\" style=\"stroke:rgb(255.0, 0.0, 81.08083606031792);stroke-width:2\" />  </svg></g><g transform=\"translate(-2,0)\">  <svg x=\"31.55316999886096%\" y=\"40\" height=\"18\" overflow=\"visible\" width=\"30\">    <path d=\"M 0 -9 l 6 18 L 0 25\" fill=\"none\" style=\"stroke:rgb(255.0, 0.0, 81.08083606031792);stroke-width:2\" />  </svg></g><rect transform=\"translate(-8,0)\" x=\"71.95300218478062%\" y=\"40\" width=\"8\" height=\"18\" style=\"fill:rgb(255.0, 0.0, 81.08083606031792)\"/><g transform=\"translate(-11.5,0)\">  <svg x=\"21.055689379358334%\" y=\"40\" height=\"18\" overflow=\"visible\" width=\"30\">    <path d=\"M 10 -9 l 6 18 L 10 25 L 0 25 L 0 -9\" fill=\"#ffffff\" style=\"stroke:rgb(255,255,255);stroke-width:2\" />  </svg></g><g transform=\"translate(-1.5,0)\">  <svg x=\"71.95300218478062%\" y=\"40\" height=\"18\" overflow=\"visible\" width=\"30\">    <path d=\"M 0 -9 l 6 18 L 0 25\" fill=\"none\" style=\"stroke:rgb(255, 195, 213);stroke-width:2\" />  </svg></g><rect x=\"57.392914522528294%\" y=\"40\" height=\"20\" width=\"14.560087662252322%\"      onmouseover=\"document.getElementById('_tp_zslxftxpkwdeejsplcyo_ind_1').style.textDecoration = 'underline';document.getElementById('_fs_zslxftxpkwdeejsplcyo_ind_1').style.opacity = 1;document.getElementById('_fb_zslxftxpkwdeejsplcyo_ind_1').style.opacity = 1;\"      onmouseout=\"document.getElementById('_tp_zslxftxpkwdeejsplcyo_ind_1').style.textDecoration = 'none';document.getElementById('_fs_zslxftxpkwdeejsplcyo_ind_1').style.opacity = 0;document.getElementById('_fb_zslxftxpkwdeejsplcyo_ind_1').style.opacity = 0;\" style=\"fill:rgb(0,0,0,0)\" /><g transform=\"translate(-1.5,0)\">  <svg x=\"57.392914522528294%\" y=\"40\" height=\"18\" overflow=\"visible\" width=\"30\">    <path d=\"M 0 -9 l 6 18 L 0 25\" fill=\"none\" style=\"stroke:rgb(255, 195, 213);stroke-width:2\" />  </svg></g><rect x=\"44.00502293655942%\" y=\"40\" height=\"20\" width=\"13.387891585968873%\"      onmouseover=\"document.getElementById('_tp_zslxftxpkwdeejsplcyo_ind_5').style.textDecoration = 'underline';document.getElementById('_fs_zslxftxpkwdeejsplcyo_ind_5').style.opacity = 1;document.getElementById('_fb_zslxftxpkwdeejsplcyo_ind_5').style.opacity = 1;\"      onmouseout=\"document.getElementById('_tp_zslxftxpkwdeejsplcyo_ind_5').style.textDecoration = 'none';document.getElementById('_fs_zslxftxpkwdeejsplcyo_ind_5').style.opacity = 0;document.getElementById('_fb_zslxftxpkwdeejsplcyo_ind_5').style.opacity = 0;\" style=\"fill:rgb(0,0,0,0)\" /><g transform=\"translate(-1.5,0)\">  <svg x=\"44.00502293655942%\" y=\"40\" height=\"18\" overflow=\"visible\" width=\"30\">    <path d=\"M 0 -9 l 6 18 L 0 25\" fill=\"none\" style=\"stroke:rgb(255, 195, 213);stroke-width:2\" />  </svg></g><rect x=\"31.55316999886096%\" y=\"40\" height=\"20\" width=\"12.451852937698462%\"      onmouseover=\"document.getElementById('_tp_zslxftxpkwdeejsplcyo_ind_3').style.textDecoration = 'underline';document.getElementById('_fs_zslxftxpkwdeejsplcyo_ind_3').style.opacity = 1;document.getElementById('_fb_zslxftxpkwdeejsplcyo_ind_3').style.opacity = 1;\"      onmouseout=\"document.getElementById('_tp_zslxftxpkwdeejsplcyo_ind_3').style.textDecoration = 'none';document.getElementById('_fs_zslxftxpkwdeejsplcyo_ind_3').style.opacity = 0;document.getElementById('_fb_zslxftxpkwdeejsplcyo_ind_3').style.opacity = 0;\" style=\"fill:rgb(0,0,0,0)\" /><rect x=\"21.055689379358338%\" y=\"40\" height=\"20\" width=\"10.497480619502621%\"      onmouseover=\"document.getElementById('_tp_zslxftxpkwdeejsplcyo_ind_2').style.textDecoration = 'underline';document.getElementById('_fs_zslxftxpkwdeejsplcyo_ind_2').style.opacity = 1;document.getElementById('_fb_zslxftxpkwdeejsplcyo_ind_2').style.opacity = 1;\"      onmouseout=\"document.getElementById('_tp_zslxftxpkwdeejsplcyo_ind_2').style.textDecoration = 'none';document.getElementById('_fs_zslxftxpkwdeejsplcyo_ind_2').style.opacity = 0;document.getElementById('_fb_zslxftxpkwdeejsplcyo_ind_2').style.opacity = 0;\" style=\"fill:rgb(0,0,0,0)\" /><rect x=\"71.95300218478062%\" width=\"2.126590669072268%\" y=\"40\" height=\"18\" style=\"fill:rgb(0.0, 138.56128015770724, 250.76166088685727); stroke-width:0; stroke:rgb(0,0,0)\" /><line x1=\"71.95300218478062%\" x2=\"74.07959285385289%\" y1=\"60\" y2=\"60\" id=\"_fb_zslxftxpkwdeejsplcyo_ind_4\" style=\"stroke:rgb(0.0, 138.56128015770724, 250.76166088685727);stroke-width:2; opacity: 0\"/><text x=\"73.01629751931675%\" y=\"71\" font-size=\"12px\" fill=\"rgb(0.0, 138.56128015770724, 250.76166088685727)\" id=\"_fs_zslxftxpkwdeejsplcyo_ind_4\" style=\"opacity: 0\" dominant-baseline=\"middle\" text-anchor=\"middle\">-0.275</text><svg x=\"71.95300218478062%\" y=\"40\" height=\"20\" width=\"2.1265906690722716%\">  <svg x=\"0\" y=\"0\" width=\"100%\" height=\"100%\">    <text x=\"50%\" y=\"9\" font-size=\"12px\" fill=\"rgb(255,255,255)\" dominant-baseline=\"middle\" text-anchor=\"middle\">\" I'm no fan of golf, and these scrappy underdog sports flicks are a dime a dozen (most recently done to grand effect with \"Miracle\" and \"Cinderella Man\"),</text>  </svg></svg><rect transform=\"translate(0,0)\" x=\"71.95300218478062%\" y=\"40\" width=\"8\" height=\"18\" style=\"fill:rgb(0.0, 138.56128015770724, 250.76166088685727)\"/><g transform=\"translate(-6.0,0)\">  <svg x=\"74.07959285385289%\" y=\"40\" height=\"18\" overflow=\"visible\" width=\"30\">    <path d=\"M 8 -9 l -6 18 L 8 25 L 20 25 L 20 -9\" fill=\"#ffffff\" style=\"stroke:rgb(255,255,255);stroke-width:2\" />  </svg></g><rect x=\"71.95300218478062%\" y=\"40\" height=\"20\" width=\"2.1265906690722716%\"      onmouseover=\"document.getElementById('_tp_zslxftxpkwdeejsplcyo_ind_4').style.textDecoration = 'underline';document.getElementById('_fs_zslxftxpkwdeejsplcyo_ind_4').style.opacity = 1;document.getElementById('_fb_zslxftxpkwdeejsplcyo_ind_4').style.opacity = 1;\"      onmouseout=\"document.getElementById('_tp_zslxftxpkwdeejsplcyo_ind_4').style.textDecoration = 'none';document.getElementById('_fs_zslxftxpkwdeejsplcyo_ind_4').style.opacity = 0;document.getElementById('_fb_zslxftxpkwdeejsplcyo_ind_4').style.opacity = 0;\" style=\"fill:rgb(0,0,0,0)\" /></svg><div style='display: inline; text-align: center;'><div style='display: none; color: #999; padding-top: 0px; font-size: 12px;'>0.0</div><div id='_tp_zslxftxpkwdeejsplcyo_ind_0'style='display: inline; background: rgba(230.2941176470614, 26.505882352939775, 102.59215686274348, 0.0); border-radius: 3px; padding: 0px'onclick=\"if (this.previousSibling.style.display == 'none') {this.previousSibling.style.display = 'block';this.parentNode.style.display = 'inline-block';} else {this.previousSibling.style.display = 'none';this.parentNode.style.display = 'inline';}\"onmouseover=\"document.getElementById('_fb_zslxftxpkwdeejsplcyo_ind_0').style.opacity = 1; document.getElementById('_fs_zslxftxpkwdeejsplcyo_ind_0').style.opacity = 1;\"onmouseout=\"document.getElementById('_fb_zslxftxpkwdeejsplcyo_ind_0').style.opacity = 0; document.getElementById('_fs_zslxftxpkwdeejsplcyo_ind_0').style.opacity = 0;\"></div></div><div style='display: inline; text-align: center;'><div style='display: none; color: #999; padding-top: 0px; font-size: 12px;'>1.885 / 33</div><div id='_tp_zslxftxpkwdeejsplcyo_ind_1'style='display: inline; background: rgba(255.0, 13.0, 87.0, 0.44820756585462457); border-radius: 3px; padding: 0px'onclick=\"if (this.previousSibling.style.display == 'none') {this.previousSibling.style.display = 'block';this.parentNode.style.display = 'inline-block';} else {this.previousSibling.style.display = 'none';this.parentNode.style.display = 'inline';}\"onmouseover=\"document.getElementById('_fb_zslxftxpkwdeejsplcyo_ind_1').style.opacity = 1; document.getElementById('_fs_zslxftxpkwdeejsplcyo_ind_1').style.opacity = 1;\"onmouseout=\"document.getElementById('_fb_zslxftxpkwdeejsplcyo_ind_1').style.opacity = 0; document.getElementById('_fs_zslxftxpkwdeejsplcyo_ind_1').style.opacity = 0;\">Actor turned director Bill Paxton follows up his promising debut, the Gothic-horror \"Frailty\", with this family friendly sports drama about the 1913 U.S. </div></div><div style='display: inline; text-align: center;'><div style='display: none; color: #999; padding-top: 0px; font-size: 12px;'>1.359 / 19</div><div id='_tp_zslxftxpkwdeejsplcyo_ind_2'style='display: inline; background: rgba(255.0, 13.0, 87.0, 0.32208358090711037); border-radius: 3px; padding: 0px'onclick=\"if (this.previousSibling.style.display == 'none') {this.previousSibling.style.display = 'block';this.parentNode.style.display = 'inline-block';} else {this.previousSibling.style.display = 'none';this.parentNode.style.display = 'inline';}\"onmouseover=\"document.getElementById('_fb_zslxftxpkwdeejsplcyo_ind_2').style.opacity = 1; document.getElementById('_fs_zslxftxpkwdeejsplcyo_ind_2').style.opacity = 1;\"onmouseout=\"document.getElementById('_fb_zslxftxpkwdeejsplcyo_ind_2').style.opacity = 0; document.getElementById('_fs_zslxftxpkwdeejsplcyo_ind_2').style.opacity = 0;\">Open where a young American caddy rises from his humble background to play against his Bristish </div></div><div style='display: inline; text-align: center;'><div style='display: none; color: #999; padding-top: 0px; font-size: 12px;'>1.612 / 13</div><div id='_tp_zslxftxpkwdeejsplcyo_ind_3'style='display: inline; background: rgba(255.0, 13.0, 87.0, 0.3851455733808676); border-radius: 3px; padding: 0px'onclick=\"if (this.previousSibling.style.display == 'none') {this.previousSibling.style.display = 'block';this.parentNode.style.display = 'inline-block';} else {this.previousSibling.style.display = 'none';this.parentNode.style.display = 'inline';}\"onmouseover=\"document.getElementById('_fb_zslxftxpkwdeejsplcyo_ind_3').style.opacity = 1; document.getElementById('_fs_zslxftxpkwdeejsplcyo_ind_3').style.opacity = 1;\"onmouseout=\"document.getElementById('_fb_zslxftxpkwdeejsplcyo_ind_3').style.opacity = 0; document.getElementById('_fs_zslxftxpkwdeejsplcyo_ind_3').style.opacity = 0;\">idol in what was dubbed as \"The Greatest Game Ever Played.</div></div><div style='display: inline; text-align: center;'><div style='display: none; color: #999; padding-top: 0px; font-size: 12px;'>-0.275 / 41</div><div id='_tp_zslxftxpkwdeejsplcyo_ind_4'style='display: inline; background: rgba(30.0, 136.0, 229.0, 0.06195286195286191); border-radius: 3px; padding: 0px'onclick=\"if (this.previousSibling.style.display == 'none') {this.previousSibling.style.display = 'block';this.parentNode.style.display = 'inline-block';} else {this.previousSibling.style.display = 'none';this.parentNode.style.display = 'inline';}\"onmouseover=\"document.getElementById('_fb_zslxftxpkwdeejsplcyo_ind_4').style.opacity = 1; document.getElementById('_fs_zslxftxpkwdeejsplcyo_ind_4').style.opacity = 1;\"onmouseout=\"document.getElementById('_fb_zslxftxpkwdeejsplcyo_ind_4').style.opacity = 0; document.getElementById('_fs_zslxftxpkwdeejsplcyo_ind_4').style.opacity = 0;\">\" I'm no fan of golf, and these scrappy underdog sports flicks are a dime a dozen (most recently done to grand effect with \"Miracle\" and \"Cinderella Man\"), </div></div><div style='display: inline; text-align: center;'><div style='display: none; color: #999; padding-top: 0px; font-size: 12px;'>1.733 / 10</div><div id='_tp_zslxftxpkwdeejsplcyo_ind_5'style='display: inline; background: rgba(255.0, 13.0, 87.0, 0.41667656961774624); border-radius: 3px; padding: 0px'onclick=\"if (this.previousSibling.style.display == 'none') {this.previousSibling.style.display = 'block';this.parentNode.style.display = 'inline-block';} else {this.previousSibling.style.display = 'none';this.parentNode.style.display = 'inline';}\"onmouseover=\"document.getElementById('_fb_zslxftxpkwdeejsplcyo_ind_5').style.opacity = 1; document.getElementById('_fs_zslxftxpkwdeejsplcyo_ind_5').style.opacity = 1;\"onmouseout=\"document.getElementById('_fb_zslxftxpkwdeejsplcyo_ind_5').style.opacity = 0; document.getElementById('_fs_zslxftxpkwdeejsplcyo_ind_5').style.opacity = 0;\">but some how this film was enthralli</div></div><div style='display: inline; text-align: center;'><div style='display: none; color: #999; padding-top: 0px; font-size: 12px;'>0.0</div><div id='_tp_zslxftxpkwdeejsplcyo_ind_6'style='display: inline; background: rgba(230.2941176470614, 26.505882352939775, 102.59215686274348, 0.0); border-radius: 3px; padding: 0px'onclick=\"if (this.previousSibling.style.display == 'none') {this.previousSibling.style.display = 'block';this.parentNode.style.display = 'inline-block';} else {this.previousSibling.style.display = 'none';this.parentNode.style.display = 'inline';}\"onmouseover=\"document.getElementById('_fb_zslxftxpkwdeejsplcyo_ind_6').style.opacity = 1; document.getElementById('_fs_zslxftxpkwdeejsplcyo_ind_6').style.opacity = 1;\"onmouseout=\"document.getElementById('_fb_zslxftxpkwdeejsplcyo_ind_6').style.opacity = 0; document.getElementById('_fs_zslxftxpkwdeejsplcyo_ind_6').style.opacity = 0;\"></div></div>"
            ],
            "text/plain": [
              "<IPython.core.display.HTML object>"
            ]
          },
          "metadata": {
            "tags": []
          }
        }
      ]
    },
    {
      "cell_type": "code",
      "metadata": {
        "id": "H-1jj-BoxCi6"
      },
      "source": [
        ""
      ],
      "execution_count": null,
      "outputs": []
    },
    {
      "cell_type": "code",
      "metadata": {
        "id": "ymh50lvdwW6D"
      },
      "source": [
        "pmodel = shap.models.TransformersPipeline(classifier, rescale_to_logits=False)"
      ],
      "execution_count": null,
      "outputs": []
    },
    {
      "cell_type": "code",
      "metadata": {
        "colab": {
          "base_uri": "https://localhost:8080/"
        },
        "id": "iMQgpq7TxDWs",
        "outputId": "c08aabc1-ad07-4666-bf22-de3d0890e83e"
      },
      "source": [
        "pmodel(short_data[:2])"
      ],
      "execution_count": null,
      "outputs": [
        {
          "output_type": "execute_result",
          "data": {
            "text/plain": [
              "array([[0.00120352, 0.99879652],\n",
              "       [0.00221878, 0.99778122]])"
            ]
          },
          "metadata": {
            "tags": []
          },
          "execution_count": 18
        }
      ]
    },
    {
      "cell_type": "code",
      "metadata": {
        "colab": {
          "base_uri": "https://localhost:8080/"
        },
        "id": "zwEN6HygxH2N",
        "outputId": "610aa662-f383-44ff-c61e-95d7074e6d62"
      },
      "source": [
        "pmodel = shap.models.TransformersPipeline(classifier, rescale_to_logits=True)\n",
        "pmodel(short_data[:2])"
      ],
      "execution_count": null,
      "outputs": [
        {
          "output_type": "execute_result",
          "data": {
            "text/plain": [
              "array([[-6.72130422,  6.72133589],\n",
              "       [-6.10857491,  6.10857523]])"
            ]
          },
          "metadata": {
            "tags": []
          },
          "execution_count": 19
        }
      ]
    },
    {
      "cell_type": "code",
      "metadata": {
        "colab": {
          "base_uri": "https://localhost:8080/",
          "height": 409,
          "referenced_widgets": [
            "f1476ef36a974ee2808032b36480cc12",
            "4e6bd663b47f4d96a032ea3bb13e0ac0",
            "72103409250044a08510fff7bfaadcfb",
            "2ef220c1545242698a74b198f7912f7f",
            "8610557951674c15b432898df00f9420",
            "306bd3dfcdf14ebfa462c92e55a41ace",
            "9034ba21f1844ee38efd2df914172a95",
            "0b0a6618ff0a48ef89a962dc17f94e7d",
            "524aef4fb6db406cb984b7c7e0381313",
            "38193b43d7f94ccfa981b361f88c165c",
            "380a709f16d443c48ce51366977bec55",
            "d99c64af344149b3bdd698d394f68e0e",
            "65875a6b6d0a4d7599f702cb7b4b1eee",
            "54305426ed4a403eaa0e79ef44ac237f",
            "7e10cf72aa7d446cafa9e53f68602868",
            "5125fad968094a6d8e8c9a8756da95c8"
          ]
        },
        "id": "F8Z3-HpixKtk",
        "outputId": "52eca59c-5788-44ab-e670-f166f146916b"
      },
      "source": [
        "explainer2 = shap.Explainer(pmodel)\n",
        "shap_values2 = explainer2(short_data[:2])\n",
        "shap.plots.text(shap_values2[:,:,1])"
      ],
      "execution_count": null,
      "outputs": [
        {
          "output_type": "display_data",
          "data": {
            "application/vnd.jupyter.widget-view+json": {
              "model_id": "f1476ef36a974ee2808032b36480cc12",
              "version_minor": 0,
              "version_major": 2
            },
            "text/plain": [
              "HBox(children=(FloatProgress(value=0.0, max=48.0), HTML(value='')))"
            ]
          },
          "metadata": {
            "tags": []
          }
        },
        {
          "output_type": "stream",
          "text": [
            "\r"
          ],
          "name": "stdout"
        },
        {
          "output_type": "display_data",
          "data": {
            "application/vnd.jupyter.widget-view+json": {
              "model_id": "524aef4fb6db406cb984b7c7e0381313",
              "version_minor": 0,
              "version_major": 2
            },
            "text/plain": [
              "HBox(children=(FloatProgress(value=0.0, max=48.0), HTML(value='')))"
            ]
          },
          "metadata": {
            "tags": []
          }
        },
        {
          "output_type": "stream",
          "text": [
            "Partition explainer: 3it [00:17,  5.94s/it]               "
          ],
          "name": "stderr"
        },
        {
          "output_type": "stream",
          "text": [
            "\r"
          ],
          "name": "stdout"
        },
        {
          "output_type": "stream",
          "text": [
            "\n",
            "Creating an ndarray from ragged nested sequences (which is a list-or-tuple of lists-or-tuples-or ndarrays with different lengths or shapes) is deprecated. If you meant to do this, you must specify 'dtype=object' when creating the ndarray\n"
          ],
          "name": "stderr"
        },
        {
          "output_type": "display_data",
          "data": {
            "text/html": [
              "<br/><b>0th instance:</b><br/>"
            ],
            "text/plain": [
              "<IPython.core.display.HTML object>"
            ]
          },
          "metadata": {
            "tags": []
          }
        },
        {
          "output_type": "display_data",
          "data": {
            "text/html": [
              "<svg width=\"100%\" height=\"80px\"><line x1=\"0\" y1=\"33\" x2=\"100%\" y2=\"33\" style=\"stroke:rgb(150,150,150);stroke-width:1\" /><line x1=\"23.312873%\" y1=\"33\" x2=\"23.312873%\" y2=\"37\" style=\"stroke:rgb(150,150,150);stroke-width:1\" /><text x=\"23.312873%\" y=\"27\" font-size=\"12px\" fill=\"rgb(120,120,120)\" dominant-baseline=\"bottom\" text-anchor=\"middle\">-0.187151</text><text x=\"23.312873%\" y=\"10\" font-size=\"12px\" fill=\"rgb(120,120,120)\" dominant-baseline=\"bottom\" text-anchor=\"middle\">base value</text><line x1=\"9.027158%\" y1=\"33\" x2=\"9.027158%\" y2=\"37\" style=\"stroke:rgb(150,150,150);stroke-width:1\" /><text x=\"9.027158%\" y=\"27\" font-size=\"12px\" fill=\"rgb(120,120,120)\" dominant-baseline=\"bottom\" text-anchor=\"middle\">-2.036220</text><line x1=\"37.598587%\" y1=\"33\" x2=\"37.598587%\" y2=\"37\" style=\"stroke:rgb(150,150,150);stroke-width:1\" /><text x=\"37.598587%\" y=\"27\" font-size=\"12px\" fill=\"rgb(120,120,120)\" dominant-baseline=\"bottom\" text-anchor=\"middle\">1.661918</text><line x1=\"51.884301%\" y1=\"33\" x2=\"51.884301%\" y2=\"37\" style=\"stroke:rgb(150,150,150);stroke-width:1\" /><text x=\"51.884301%\" y=\"27\" font-size=\"12px\" fill=\"rgb(120,120,120)\" dominant-baseline=\"bottom\" text-anchor=\"middle\">3.510986</text><line x1=\"66.170015%\" y1=\"33\" x2=\"66.170015%\" y2=\"37\" style=\"stroke:rgb(150,150,150);stroke-width:1\" /><text x=\"66.170015%\" y=\"27\" font-size=\"12px\" fill=\"rgb(120,120,120)\" dominant-baseline=\"bottom\" text-anchor=\"middle\">5.360055</text><line x1=\"80.455730%\" y1=\"33\" x2=\"80.455730%\" y2=\"37\" style=\"stroke:rgb(150,150,150);stroke-width:1\" /><text x=\"80.455730%\" y=\"27\" font-size=\"12px\" fill=\"rgb(120,120,120)\" dominant-baseline=\"bottom\" text-anchor=\"middle\">7.209124</text><line x1=\"76.687127%\" y1=\"33\" x2=\"76.687127%\" y2=\"37\" style=\"stroke:rgb(150,150,150);stroke-width:1\" /><text x=\"76.687127%\" y=\"27\" font-size=\"13px\" style=\"stroke:#ffffff;stroke-width:8px;\" font-weight=\"bold\" fill=\"rgb(255,255,255)\" dominant-baseline=\"bottom\" text-anchor=\"middle\">6.721336</text><text x=\"76.687127%\" y=\"27\" font-size=\"13px\" font-weight=\"bold\" fill=\"rgb(0,0,0)\" dominant-baseline=\"bottom\" text-anchor=\"middle\">6.721336</text><text x=\"76.687127%\" y=\"10\" font-size=\"12px\" fill=\"rgb(120,120,120)\" dominant-baseline=\"bottom\" text-anchor=\"middle\">f(x)</text><rect x=\"8.333333333333336%\" width=\"68.3537940904717%\" y=\"40\" height=\"18\" style=\"fill:rgb(255.0, 0.0, 81.08083606031792); stroke-width:0; stroke:rgb(0,0,0)\" /><line x1=\"44.40393669251893%\" x2=\"76.68712742380502%\" y1=\"60\" y2=\"60\" id=\"_fb_oseicrypmpllmrezyzkl_ind_3\" style=\"stroke:rgb(255.0, 0.0, 81.08083606031792);stroke-width:2; opacity: 0\"/><text x=\"60.54553205816198%\" y=\"71\" font-size=\"12px\" id=\"_fs_oseicrypmpllmrezyzkl_ind_3\" fill=\"rgb(255.0, 0.0, 81.08083606031792)\" style=\"opacity: 0\" dominant-baseline=\"middle\" text-anchor=\"middle\">4.179</text><svg x=\"44.40393669251893%\" y=\"40\" height=\"20\" width=\"32.28319073128609%\">  <svg x=\"0\" y=\"0\" width=\"100%\" height=\"100%\">    <text x=\"50%\" y=\"9\" font-size=\"12px\" fill=\"rgb(255,255,255)\" dominant-baseline=\"middle\" text-anchor=\"middle\">The sign of a good movie is that it can toy with our emotions. This one did exactly that.</text>  </svg></svg><line x1=\"18.147906713735786%\" x2=\"44.40393669251893%\" y1=\"60\" y2=\"60\" id=\"_fb_oseicrypmpllmrezyzkl_ind_4\" style=\"stroke:rgb(255.0, 0.0, 81.08083606031792);stroke-width:2; opacity: 0\"/><text x=\"31.27592170312736%\" y=\"71\" font-size=\"12px\" id=\"_fs_oseicrypmpllmrezyzkl_ind_4\" fill=\"rgb(255.0, 0.0, 81.08083606031792)\" style=\"opacity: 0\" dominant-baseline=\"middle\" text-anchor=\"middle\">3.398</text><svg x=\"18.147906713735786%\" y=\"40\" height=\"20\" width=\"26.256029978783147%\">  <svg x=\"0\" y=\"0\" width=\"100%\" height=\"100%\">    <text x=\"50%\" y=\"9\" font-size=\"12px\" fill=\"rgb(255,255,255)\" dominant-baseline=\"middle\" text-anchor=\"middle\">The entire theater (which was sold out) was overcome by laughter during the</text>  </svg></svg><line x1=\"8.333333333333329%\" x2=\"18.147906713735786%\" y1=\"60\" y2=\"60\" id=\"_fb_oseicrypmpllmrezyzkl_ind_2\" style=\"stroke:rgb(255.0, 0.0, 81.08083606031792);stroke-width:2; opacity: 0\"/><text x=\"13.240620023534557%\" y=\"71\" font-size=\"12px\" id=\"_fs_oseicrypmpllmrezyzkl_ind_2\" fill=\"rgb(255.0, 0.0, 81.08083606031792)\" style=\"opacity: 0\" dominant-baseline=\"middle\" text-anchor=\"middle\">1.27</text><svg x=\"8.333333333333329%\" y=\"40\" height=\"20\" width=\"9.814573380402457%\">  <svg x=\"0\" y=\"0\" width=\"100%\" height=\"100%\">    <text x=\"50%\" y=\"9\" font-size=\"12px\" fill=\"rgb(255,255,255)\" dominant-baseline=\"middle\" text-anchor=\"middle\">I was wrong. Kutcher played the character of Jake Fischer very well, and Kevin Costner played Ben Randall with such professionalism.</text>  </svg></svg><g transform=\"translate(0,0)\">  <svg x=\"44.40393669251893%\" y=\"40\" height=\"18\" overflow=\"visible\" width=\"30\">    <path d=\"M 0 -9 l 6 18 L 0 25\" fill=\"none\" style=\"stroke:rgb(255.0, 0.0, 81.08083606031792);stroke-width:2\" />  </svg></g><g transform=\"translate(2,0)\">  <svg x=\"44.40393669251893%\" y=\"40\" height=\"18\" overflow=\"visible\" width=\"30\">    <path d=\"M 0 -9 l 6 18 L 0 25\" fill=\"none\" style=\"stroke:rgb(255.0, 0.0, 81.08083606031792);stroke-width:2\" />  </svg></g><g transform=\"translate(4,0)\">  <svg x=\"44.40393669251893%\" y=\"40\" height=\"18\" overflow=\"visible\" width=\"30\">    <path d=\"M 0 -9 l 6 18 L 0 25\" fill=\"none\" style=\"stroke:rgb(255.0, 0.0, 81.08083606031792);stroke-width:2\" />  </svg></g><g transform=\"translate(6,0)\">  <svg x=\"44.40393669251893%\" y=\"40\" height=\"18\" overflow=\"visible\" width=\"30\">    <path d=\"M 0 -9 l 6 18 L 0 25\" fill=\"none\" style=\"stroke:rgb(255.0, 0.0, 81.08083606031792);stroke-width:2\" />  </svg></g><g transform=\"translate(-8,0)\">  <svg x=\"44.40393669251893%\" y=\"40\" height=\"18\" overflow=\"visible\" width=\"30\">    <path d=\"M 0 -9 l 6 18 L 0 25\" fill=\"none\" style=\"stroke:rgb(255.0, 0.0, 81.08083606031792);stroke-width:2\" />  </svg></g><g transform=\"translate(-6,0)\">  <svg x=\"44.40393669251893%\" y=\"40\" height=\"18\" overflow=\"visible\" width=\"30\">    <path d=\"M 0 -9 l 6 18 L 0 25\" fill=\"none\" style=\"stroke:rgb(255.0, 0.0, 81.08083606031792);stroke-width:2\" />  </svg></g><g transform=\"translate(-4,0)\">  <svg x=\"44.40393669251893%\" y=\"40\" height=\"18\" overflow=\"visible\" width=\"30\">    <path d=\"M 0 -9 l 6 18 L 0 25\" fill=\"none\" style=\"stroke:rgb(255.0, 0.0, 81.08083606031792);stroke-width:2\" />  </svg></g><g transform=\"translate(-2,0)\">  <svg x=\"44.40393669251893%\" y=\"40\" height=\"18\" overflow=\"visible\" width=\"30\">    <path d=\"M 0 -9 l 6 18 L 0 25\" fill=\"none\" style=\"stroke:rgb(255.0, 0.0, 81.08083606031792);stroke-width:2\" />  </svg></g><g transform=\"translate(0,0)\">  <svg x=\"18.147906713735786%\" y=\"40\" height=\"18\" overflow=\"visible\" width=\"30\">    <path d=\"M 0 -9 l 6 18 L 0 25\" fill=\"none\" style=\"stroke:rgb(255.0, 0.0, 81.08083606031792);stroke-width:2\" />  </svg></g><g transform=\"translate(2,0)\">  <svg x=\"18.147906713735786%\" y=\"40\" height=\"18\" overflow=\"visible\" width=\"30\">    <path d=\"M 0 -9 l 6 18 L 0 25\" fill=\"none\" style=\"stroke:rgb(255.0, 0.0, 81.08083606031792);stroke-width:2\" />  </svg></g><g transform=\"translate(4,0)\">  <svg x=\"18.147906713735786%\" y=\"40\" height=\"18\" overflow=\"visible\" width=\"30\">    <path d=\"M 0 -9 l 6 18 L 0 25\" fill=\"none\" style=\"stroke:rgb(255.0, 0.0, 81.08083606031792);stroke-width:2\" />  </svg></g><g transform=\"translate(6,0)\">  <svg x=\"18.147906713735786%\" y=\"40\" height=\"18\" overflow=\"visible\" width=\"30\">    <path d=\"M 0 -9 l 6 18 L 0 25\" fill=\"none\" style=\"stroke:rgb(255.0, 0.0, 81.08083606031792);stroke-width:2\" />  </svg></g><g transform=\"translate(-8,0)\">  <svg x=\"18.147906713735786%\" y=\"40\" height=\"18\" overflow=\"visible\" width=\"30\">    <path d=\"M 0 -9 l 6 18 L 0 25\" fill=\"none\" style=\"stroke:rgb(255.0, 0.0, 81.08083606031792);stroke-width:2\" />  </svg></g><g transform=\"translate(-6,0)\">  <svg x=\"18.147906713735786%\" y=\"40\" height=\"18\" overflow=\"visible\" width=\"30\">    <path d=\"M 0 -9 l 6 18 L 0 25\" fill=\"none\" style=\"stroke:rgb(255.0, 0.0, 81.08083606031792);stroke-width:2\" />  </svg></g><g transform=\"translate(-4,0)\">  <svg x=\"18.147906713735786%\" y=\"40\" height=\"18\" overflow=\"visible\" width=\"30\">    <path d=\"M 0 -9 l 6 18 L 0 25\" fill=\"none\" style=\"stroke:rgb(255.0, 0.0, 81.08083606031792);stroke-width:2\" />  </svg></g><g transform=\"translate(-2,0)\">  <svg x=\"18.147906713735786%\" y=\"40\" height=\"18\" overflow=\"visible\" width=\"30\">    <path d=\"M 0 -9 l 6 18 L 0 25\" fill=\"none\" style=\"stroke:rgb(255.0, 0.0, 81.08083606031792);stroke-width:2\" />  </svg></g><rect transform=\"translate(-8,0)\" x=\"76.68712742380502%\" y=\"40\" width=\"8\" height=\"18\" style=\"fill:rgb(255.0, 0.0, 81.08083606031792)\"/><g transform=\"translate(-11.5,0)\">  <svg x=\"8.333333333333336%\" y=\"40\" height=\"18\" overflow=\"visible\" width=\"30\">    <path d=\"M 10 -9 l 6 18 L 10 25 L 0 25 L 0 -9\" fill=\"#ffffff\" style=\"stroke:rgb(255,255,255);stroke-width:2\" />  </svg></g><g transform=\"translate(-1.5,0)\">  <svg x=\"76.68712742380502%\" y=\"40\" height=\"18\" overflow=\"visible\" width=\"30\">    <path d=\"M 0 -9 l 6 18 L 0 25\" fill=\"none\" style=\"stroke:rgb(255, 195, 213);stroke-width:2\" />  </svg></g><rect x=\"44.40393669251893%\" y=\"40\" height=\"20\" width=\"32.28319073128609%\"      onmouseover=\"document.getElementById('_tp_oseicrypmpllmrezyzkl_ind_3').style.textDecoration = 'underline';document.getElementById('_fs_oseicrypmpllmrezyzkl_ind_3').style.opacity = 1;document.getElementById('_fb_oseicrypmpllmrezyzkl_ind_3').style.opacity = 1;\"      onmouseout=\"document.getElementById('_tp_oseicrypmpllmrezyzkl_ind_3').style.textDecoration = 'none';document.getElementById('_fs_oseicrypmpllmrezyzkl_ind_3').style.opacity = 0;document.getElementById('_fb_oseicrypmpllmrezyzkl_ind_3').style.opacity = 0;\" style=\"fill:rgb(0,0,0,0)\" /><g transform=\"translate(-1.5,0)\">  <svg x=\"44.40393669251893%\" y=\"40\" height=\"18\" overflow=\"visible\" width=\"30\">    <path d=\"M 0 -9 l 6 18 L 0 25\" fill=\"none\" style=\"stroke:rgb(255, 195, 213);stroke-width:2\" />  </svg></g><rect x=\"18.147906713735786%\" y=\"40\" height=\"20\" width=\"26.256029978783147%\"      onmouseover=\"document.getElementById('_tp_oseicrypmpllmrezyzkl_ind_4').style.textDecoration = 'underline';document.getElementById('_fs_oseicrypmpllmrezyzkl_ind_4').style.opacity = 1;document.getElementById('_fb_oseicrypmpllmrezyzkl_ind_4').style.opacity = 1;\"      onmouseout=\"document.getElementById('_tp_oseicrypmpllmrezyzkl_ind_4').style.textDecoration = 'none';document.getElementById('_fs_oseicrypmpllmrezyzkl_ind_4').style.opacity = 0;document.getElementById('_fb_oseicrypmpllmrezyzkl_ind_4').style.opacity = 0;\" style=\"fill:rgb(0,0,0,0)\" /><rect x=\"8.333333333333329%\" y=\"40\" height=\"20\" width=\"9.814573380402457%\"      onmouseover=\"document.getElementById('_tp_oseicrypmpllmrezyzkl_ind_2').style.textDecoration = 'underline';document.getElementById('_fs_oseicrypmpllmrezyzkl_ind_2').style.opacity = 1;document.getElementById('_fb_oseicrypmpllmrezyzkl_ind_2').style.opacity = 1;\"      onmouseout=\"document.getElementById('_tp_oseicrypmpllmrezyzkl_ind_2').style.textDecoration = 'none';document.getElementById('_fs_oseicrypmpllmrezyzkl_ind_2').style.opacity = 0;document.getElementById('_fb_oseicrypmpllmrezyzkl_ind_2').style.opacity = 0;\" style=\"fill:rgb(0,0,0,0)\" /><rect x=\"76.68712742380502%\" width=\"14.97953924286163%\" y=\"40\" height=\"18\" style=\"fill:rgb(0.0, 138.56128015770724, 250.76166088685727); stroke-width:0; stroke:rgb(0,0,0)\" /><line x1=\"76.68712742380502%\" x2=\"91.66666666666666%\" y1=\"60\" y2=\"60\" id=\"_fb_oseicrypmpllmrezyzkl_ind_1\" style=\"stroke:rgb(0.0, 138.56128015770724, 250.76166088685727);stroke-width:2; opacity: 0\"/><text x=\"84.17689704523585%\" y=\"71\" font-size=\"12px\" fill=\"rgb(0.0, 138.56128015770724, 250.76166088685727)\" id=\"_fs_oseicrypmpllmrezyzkl_ind_1\" style=\"opacity: 0\" dominant-baseline=\"middle\" text-anchor=\"middle\">-1.939</text><svg x=\"76.68712742380502%\" y=\"40\" height=\"20\" width=\"14.979539242861634%\">  <svg x=\"0\" y=\"0\" width=\"100%\" height=\"100%\">    <text x=\"50%\" y=\"9\" font-size=\"12px\" fill=\"rgb(255,255,255)\" dominant-baseline=\"middle\" text-anchor=\"middle\">I went and saw this movie last night after being coaxed to by a few friends of mine. I'll admit that I was reluctant to see it because from what I knew of Ashton Kutcher he was only able to do comedy.</text>  </svg></svg><rect transform=\"translate(0,0)\" x=\"76.68712742380502%\" y=\"40\" width=\"8\" height=\"18\" style=\"fill:rgb(0.0, 138.56128015770724, 250.76166088685727)\"/><g transform=\"translate(-6.0,0)\">  <svg x=\"91.66666666666666%\" y=\"40\" height=\"18\" overflow=\"visible\" width=\"30\">    <path d=\"M 8 -9 l -6 18 L 8 25 L 20 25 L 20 -9\" fill=\"#ffffff\" style=\"stroke:rgb(255,255,255);stroke-width:2\" />  </svg></g><rect x=\"76.68712742380502%\" y=\"40\" height=\"20\" width=\"14.979539242861634%\"      onmouseover=\"document.getElementById('_tp_oseicrypmpllmrezyzkl_ind_1').style.textDecoration = 'underline';document.getElementById('_fs_oseicrypmpllmrezyzkl_ind_1').style.opacity = 1;document.getElementById('_fb_oseicrypmpllmrezyzkl_ind_1').style.opacity = 1;\"      onmouseout=\"document.getElementById('_tp_oseicrypmpllmrezyzkl_ind_1').style.textDecoration = 'none';document.getElementById('_fs_oseicrypmpllmrezyzkl_ind_1').style.opacity = 0;document.getElementById('_fb_oseicrypmpllmrezyzkl_ind_1').style.opacity = 0;\" style=\"fill:rgb(0,0,0,0)\" /></svg><div style='display: inline; text-align: center;'><div style='display: none; color: #999; padding-top: 0px; font-size: 12px;'>0.0</div><div id='_tp_oseicrypmpllmrezyzkl_ind_0'style='display: inline; background: rgba(230.2941176470614, 26.505882352939775, 102.59215686274348, 0.0); border-radius: 3px; padding: 0px'onclick=\"if (this.previousSibling.style.display == 'none') {this.previousSibling.style.display = 'block';this.parentNode.style.display = 'inline-block';} else {this.previousSibling.style.display = 'none';this.parentNode.style.display = 'inline';}\"onmouseover=\"document.getElementById('_fb_oseicrypmpllmrezyzkl_ind_0').style.opacity = 1; document.getElementById('_fs_oseicrypmpllmrezyzkl_ind_0').style.opacity = 1;\"onmouseout=\"document.getElementById('_fb_oseicrypmpllmrezyzkl_ind_0').style.opacity = 0; document.getElementById('_fs_oseicrypmpllmrezyzkl_ind_0').style.opacity = 0;\"></div></div><div style='display: inline; text-align: center;'><div style='display: none; color: #999; padding-top: 0px; font-size: 12px;'>-1.939 / 49</div><div id='_tp_oseicrypmpllmrezyzkl_ind_1'style='display: inline; background: rgba(30.0, 136.0, 229.0, 0.46397306397306387); border-radius: 3px; padding: 0px'onclick=\"if (this.previousSibling.style.display == 'none') {this.previousSibling.style.display = 'block';this.parentNode.style.display = 'inline-block';} else {this.previousSibling.style.display = 'none';this.parentNode.style.display = 'inline';}\"onmouseover=\"document.getElementById('_fb_oseicrypmpllmrezyzkl_ind_1').style.opacity = 1; document.getElementById('_fs_oseicrypmpllmrezyzkl_ind_1').style.opacity = 1;\"onmouseout=\"document.getElementById('_fb_oseicrypmpllmrezyzkl_ind_1').style.opacity = 0; document.getElementById('_fs_oseicrypmpllmrezyzkl_ind_1').style.opacity = 0;\">I went and saw this movie last night after being coaxed to by a few friends of mine. I'll admit that I was reluctant to see it because from what I knew of Ashton Kutcher he was only able to do comedy. </div></div><div style='display: inline; text-align: center;'><div style='display: none; color: #999; padding-top: 0px; font-size: 12px;'>1.27 / 28</div><div id='_tp_oseicrypmpllmrezyzkl_ind_2'style='display: inline; background: rgba(255.0, 13.0, 87.0, 0.29843533372945136); border-radius: 3px; padding: 0px'onclick=\"if (this.previousSibling.style.display == 'none') {this.previousSibling.style.display = 'block';this.parentNode.style.display = 'inline-block';} else {this.previousSibling.style.display = 'none';this.parentNode.style.display = 'inline';}\"onmouseover=\"document.getElementById('_fb_oseicrypmpllmrezyzkl_ind_2').style.opacity = 1; document.getElementById('_fs_oseicrypmpllmrezyzkl_ind_2').style.opacity = 1;\"onmouseout=\"document.getElementById('_fb_oseicrypmpllmrezyzkl_ind_2').style.opacity = 0; document.getElementById('_fs_oseicrypmpllmrezyzkl_ind_2').style.opacity = 0;\">I was wrong. Kutcher played the character of Jake Fischer very well, and Kevin Costner played Ben Randall with such professionalism. </div></div><div style='display: inline; text-align: center;'><div style='display: none; color: #999; padding-top: 0px; font-size: 12px;'>4.179 / 21</div><div id='_tp_oseicrypmpllmrezyzkl_ind_3'style='display: inline; background: rgba(255.0, 13.0, 87.0, 1.0); border-radius: 3px; padding: 0px'onclick=\"if (this.previousSibling.style.display == 'none') {this.previousSibling.style.display = 'block';this.parentNode.style.display = 'inline-block';} else {this.previousSibling.style.display = 'none';this.parentNode.style.display = 'inline';}\"onmouseover=\"document.getElementById('_fb_oseicrypmpllmrezyzkl_ind_3').style.opacity = 1; document.getElementById('_fs_oseicrypmpllmrezyzkl_ind_3').style.opacity = 1;\"onmouseout=\"document.getElementById('_fb_oseicrypmpllmrezyzkl_ind_3').style.opacity = 0; document.getElementById('_fs_oseicrypmpllmrezyzkl_ind_3').style.opacity = 0;\">The sign of a good movie is that it can toy with our emotions. This one did exactly that. </div></div><div style='display: inline; text-align: center;'><div style='display: none; color: #999; padding-top: 0px; font-size: 12px;'>3.398 / 15</div><div id='_tp_oseicrypmpllmrezyzkl_ind_4'style='display: inline; background: rgba(255.0, 13.0, 87.0, 0.8186967716379481); border-radius: 3px; padding: 0px'onclick=\"if (this.previousSibling.style.display == 'none') {this.previousSibling.style.display = 'block';this.parentNode.style.display = 'inline-block';} else {this.previousSibling.style.display = 'none';this.parentNode.style.display = 'inline';}\"onmouseover=\"document.getElementById('_fb_oseicrypmpllmrezyzkl_ind_4').style.opacity = 1; document.getElementById('_fs_oseicrypmpllmrezyzkl_ind_4').style.opacity = 1;\"onmouseout=\"document.getElementById('_fb_oseicrypmpllmrezyzkl_ind_4').style.opacity = 0; document.getElementById('_fs_oseicrypmpllmrezyzkl_ind_4').style.opacity = 0;\">The entire theater (which was sold out) was overcome by laughter during the</div></div><div style='display: inline; text-align: center;'><div style='display: none; color: #999; padding-top: 0px; font-size: 12px;'>0.0</div><div id='_tp_oseicrypmpllmrezyzkl_ind_5'style='display: inline; background: rgba(230.2941176470614, 26.505882352939775, 102.59215686274348, 0.0); border-radius: 3px; padding: 0px'onclick=\"if (this.previousSibling.style.display == 'none') {this.previousSibling.style.display = 'block';this.parentNode.style.display = 'inline-block';} else {this.previousSibling.style.display = 'none';this.parentNode.style.display = 'inline';}\"onmouseover=\"document.getElementById('_fb_oseicrypmpllmrezyzkl_ind_5').style.opacity = 1; document.getElementById('_fs_oseicrypmpllmrezyzkl_ind_5').style.opacity = 1;\"onmouseout=\"document.getElementById('_fb_oseicrypmpllmrezyzkl_ind_5').style.opacity = 0; document.getElementById('_fs_oseicrypmpllmrezyzkl_ind_5').style.opacity = 0;\"></div></div>"
            ],
            "text/plain": [
              "<IPython.core.display.HTML object>"
            ]
          },
          "metadata": {
            "tags": []
          }
        },
        {
          "output_type": "display_data",
          "data": {
            "text/html": [
              "<br/><b>1st instance:</b><br/>"
            ],
            "text/plain": [
              "<IPython.core.display.HTML object>"
            ]
          },
          "metadata": {
            "tags": []
          }
        },
        {
          "output_type": "display_data",
          "data": {
            "text/html": [
              "<svg width=\"100%\" height=\"80px\"><line x1=\"0\" y1=\"33\" x2=\"100%\" y2=\"33\" style=\"stroke:rgb(150,150,150);stroke-width:1\" /><line x1=\"23.182280%\" y1=\"33\" x2=\"23.182280%\" y2=\"37\" style=\"stroke:rgb(150,150,150);stroke-width:1\" /><text x=\"23.182280%\" y=\"27\" font-size=\"12px\" fill=\"rgb(120,120,120)\" dominant-baseline=\"bottom\" text-anchor=\"middle\">-0.204055</text><text x=\"23.182280%\" y=\"10\" font-size=\"12px\" fill=\"rgb(120,120,120)\" dominant-baseline=\"bottom\" text-anchor=\"middle\">base value</text><line x1=\"8.896566%\" y1=\"33\" x2=\"8.896566%\" y2=\"37\" style=\"stroke:rgb(150,150,150);stroke-width:1\" /><text x=\"8.896566%\" y=\"27\" font-size=\"12px\" fill=\"rgb(120,120,120)\" dominant-baseline=\"bottom\" text-anchor=\"middle\">-2.053123</text><line x1=\"37.467994%\" y1=\"33\" x2=\"37.467994%\" y2=\"37\" style=\"stroke:rgb(150,150,150);stroke-width:1\" /><text x=\"37.467994%\" y=\"27\" font-size=\"12px\" fill=\"rgb(120,120,120)\" dominant-baseline=\"bottom\" text-anchor=\"middle\">1.645014</text><line x1=\"51.753709%\" y1=\"33\" x2=\"51.753709%\" y2=\"37\" style=\"stroke:rgb(150,150,150);stroke-width:1\" /><text x=\"51.753709%\" y=\"27\" font-size=\"12px\" fill=\"rgb(120,120,120)\" dominant-baseline=\"bottom\" text-anchor=\"middle\">3.494083</text><line x1=\"66.039423%\" y1=\"33\" x2=\"66.039423%\" y2=\"37\" style=\"stroke:rgb(150,150,150);stroke-width:1\" /><text x=\"66.039423%\" y=\"27\" font-size=\"12px\" fill=\"rgb(120,120,120)\" dominant-baseline=\"bottom\" text-anchor=\"middle\">5.343152</text><line x1=\"80.325137%\" y1=\"33\" x2=\"80.325137%\" y2=\"37\" style=\"stroke:rgb(150,150,150);stroke-width:1\" /><text x=\"80.325137%\" y=\"27\" font-size=\"12px\" fill=\"rgb(120,120,120)\" dominant-baseline=\"bottom\" text-anchor=\"middle\">7.192221</text><line x1=\"71.953002%\" y1=\"33\" x2=\"71.953002%\" y2=\"37\" style=\"stroke:rgb(150,150,150);stroke-width:1\" /><text x=\"71.953002%\" y=\"27\" font-size=\"13px\" style=\"stroke:#ffffff;stroke-width:8px;\" font-weight=\"bold\" fill=\"rgb(255,255,255)\" dominant-baseline=\"bottom\" text-anchor=\"middle\">6.108575</text><text x=\"71.953002%\" y=\"27\" font-size=\"13px\" font-weight=\"bold\" fill=\"rgb(0,0,0)\" dominant-baseline=\"bottom\" text-anchor=\"middle\">6.108575</text><text x=\"71.953002%\" y=\"10\" font-size=\"12px\" fill=\"rgb(120,120,120)\" dominant-baseline=\"bottom\" text-anchor=\"middle\">f(x)</text><rect x=\"21.055689379358334%\" width=\"50.89731280542228%\" y=\"40\" height=\"18\" style=\"fill:rgb(255.0, 0.0, 81.08083606031792); stroke-width:0; stroke:rgb(0,0,0)\" /><line x1=\"57.392914522528294%\" x2=\"71.95300218478062%\" y1=\"60\" y2=\"60\" id=\"_fb_msneofzrmqknzxigdcck_ind_1\" style=\"stroke:rgb(255.0, 0.0, 81.08083606031792);stroke-width:2; opacity: 0\"/><text x=\"64.67295835365445%\" y=\"71\" font-size=\"12px\" id=\"_fs_msneofzrmqknzxigdcck_ind_1\" fill=\"rgb(255.0, 0.0, 81.08083606031792)\" style=\"opacity: 0\" dominant-baseline=\"middle\" text-anchor=\"middle\">1.885</text><svg x=\"57.392914522528294%\" y=\"40\" height=\"20\" width=\"14.560087662252322%\">  <svg x=\"0\" y=\"0\" width=\"100%\" height=\"100%\">    <text x=\"50%\" y=\"9\" font-size=\"12px\" fill=\"rgb(255,255,255)\" dominant-baseline=\"middle\" text-anchor=\"middle\">Actor turned director Bill Paxton follows up his promising debut, the Gothic-horror \"Frailty\", with this family friendly sports drama about the 1913 U.S.</text>  </svg></svg><line x1=\"44.00502293655942%\" x2=\"57.392914522528294%\" y1=\"60\" y2=\"60\" id=\"_fb_msneofzrmqknzxigdcck_ind_5\" style=\"stroke:rgb(255.0, 0.0, 81.08083606031792);stroke-width:2; opacity: 0\"/><text x=\"50.69896872954386%\" y=\"71\" font-size=\"12px\" id=\"_fs_msneofzrmqknzxigdcck_ind_5\" fill=\"rgb(255.0, 0.0, 81.08083606031792)\" style=\"opacity: 0\" dominant-baseline=\"middle\" text-anchor=\"middle\">1.733</text><svg x=\"44.00502293655942%\" y=\"40\" height=\"20\" width=\"13.387891585968873%\">  <svg x=\"0\" y=\"0\" width=\"100%\" height=\"100%\">    <text x=\"50%\" y=\"9\" font-size=\"12px\" fill=\"rgb(255,255,255)\" dominant-baseline=\"middle\" text-anchor=\"middle\">but some how this film was enthralli</text>  </svg></svg><line x1=\"31.55316999886096%\" x2=\"44.00502293655942%\" y1=\"60\" y2=\"60\" id=\"_fb_msneofzrmqknzxigdcck_ind_3\" style=\"stroke:rgb(255.0, 0.0, 81.08083606031792);stroke-width:2; opacity: 0\"/><text x=\"37.77909646771019%\" y=\"71\" font-size=\"12px\" id=\"_fs_msneofzrmqknzxigdcck_ind_3\" fill=\"rgb(255.0, 0.0, 81.08083606031792)\" style=\"opacity: 0\" dominant-baseline=\"middle\" text-anchor=\"middle\">1.612</text><svg x=\"31.55316999886096%\" y=\"40\" height=\"20\" width=\"12.451852937698462%\">  <svg x=\"0\" y=\"0\" width=\"100%\" height=\"100%\">    <text x=\"50%\" y=\"9\" font-size=\"12px\" fill=\"rgb(255,255,255)\" dominant-baseline=\"middle\" text-anchor=\"middle\">idol in what was dubbed as \"The Greatest Game Ever Played.</text>  </svg></svg><line x1=\"21.055689379358338%\" x2=\"31.55316999886096%\" y1=\"60\" y2=\"60\" id=\"_fb_msneofzrmqknzxigdcck_ind_2\" style=\"stroke:rgb(255.0, 0.0, 81.08083606031792);stroke-width:2; opacity: 0\"/><text x=\"26.304429689109647%\" y=\"71\" font-size=\"12px\" id=\"_fs_msneofzrmqknzxigdcck_ind_2\" fill=\"rgb(255.0, 0.0, 81.08083606031792)\" style=\"opacity: 0\" dominant-baseline=\"middle\" text-anchor=\"middle\">1.359</text><svg x=\"21.055689379358338%\" y=\"40\" height=\"20\" width=\"10.497480619502621%\">  <svg x=\"0\" y=\"0\" width=\"100%\" height=\"100%\">    <text x=\"50%\" y=\"9\" font-size=\"12px\" fill=\"rgb(255,255,255)\" dominant-baseline=\"middle\" text-anchor=\"middle\">Open where a young American caddy rises from his humble background to play against his Bristish</text>  </svg></svg><g transform=\"translate(0,0)\">  <svg x=\"57.392914522528294%\" y=\"40\" height=\"18\" overflow=\"visible\" width=\"30\">    <path d=\"M 0 -9 l 6 18 L 0 25\" fill=\"none\" style=\"stroke:rgb(255.0, 0.0, 81.08083606031792);stroke-width:2\" />  </svg></g><g transform=\"translate(2,0)\">  <svg x=\"57.392914522528294%\" y=\"40\" height=\"18\" overflow=\"visible\" width=\"30\">    <path d=\"M 0 -9 l 6 18 L 0 25\" fill=\"none\" style=\"stroke:rgb(255.0, 0.0, 81.08083606031792);stroke-width:2\" />  </svg></g><g transform=\"translate(4,0)\">  <svg x=\"57.392914522528294%\" y=\"40\" height=\"18\" overflow=\"visible\" width=\"30\">    <path d=\"M 0 -9 l 6 18 L 0 25\" fill=\"none\" style=\"stroke:rgb(255.0, 0.0, 81.08083606031792);stroke-width:2\" />  </svg></g><g transform=\"translate(6,0)\">  <svg x=\"57.392914522528294%\" y=\"40\" height=\"18\" overflow=\"visible\" width=\"30\">    <path d=\"M 0 -9 l 6 18 L 0 25\" fill=\"none\" style=\"stroke:rgb(255.0, 0.0, 81.08083606031792);stroke-width:2\" />  </svg></g><g transform=\"translate(-8,0)\">  <svg x=\"57.392914522528294%\" y=\"40\" height=\"18\" overflow=\"visible\" width=\"30\">    <path d=\"M 0 -9 l 6 18 L 0 25\" fill=\"none\" style=\"stroke:rgb(255.0, 0.0, 81.08083606031792);stroke-width:2\" />  </svg></g><g transform=\"translate(-6,0)\">  <svg x=\"57.392914522528294%\" y=\"40\" height=\"18\" overflow=\"visible\" width=\"30\">    <path d=\"M 0 -9 l 6 18 L 0 25\" fill=\"none\" style=\"stroke:rgb(255.0, 0.0, 81.08083606031792);stroke-width:2\" />  </svg></g><g transform=\"translate(-4,0)\">  <svg x=\"57.392914522528294%\" y=\"40\" height=\"18\" overflow=\"visible\" width=\"30\">    <path d=\"M 0 -9 l 6 18 L 0 25\" fill=\"none\" style=\"stroke:rgb(255.0, 0.0, 81.08083606031792);stroke-width:2\" />  </svg></g><g transform=\"translate(-2,0)\">  <svg x=\"57.392914522528294%\" y=\"40\" height=\"18\" overflow=\"visible\" width=\"30\">    <path d=\"M 0 -9 l 6 18 L 0 25\" fill=\"none\" style=\"stroke:rgb(255.0, 0.0, 81.08083606031792);stroke-width:2\" />  </svg></g><g transform=\"translate(0,0)\">  <svg x=\"44.00502293655942%\" y=\"40\" height=\"18\" overflow=\"visible\" width=\"30\">    <path d=\"M 0 -9 l 6 18 L 0 25\" fill=\"none\" style=\"stroke:rgb(255.0, 0.0, 81.08083606031792);stroke-width:2\" />  </svg></g><g transform=\"translate(2,0)\">  <svg x=\"44.00502293655942%\" y=\"40\" height=\"18\" overflow=\"visible\" width=\"30\">    <path d=\"M 0 -9 l 6 18 L 0 25\" fill=\"none\" style=\"stroke:rgb(255.0, 0.0, 81.08083606031792);stroke-width:2\" />  </svg></g><g transform=\"translate(4,0)\">  <svg x=\"44.00502293655942%\" y=\"40\" height=\"18\" overflow=\"visible\" width=\"30\">    <path d=\"M 0 -9 l 6 18 L 0 25\" fill=\"none\" style=\"stroke:rgb(255.0, 0.0, 81.08083606031792);stroke-width:2\" />  </svg></g><g transform=\"translate(6,0)\">  <svg x=\"44.00502293655942%\" y=\"40\" height=\"18\" overflow=\"visible\" width=\"30\">    <path d=\"M 0 -9 l 6 18 L 0 25\" fill=\"none\" style=\"stroke:rgb(255.0, 0.0, 81.08083606031792);stroke-width:2\" />  </svg></g><g transform=\"translate(-8,0)\">  <svg x=\"44.00502293655942%\" y=\"40\" height=\"18\" overflow=\"visible\" width=\"30\">    <path d=\"M 0 -9 l 6 18 L 0 25\" fill=\"none\" style=\"stroke:rgb(255.0, 0.0, 81.08083606031792);stroke-width:2\" />  </svg></g><g transform=\"translate(-6,0)\">  <svg x=\"44.00502293655942%\" y=\"40\" height=\"18\" overflow=\"visible\" width=\"30\">    <path d=\"M 0 -9 l 6 18 L 0 25\" fill=\"none\" style=\"stroke:rgb(255.0, 0.0, 81.08083606031792);stroke-width:2\" />  </svg></g><g transform=\"translate(-4,0)\">  <svg x=\"44.00502293655942%\" y=\"40\" height=\"18\" overflow=\"visible\" width=\"30\">    <path d=\"M 0 -9 l 6 18 L 0 25\" fill=\"none\" style=\"stroke:rgb(255.0, 0.0, 81.08083606031792);stroke-width:2\" />  </svg></g><g transform=\"translate(-2,0)\">  <svg x=\"44.00502293655942%\" y=\"40\" height=\"18\" overflow=\"visible\" width=\"30\">    <path d=\"M 0 -9 l 6 18 L 0 25\" fill=\"none\" style=\"stroke:rgb(255.0, 0.0, 81.08083606031792);stroke-width:2\" />  </svg></g><g transform=\"translate(0,0)\">  <svg x=\"31.55316999886096%\" y=\"40\" height=\"18\" overflow=\"visible\" width=\"30\">    <path d=\"M 0 -9 l 6 18 L 0 25\" fill=\"none\" style=\"stroke:rgb(255.0, 0.0, 81.08083606031792);stroke-width:2\" />  </svg></g><g transform=\"translate(2,0)\">  <svg x=\"31.55316999886096%\" y=\"40\" height=\"18\" overflow=\"visible\" width=\"30\">    <path d=\"M 0 -9 l 6 18 L 0 25\" fill=\"none\" style=\"stroke:rgb(255.0, 0.0, 81.08083606031792);stroke-width:2\" />  </svg></g><g transform=\"translate(4,0)\">  <svg x=\"31.55316999886096%\" y=\"40\" height=\"18\" overflow=\"visible\" width=\"30\">    <path d=\"M 0 -9 l 6 18 L 0 25\" fill=\"none\" style=\"stroke:rgb(255.0, 0.0, 81.08083606031792);stroke-width:2\" />  </svg></g><g transform=\"translate(6,0)\">  <svg x=\"31.55316999886096%\" y=\"40\" height=\"18\" overflow=\"visible\" width=\"30\">    <path d=\"M 0 -9 l 6 18 L 0 25\" fill=\"none\" style=\"stroke:rgb(255.0, 0.0, 81.08083606031792);stroke-width:2\" />  </svg></g><g transform=\"translate(-8,0)\">  <svg x=\"31.55316999886096%\" y=\"40\" height=\"18\" overflow=\"visible\" width=\"30\">    <path d=\"M 0 -9 l 6 18 L 0 25\" fill=\"none\" style=\"stroke:rgb(255.0, 0.0, 81.08083606031792);stroke-width:2\" />  </svg></g><g transform=\"translate(-6,0)\">  <svg x=\"31.55316999886096%\" y=\"40\" height=\"18\" overflow=\"visible\" width=\"30\">    <path d=\"M 0 -9 l 6 18 L 0 25\" fill=\"none\" style=\"stroke:rgb(255.0, 0.0, 81.08083606031792);stroke-width:2\" />  </svg></g><g transform=\"translate(-4,0)\">  <svg x=\"31.55316999886096%\" y=\"40\" height=\"18\" overflow=\"visible\" width=\"30\">    <path d=\"M 0 -9 l 6 18 L 0 25\" fill=\"none\" style=\"stroke:rgb(255.0, 0.0, 81.08083606031792);stroke-width:2\" />  </svg></g><g transform=\"translate(-2,0)\">  <svg x=\"31.55316999886096%\" y=\"40\" height=\"18\" overflow=\"visible\" width=\"30\">    <path d=\"M 0 -9 l 6 18 L 0 25\" fill=\"none\" style=\"stroke:rgb(255.0, 0.0, 81.08083606031792);stroke-width:2\" />  </svg></g><rect transform=\"translate(-8,0)\" x=\"71.95300218478062%\" y=\"40\" width=\"8\" height=\"18\" style=\"fill:rgb(255.0, 0.0, 81.08083606031792)\"/><g transform=\"translate(-11.5,0)\">  <svg x=\"21.055689379358334%\" y=\"40\" height=\"18\" overflow=\"visible\" width=\"30\">    <path d=\"M 10 -9 l 6 18 L 10 25 L 0 25 L 0 -9\" fill=\"#ffffff\" style=\"stroke:rgb(255,255,255);stroke-width:2\" />  </svg></g><g transform=\"translate(-1.5,0)\">  <svg x=\"71.95300218478062%\" y=\"40\" height=\"18\" overflow=\"visible\" width=\"30\">    <path d=\"M 0 -9 l 6 18 L 0 25\" fill=\"none\" style=\"stroke:rgb(255, 195, 213);stroke-width:2\" />  </svg></g><rect x=\"57.392914522528294%\" y=\"40\" height=\"20\" width=\"14.560087662252322%\"      onmouseover=\"document.getElementById('_tp_msneofzrmqknzxigdcck_ind_1').style.textDecoration = 'underline';document.getElementById('_fs_msneofzrmqknzxigdcck_ind_1').style.opacity = 1;document.getElementById('_fb_msneofzrmqknzxigdcck_ind_1').style.opacity = 1;\"      onmouseout=\"document.getElementById('_tp_msneofzrmqknzxigdcck_ind_1').style.textDecoration = 'none';document.getElementById('_fs_msneofzrmqknzxigdcck_ind_1').style.opacity = 0;document.getElementById('_fb_msneofzrmqknzxigdcck_ind_1').style.opacity = 0;\" style=\"fill:rgb(0,0,0,0)\" /><g transform=\"translate(-1.5,0)\">  <svg x=\"57.392914522528294%\" y=\"40\" height=\"18\" overflow=\"visible\" width=\"30\">    <path d=\"M 0 -9 l 6 18 L 0 25\" fill=\"none\" style=\"stroke:rgb(255, 195, 213);stroke-width:2\" />  </svg></g><rect x=\"44.00502293655942%\" y=\"40\" height=\"20\" width=\"13.387891585968873%\"      onmouseover=\"document.getElementById('_tp_msneofzrmqknzxigdcck_ind_5').style.textDecoration = 'underline';document.getElementById('_fs_msneofzrmqknzxigdcck_ind_5').style.opacity = 1;document.getElementById('_fb_msneofzrmqknzxigdcck_ind_5').style.opacity = 1;\"      onmouseout=\"document.getElementById('_tp_msneofzrmqknzxigdcck_ind_5').style.textDecoration = 'none';document.getElementById('_fs_msneofzrmqknzxigdcck_ind_5').style.opacity = 0;document.getElementById('_fb_msneofzrmqknzxigdcck_ind_5').style.opacity = 0;\" style=\"fill:rgb(0,0,0,0)\" /><g transform=\"translate(-1.5,0)\">  <svg x=\"44.00502293655942%\" y=\"40\" height=\"18\" overflow=\"visible\" width=\"30\">    <path d=\"M 0 -9 l 6 18 L 0 25\" fill=\"none\" style=\"stroke:rgb(255, 195, 213);stroke-width:2\" />  </svg></g><rect x=\"31.55316999886096%\" y=\"40\" height=\"20\" width=\"12.451852937698462%\"      onmouseover=\"document.getElementById('_tp_msneofzrmqknzxigdcck_ind_3').style.textDecoration = 'underline';document.getElementById('_fs_msneofzrmqknzxigdcck_ind_3').style.opacity = 1;document.getElementById('_fb_msneofzrmqknzxigdcck_ind_3').style.opacity = 1;\"      onmouseout=\"document.getElementById('_tp_msneofzrmqknzxigdcck_ind_3').style.textDecoration = 'none';document.getElementById('_fs_msneofzrmqknzxigdcck_ind_3').style.opacity = 0;document.getElementById('_fb_msneofzrmqknzxigdcck_ind_3').style.opacity = 0;\" style=\"fill:rgb(0,0,0,0)\" /><rect x=\"21.055689379358338%\" y=\"40\" height=\"20\" width=\"10.497480619502621%\"      onmouseover=\"document.getElementById('_tp_msneofzrmqknzxigdcck_ind_2').style.textDecoration = 'underline';document.getElementById('_fs_msneofzrmqknzxigdcck_ind_2').style.opacity = 1;document.getElementById('_fb_msneofzrmqknzxigdcck_ind_2').style.opacity = 1;\"      onmouseout=\"document.getElementById('_tp_msneofzrmqknzxigdcck_ind_2').style.textDecoration = 'none';document.getElementById('_fs_msneofzrmqknzxigdcck_ind_2').style.opacity = 0;document.getElementById('_fb_msneofzrmqknzxigdcck_ind_2').style.opacity = 0;\" style=\"fill:rgb(0,0,0,0)\" /><rect x=\"71.95300218478062%\" width=\"2.126590669072268%\" y=\"40\" height=\"18\" style=\"fill:rgb(0.0, 138.56128015770724, 250.76166088685727); stroke-width:0; stroke:rgb(0,0,0)\" /><line x1=\"71.95300218478062%\" x2=\"74.07959285385289%\" y1=\"60\" y2=\"60\" id=\"_fb_msneofzrmqknzxigdcck_ind_4\" style=\"stroke:rgb(0.0, 138.56128015770724, 250.76166088685727);stroke-width:2; opacity: 0\"/><text x=\"73.01629751931675%\" y=\"71\" font-size=\"12px\" fill=\"rgb(0.0, 138.56128015770724, 250.76166088685727)\" id=\"_fs_msneofzrmqknzxigdcck_ind_4\" style=\"opacity: 0\" dominant-baseline=\"middle\" text-anchor=\"middle\">-0.275</text><svg x=\"71.95300218478062%\" y=\"40\" height=\"20\" width=\"2.1265906690722716%\">  <svg x=\"0\" y=\"0\" width=\"100%\" height=\"100%\">    <text x=\"50%\" y=\"9\" font-size=\"12px\" fill=\"rgb(255,255,255)\" dominant-baseline=\"middle\" text-anchor=\"middle\">\" I'm no fan of golf, and these scrappy underdog sports flicks are a dime a dozen (most recently done to grand effect with \"Miracle\" and \"Cinderella Man\"),</text>  </svg></svg><rect transform=\"translate(0,0)\" x=\"71.95300218478062%\" y=\"40\" width=\"8\" height=\"18\" style=\"fill:rgb(0.0, 138.56128015770724, 250.76166088685727)\"/><g transform=\"translate(-6.0,0)\">  <svg x=\"74.07959285385289%\" y=\"40\" height=\"18\" overflow=\"visible\" width=\"30\">    <path d=\"M 8 -9 l -6 18 L 8 25 L 20 25 L 20 -9\" fill=\"#ffffff\" style=\"stroke:rgb(255,255,255);stroke-width:2\" />  </svg></g><rect x=\"71.95300218478062%\" y=\"40\" height=\"20\" width=\"2.1265906690722716%\"      onmouseover=\"document.getElementById('_tp_msneofzrmqknzxigdcck_ind_4').style.textDecoration = 'underline';document.getElementById('_fs_msneofzrmqknzxigdcck_ind_4').style.opacity = 1;document.getElementById('_fb_msneofzrmqknzxigdcck_ind_4').style.opacity = 1;\"      onmouseout=\"document.getElementById('_tp_msneofzrmqknzxigdcck_ind_4').style.textDecoration = 'none';document.getElementById('_fs_msneofzrmqknzxigdcck_ind_4').style.opacity = 0;document.getElementById('_fb_msneofzrmqknzxigdcck_ind_4').style.opacity = 0;\" style=\"fill:rgb(0,0,0,0)\" /></svg><div style='display: inline; text-align: center;'><div style='display: none; color: #999; padding-top: 0px; font-size: 12px;'>0.0</div><div id='_tp_msneofzrmqknzxigdcck_ind_0'style='display: inline; background: rgba(230.2941176470614, 26.505882352939775, 102.59215686274348, 0.0); border-radius: 3px; padding: 0px'onclick=\"if (this.previousSibling.style.display == 'none') {this.previousSibling.style.display = 'block';this.parentNode.style.display = 'inline-block';} else {this.previousSibling.style.display = 'none';this.parentNode.style.display = 'inline';}\"onmouseover=\"document.getElementById('_fb_msneofzrmqknzxigdcck_ind_0').style.opacity = 1; document.getElementById('_fs_msneofzrmqknzxigdcck_ind_0').style.opacity = 1;\"onmouseout=\"document.getElementById('_fb_msneofzrmqknzxigdcck_ind_0').style.opacity = 0; document.getElementById('_fs_msneofzrmqknzxigdcck_ind_0').style.opacity = 0;\"></div></div><div style='display: inline; text-align: center;'><div style='display: none; color: #999; padding-top: 0px; font-size: 12px;'>1.885 / 33</div><div id='_tp_msneofzrmqknzxigdcck_ind_1'style='display: inline; background: rgba(255.0, 13.0, 87.0, 0.44820756585462457); border-radius: 3px; padding: 0px'onclick=\"if (this.previousSibling.style.display == 'none') {this.previousSibling.style.display = 'block';this.parentNode.style.display = 'inline-block';} else {this.previousSibling.style.display = 'none';this.parentNode.style.display = 'inline';}\"onmouseover=\"document.getElementById('_fb_msneofzrmqknzxigdcck_ind_1').style.opacity = 1; document.getElementById('_fs_msneofzrmqknzxigdcck_ind_1').style.opacity = 1;\"onmouseout=\"document.getElementById('_fb_msneofzrmqknzxigdcck_ind_1').style.opacity = 0; document.getElementById('_fs_msneofzrmqknzxigdcck_ind_1').style.opacity = 0;\">Actor turned director Bill Paxton follows up his promising debut, the Gothic-horror \"Frailty\", with this family friendly sports drama about the 1913 U.S. </div></div><div style='display: inline; text-align: center;'><div style='display: none; color: #999; padding-top: 0px; font-size: 12px;'>1.359 / 19</div><div id='_tp_msneofzrmqknzxigdcck_ind_2'style='display: inline; background: rgba(255.0, 13.0, 87.0, 0.32208358090711037); border-radius: 3px; padding: 0px'onclick=\"if (this.previousSibling.style.display == 'none') {this.previousSibling.style.display = 'block';this.parentNode.style.display = 'inline-block';} else {this.previousSibling.style.display = 'none';this.parentNode.style.display = 'inline';}\"onmouseover=\"document.getElementById('_fb_msneofzrmqknzxigdcck_ind_2').style.opacity = 1; document.getElementById('_fs_msneofzrmqknzxigdcck_ind_2').style.opacity = 1;\"onmouseout=\"document.getElementById('_fb_msneofzrmqknzxigdcck_ind_2').style.opacity = 0; document.getElementById('_fs_msneofzrmqknzxigdcck_ind_2').style.opacity = 0;\">Open where a young American caddy rises from his humble background to play against his Bristish </div></div><div style='display: inline; text-align: center;'><div style='display: none; color: #999; padding-top: 0px; font-size: 12px;'>1.612 / 13</div><div id='_tp_msneofzrmqknzxigdcck_ind_3'style='display: inline; background: rgba(255.0, 13.0, 87.0, 0.3851455733808676); border-radius: 3px; padding: 0px'onclick=\"if (this.previousSibling.style.display == 'none') {this.previousSibling.style.display = 'block';this.parentNode.style.display = 'inline-block';} else {this.previousSibling.style.display = 'none';this.parentNode.style.display = 'inline';}\"onmouseover=\"document.getElementById('_fb_msneofzrmqknzxigdcck_ind_3').style.opacity = 1; document.getElementById('_fs_msneofzrmqknzxigdcck_ind_3').style.opacity = 1;\"onmouseout=\"document.getElementById('_fb_msneofzrmqknzxigdcck_ind_3').style.opacity = 0; document.getElementById('_fs_msneofzrmqknzxigdcck_ind_3').style.opacity = 0;\">idol in what was dubbed as \"The Greatest Game Ever Played.</div></div><div style='display: inline; text-align: center;'><div style='display: none; color: #999; padding-top: 0px; font-size: 12px;'>-0.275 / 41</div><div id='_tp_msneofzrmqknzxigdcck_ind_4'style='display: inline; background: rgba(30.0, 136.0, 229.0, 0.06195286195286191); border-radius: 3px; padding: 0px'onclick=\"if (this.previousSibling.style.display == 'none') {this.previousSibling.style.display = 'block';this.parentNode.style.display = 'inline-block';} else {this.previousSibling.style.display = 'none';this.parentNode.style.display = 'inline';}\"onmouseover=\"document.getElementById('_fb_msneofzrmqknzxigdcck_ind_4').style.opacity = 1; document.getElementById('_fs_msneofzrmqknzxigdcck_ind_4').style.opacity = 1;\"onmouseout=\"document.getElementById('_fb_msneofzrmqknzxigdcck_ind_4').style.opacity = 0; document.getElementById('_fs_msneofzrmqknzxigdcck_ind_4').style.opacity = 0;\">\" I'm no fan of golf, and these scrappy underdog sports flicks are a dime a dozen (most recently done to grand effect with \"Miracle\" and \"Cinderella Man\"), </div></div><div style='display: inline; text-align: center;'><div style='display: none; color: #999; padding-top: 0px; font-size: 12px;'>1.733 / 10</div><div id='_tp_msneofzrmqknzxigdcck_ind_5'style='display: inline; background: rgba(255.0, 13.0, 87.0, 0.41667656961774624); border-radius: 3px; padding: 0px'onclick=\"if (this.previousSibling.style.display == 'none') {this.previousSibling.style.display = 'block';this.parentNode.style.display = 'inline-block';} else {this.previousSibling.style.display = 'none';this.parentNode.style.display = 'inline';}\"onmouseover=\"document.getElementById('_fb_msneofzrmqknzxigdcck_ind_5').style.opacity = 1; document.getElementById('_fs_msneofzrmqknzxigdcck_ind_5').style.opacity = 1;\"onmouseout=\"document.getElementById('_fb_msneofzrmqknzxigdcck_ind_5').style.opacity = 0; document.getElementById('_fs_msneofzrmqknzxigdcck_ind_5').style.opacity = 0;\">but some how this film was enthralli</div></div><div style='display: inline; text-align: center;'><div style='display: none; color: #999; padding-top: 0px; font-size: 12px;'>0.0</div><div id='_tp_msneofzrmqknzxigdcck_ind_6'style='display: inline; background: rgba(230.2941176470614, 26.505882352939775, 102.59215686274348, 0.0); border-radius: 3px; padding: 0px'onclick=\"if (this.previousSibling.style.display == 'none') {this.previousSibling.style.display = 'block';this.parentNode.style.display = 'inline-block';} else {this.previousSibling.style.display = 'none';this.parentNode.style.display = 'inline';}\"onmouseover=\"document.getElementById('_fb_msneofzrmqknzxigdcck_ind_6').style.opacity = 1; document.getElementById('_fs_msneofzrmqknzxigdcck_ind_6').style.opacity = 1;\"onmouseout=\"document.getElementById('_fb_msneofzrmqknzxigdcck_ind_6').style.opacity = 0; document.getElementById('_fs_msneofzrmqknzxigdcck_ind_6').style.opacity = 0;\"></div></div>"
            ],
            "text/plain": [
              "<IPython.core.display.HTML object>"
            ]
          },
          "metadata": {
            "tags": []
          }
        }
      ]
    },
    {
      "cell_type": "code",
      "metadata": {
        "id": "q3dZnCoLxZb_"
      },
      "source": [
        ""
      ],
      "execution_count": null,
      "outputs": []
    },
    {
      "cell_type": "code",
      "metadata": {
        "colab": {
          "base_uri": "https://localhost:8080/",
          "height": 409,
          "referenced_widgets": [
            "5d9ad076bed349f0afa93b65082ea7f5",
            "3364c99ba34341c3a106b055cfddbbd8",
            "60777b6df7c6411082a9d4b70bf4f73f",
            "843e18bea77242ae9b8ed268558b14a9",
            "813704335a6c4d3187c225ea1fc3df29",
            "e4eac4f353084ff8924c697c6c38dd64",
            "2935c2daace24fefb327b948f59f8279",
            "4ec92745eac14550af16ef55cb3cf4d2",
            "58106eb3133b4363b6f80125d63cb8f5",
            "d974fc6795cc4561a94cd9eee9922f1e",
            "ea57618f2531423ab0a91bdd9e816b71",
            "745a34849aed42c88b1be34f3fc7c05c",
            "9e14b1b5056847f6871deecf6ecb551b",
            "91e77ba8d00d46c0a914324d69b47cfa",
            "87ceab0883dd467ebd80b98b45144eec",
            "1ebc0f547f3143ccaf1ba3d7d1e896a8"
          ]
        },
        "id": "pyrJ_xcLxODI",
        "outputId": "3ddfb839-2c83-4b9b-966c-c577cb386fdf"
      },
      "source": [
        "explainer2 = shap.Explainer(pmodel, classifier.tokenizer)\n",
        "shap_values2 = explainer2(short_data[:2])\n",
        "shap.plots.text(shap_values2[:,:,1])"
      ],
      "execution_count": null,
      "outputs": [
        {
          "output_type": "display_data",
          "data": {
            "application/vnd.jupyter.widget-view+json": {
              "model_id": "5d9ad076bed349f0afa93b65082ea7f5",
              "version_minor": 0,
              "version_major": 2
            },
            "text/plain": [
              "HBox(children=(FloatProgress(value=0.0, max=48.0), HTML(value='')))"
            ]
          },
          "metadata": {
            "tags": []
          }
        },
        {
          "output_type": "stream",
          "text": [
            "\r"
          ],
          "name": "stdout"
        },
        {
          "output_type": "display_data",
          "data": {
            "application/vnd.jupyter.widget-view+json": {
              "model_id": "58106eb3133b4363b6f80125d63cb8f5",
              "version_minor": 0,
              "version_major": 2
            },
            "text/plain": [
              "HBox(children=(FloatProgress(value=0.0, max=48.0), HTML(value='')))"
            ]
          },
          "metadata": {
            "tags": []
          }
        },
        {
          "output_type": "stream",
          "text": [
            "Partition explainer: 3it [00:17,  5.96s/it]               "
          ],
          "name": "stderr"
        },
        {
          "output_type": "stream",
          "text": [
            "\r"
          ],
          "name": "stdout"
        },
        {
          "output_type": "stream",
          "text": [
            "\n",
            "Creating an ndarray from ragged nested sequences (which is a list-or-tuple of lists-or-tuples-or ndarrays with different lengths or shapes) is deprecated. If you meant to do this, you must specify 'dtype=object' when creating the ndarray\n"
          ],
          "name": "stderr"
        },
        {
          "output_type": "display_data",
          "data": {
            "text/html": [
              "<br/><b>0th instance:</b><br/>"
            ],
            "text/plain": [
              "<IPython.core.display.HTML object>"
            ]
          },
          "metadata": {
            "tags": []
          }
        },
        {
          "output_type": "display_data",
          "data": {
            "text/html": [
              "<svg width=\"100%\" height=\"80px\"><line x1=\"0\" y1=\"33\" x2=\"100%\" y2=\"33\" style=\"stroke:rgb(150,150,150);stroke-width:1\" /><line x1=\"23.312873%\" y1=\"33\" x2=\"23.312873%\" y2=\"37\" style=\"stroke:rgb(150,150,150);stroke-width:1\" /><text x=\"23.312873%\" y=\"27\" font-size=\"12px\" fill=\"rgb(120,120,120)\" dominant-baseline=\"bottom\" text-anchor=\"middle\">-0.187151</text><text x=\"23.312873%\" y=\"10\" font-size=\"12px\" fill=\"rgb(120,120,120)\" dominant-baseline=\"bottom\" text-anchor=\"middle\">base value</text><line x1=\"9.027158%\" y1=\"33\" x2=\"9.027158%\" y2=\"37\" style=\"stroke:rgb(150,150,150);stroke-width:1\" /><text x=\"9.027158%\" y=\"27\" font-size=\"12px\" fill=\"rgb(120,120,120)\" dominant-baseline=\"bottom\" text-anchor=\"middle\">-2.036220</text><line x1=\"37.598587%\" y1=\"33\" x2=\"37.598587%\" y2=\"37\" style=\"stroke:rgb(150,150,150);stroke-width:1\" /><text x=\"37.598587%\" y=\"27\" font-size=\"12px\" fill=\"rgb(120,120,120)\" dominant-baseline=\"bottom\" text-anchor=\"middle\">1.661918</text><line x1=\"51.884301%\" y1=\"33\" x2=\"51.884301%\" y2=\"37\" style=\"stroke:rgb(150,150,150);stroke-width:1\" /><text x=\"51.884301%\" y=\"27\" font-size=\"12px\" fill=\"rgb(120,120,120)\" dominant-baseline=\"bottom\" text-anchor=\"middle\">3.510986</text><line x1=\"66.170015%\" y1=\"33\" x2=\"66.170015%\" y2=\"37\" style=\"stroke:rgb(150,150,150);stroke-width:1\" /><text x=\"66.170015%\" y=\"27\" font-size=\"12px\" fill=\"rgb(120,120,120)\" dominant-baseline=\"bottom\" text-anchor=\"middle\">5.360055</text><line x1=\"80.455730%\" y1=\"33\" x2=\"80.455730%\" y2=\"37\" style=\"stroke:rgb(150,150,150);stroke-width:1\" /><text x=\"80.455730%\" y=\"27\" font-size=\"12px\" fill=\"rgb(120,120,120)\" dominant-baseline=\"bottom\" text-anchor=\"middle\">7.209124</text><line x1=\"76.687127%\" y1=\"33\" x2=\"76.687127%\" y2=\"37\" style=\"stroke:rgb(150,150,150);stroke-width:1\" /><text x=\"76.687127%\" y=\"27\" font-size=\"13px\" style=\"stroke:#ffffff;stroke-width:8px;\" font-weight=\"bold\" fill=\"rgb(255,255,255)\" dominant-baseline=\"bottom\" text-anchor=\"middle\">6.721336</text><text x=\"76.687127%\" y=\"27\" font-size=\"13px\" font-weight=\"bold\" fill=\"rgb(0,0,0)\" dominant-baseline=\"bottom\" text-anchor=\"middle\">6.721336</text><text x=\"76.687127%\" y=\"10\" font-size=\"12px\" fill=\"rgb(120,120,120)\" dominant-baseline=\"bottom\" text-anchor=\"middle\">f(x)</text><rect x=\"8.333333333333336%\" width=\"68.3537940904717%\" y=\"40\" height=\"18\" style=\"fill:rgb(255.0, 0.0, 81.08083606031792); stroke-width:0; stroke:rgb(0,0,0)\" /><line x1=\"44.40393669251893%\" x2=\"76.68712742380502%\" y1=\"60\" y2=\"60\" id=\"_fb_rfcbluikyhxxfrfzjonf_ind_3\" style=\"stroke:rgb(255.0, 0.0, 81.08083606031792);stroke-width:2; opacity: 0\"/><text x=\"60.54553205816198%\" y=\"71\" font-size=\"12px\" id=\"_fs_rfcbluikyhxxfrfzjonf_ind_3\" fill=\"rgb(255.0, 0.0, 81.08083606031792)\" style=\"opacity: 0\" dominant-baseline=\"middle\" text-anchor=\"middle\">4.179</text><svg x=\"44.40393669251893%\" y=\"40\" height=\"20\" width=\"32.28319073128609%\">  <svg x=\"0\" y=\"0\" width=\"100%\" height=\"100%\">    <text x=\"50%\" y=\"9\" font-size=\"12px\" fill=\"rgb(255,255,255)\" dominant-baseline=\"middle\" text-anchor=\"middle\">The sign of a good movie is that it can toy with our emotions. This one did exactly that.</text>  </svg></svg><line x1=\"18.147906713735786%\" x2=\"44.40393669251893%\" y1=\"60\" y2=\"60\" id=\"_fb_rfcbluikyhxxfrfzjonf_ind_4\" style=\"stroke:rgb(255.0, 0.0, 81.08083606031792);stroke-width:2; opacity: 0\"/><text x=\"31.27592170312736%\" y=\"71\" font-size=\"12px\" id=\"_fs_rfcbluikyhxxfrfzjonf_ind_4\" fill=\"rgb(255.0, 0.0, 81.08083606031792)\" style=\"opacity: 0\" dominant-baseline=\"middle\" text-anchor=\"middle\">3.398</text><svg x=\"18.147906713735786%\" y=\"40\" height=\"20\" width=\"26.256029978783147%\">  <svg x=\"0\" y=\"0\" width=\"100%\" height=\"100%\">    <text x=\"50%\" y=\"9\" font-size=\"12px\" fill=\"rgb(255,255,255)\" dominant-baseline=\"middle\" text-anchor=\"middle\">The entire theater (which was sold out) was overcome by laughter during the</text>  </svg></svg><line x1=\"8.333333333333329%\" x2=\"18.147906713735786%\" y1=\"60\" y2=\"60\" id=\"_fb_rfcbluikyhxxfrfzjonf_ind_2\" style=\"stroke:rgb(255.0, 0.0, 81.08083606031792);stroke-width:2; opacity: 0\"/><text x=\"13.240620023534557%\" y=\"71\" font-size=\"12px\" id=\"_fs_rfcbluikyhxxfrfzjonf_ind_2\" fill=\"rgb(255.0, 0.0, 81.08083606031792)\" style=\"opacity: 0\" dominant-baseline=\"middle\" text-anchor=\"middle\">1.27</text><svg x=\"8.333333333333329%\" y=\"40\" height=\"20\" width=\"9.814573380402457%\">  <svg x=\"0\" y=\"0\" width=\"100%\" height=\"100%\">    <text x=\"50%\" y=\"9\" font-size=\"12px\" fill=\"rgb(255,255,255)\" dominant-baseline=\"middle\" text-anchor=\"middle\">I was wrong. Kutcher played the character of Jake Fischer very well, and Kevin Costner played Ben Randall with such professionalism.</text>  </svg></svg><g transform=\"translate(0,0)\">  <svg x=\"44.40393669251893%\" y=\"40\" height=\"18\" overflow=\"visible\" width=\"30\">    <path d=\"M 0 -9 l 6 18 L 0 25\" fill=\"none\" style=\"stroke:rgb(255.0, 0.0, 81.08083606031792);stroke-width:2\" />  </svg></g><g transform=\"translate(2,0)\">  <svg x=\"44.40393669251893%\" y=\"40\" height=\"18\" overflow=\"visible\" width=\"30\">    <path d=\"M 0 -9 l 6 18 L 0 25\" fill=\"none\" style=\"stroke:rgb(255.0, 0.0, 81.08083606031792);stroke-width:2\" />  </svg></g><g transform=\"translate(4,0)\">  <svg x=\"44.40393669251893%\" y=\"40\" height=\"18\" overflow=\"visible\" width=\"30\">    <path d=\"M 0 -9 l 6 18 L 0 25\" fill=\"none\" style=\"stroke:rgb(255.0, 0.0, 81.08083606031792);stroke-width:2\" />  </svg></g><g transform=\"translate(6,0)\">  <svg x=\"44.40393669251893%\" y=\"40\" height=\"18\" overflow=\"visible\" width=\"30\">    <path d=\"M 0 -9 l 6 18 L 0 25\" fill=\"none\" style=\"stroke:rgb(255.0, 0.0, 81.08083606031792);stroke-width:2\" />  </svg></g><g transform=\"translate(-8,0)\">  <svg x=\"44.40393669251893%\" y=\"40\" height=\"18\" overflow=\"visible\" width=\"30\">    <path d=\"M 0 -9 l 6 18 L 0 25\" fill=\"none\" style=\"stroke:rgb(255.0, 0.0, 81.08083606031792);stroke-width:2\" />  </svg></g><g transform=\"translate(-6,0)\">  <svg x=\"44.40393669251893%\" y=\"40\" height=\"18\" overflow=\"visible\" width=\"30\">    <path d=\"M 0 -9 l 6 18 L 0 25\" fill=\"none\" style=\"stroke:rgb(255.0, 0.0, 81.08083606031792);stroke-width:2\" />  </svg></g><g transform=\"translate(-4,0)\">  <svg x=\"44.40393669251893%\" y=\"40\" height=\"18\" overflow=\"visible\" width=\"30\">    <path d=\"M 0 -9 l 6 18 L 0 25\" fill=\"none\" style=\"stroke:rgb(255.0, 0.0, 81.08083606031792);stroke-width:2\" />  </svg></g><g transform=\"translate(-2,0)\">  <svg x=\"44.40393669251893%\" y=\"40\" height=\"18\" overflow=\"visible\" width=\"30\">    <path d=\"M 0 -9 l 6 18 L 0 25\" fill=\"none\" style=\"stroke:rgb(255.0, 0.0, 81.08083606031792);stroke-width:2\" />  </svg></g><g transform=\"translate(0,0)\">  <svg x=\"18.147906713735786%\" y=\"40\" height=\"18\" overflow=\"visible\" width=\"30\">    <path d=\"M 0 -9 l 6 18 L 0 25\" fill=\"none\" style=\"stroke:rgb(255.0, 0.0, 81.08083606031792);stroke-width:2\" />  </svg></g><g transform=\"translate(2,0)\">  <svg x=\"18.147906713735786%\" y=\"40\" height=\"18\" overflow=\"visible\" width=\"30\">    <path d=\"M 0 -9 l 6 18 L 0 25\" fill=\"none\" style=\"stroke:rgb(255.0, 0.0, 81.08083606031792);stroke-width:2\" />  </svg></g><g transform=\"translate(4,0)\">  <svg x=\"18.147906713735786%\" y=\"40\" height=\"18\" overflow=\"visible\" width=\"30\">    <path d=\"M 0 -9 l 6 18 L 0 25\" fill=\"none\" style=\"stroke:rgb(255.0, 0.0, 81.08083606031792);stroke-width:2\" />  </svg></g><g transform=\"translate(6,0)\">  <svg x=\"18.147906713735786%\" y=\"40\" height=\"18\" overflow=\"visible\" width=\"30\">    <path d=\"M 0 -9 l 6 18 L 0 25\" fill=\"none\" style=\"stroke:rgb(255.0, 0.0, 81.08083606031792);stroke-width:2\" />  </svg></g><g transform=\"translate(-8,0)\">  <svg x=\"18.147906713735786%\" y=\"40\" height=\"18\" overflow=\"visible\" width=\"30\">    <path d=\"M 0 -9 l 6 18 L 0 25\" fill=\"none\" style=\"stroke:rgb(255.0, 0.0, 81.08083606031792);stroke-width:2\" />  </svg></g><g transform=\"translate(-6,0)\">  <svg x=\"18.147906713735786%\" y=\"40\" height=\"18\" overflow=\"visible\" width=\"30\">    <path d=\"M 0 -9 l 6 18 L 0 25\" fill=\"none\" style=\"stroke:rgb(255.0, 0.0, 81.08083606031792);stroke-width:2\" />  </svg></g><g transform=\"translate(-4,0)\">  <svg x=\"18.147906713735786%\" y=\"40\" height=\"18\" overflow=\"visible\" width=\"30\">    <path d=\"M 0 -9 l 6 18 L 0 25\" fill=\"none\" style=\"stroke:rgb(255.0, 0.0, 81.08083606031792);stroke-width:2\" />  </svg></g><g transform=\"translate(-2,0)\">  <svg x=\"18.147906713735786%\" y=\"40\" height=\"18\" overflow=\"visible\" width=\"30\">    <path d=\"M 0 -9 l 6 18 L 0 25\" fill=\"none\" style=\"stroke:rgb(255.0, 0.0, 81.08083606031792);stroke-width:2\" />  </svg></g><rect transform=\"translate(-8,0)\" x=\"76.68712742380502%\" y=\"40\" width=\"8\" height=\"18\" style=\"fill:rgb(255.0, 0.0, 81.08083606031792)\"/><g transform=\"translate(-11.5,0)\">  <svg x=\"8.333333333333336%\" y=\"40\" height=\"18\" overflow=\"visible\" width=\"30\">    <path d=\"M 10 -9 l 6 18 L 10 25 L 0 25 L 0 -9\" fill=\"#ffffff\" style=\"stroke:rgb(255,255,255);stroke-width:2\" />  </svg></g><g transform=\"translate(-1.5,0)\">  <svg x=\"76.68712742380502%\" y=\"40\" height=\"18\" overflow=\"visible\" width=\"30\">    <path d=\"M 0 -9 l 6 18 L 0 25\" fill=\"none\" style=\"stroke:rgb(255, 195, 213);stroke-width:2\" />  </svg></g><rect x=\"44.40393669251893%\" y=\"40\" height=\"20\" width=\"32.28319073128609%\"      onmouseover=\"document.getElementById('_tp_rfcbluikyhxxfrfzjonf_ind_3').style.textDecoration = 'underline';document.getElementById('_fs_rfcbluikyhxxfrfzjonf_ind_3').style.opacity = 1;document.getElementById('_fb_rfcbluikyhxxfrfzjonf_ind_3').style.opacity = 1;\"      onmouseout=\"document.getElementById('_tp_rfcbluikyhxxfrfzjonf_ind_3').style.textDecoration = 'none';document.getElementById('_fs_rfcbluikyhxxfrfzjonf_ind_3').style.opacity = 0;document.getElementById('_fb_rfcbluikyhxxfrfzjonf_ind_3').style.opacity = 0;\" style=\"fill:rgb(0,0,0,0)\" /><g transform=\"translate(-1.5,0)\">  <svg x=\"44.40393669251893%\" y=\"40\" height=\"18\" overflow=\"visible\" width=\"30\">    <path d=\"M 0 -9 l 6 18 L 0 25\" fill=\"none\" style=\"stroke:rgb(255, 195, 213);stroke-width:2\" />  </svg></g><rect x=\"18.147906713735786%\" y=\"40\" height=\"20\" width=\"26.256029978783147%\"      onmouseover=\"document.getElementById('_tp_rfcbluikyhxxfrfzjonf_ind_4').style.textDecoration = 'underline';document.getElementById('_fs_rfcbluikyhxxfrfzjonf_ind_4').style.opacity = 1;document.getElementById('_fb_rfcbluikyhxxfrfzjonf_ind_4').style.opacity = 1;\"      onmouseout=\"document.getElementById('_tp_rfcbluikyhxxfrfzjonf_ind_4').style.textDecoration = 'none';document.getElementById('_fs_rfcbluikyhxxfrfzjonf_ind_4').style.opacity = 0;document.getElementById('_fb_rfcbluikyhxxfrfzjonf_ind_4').style.opacity = 0;\" style=\"fill:rgb(0,0,0,0)\" /><rect x=\"8.333333333333329%\" y=\"40\" height=\"20\" width=\"9.814573380402457%\"      onmouseover=\"document.getElementById('_tp_rfcbluikyhxxfrfzjonf_ind_2').style.textDecoration = 'underline';document.getElementById('_fs_rfcbluikyhxxfrfzjonf_ind_2').style.opacity = 1;document.getElementById('_fb_rfcbluikyhxxfrfzjonf_ind_2').style.opacity = 1;\"      onmouseout=\"document.getElementById('_tp_rfcbluikyhxxfrfzjonf_ind_2').style.textDecoration = 'none';document.getElementById('_fs_rfcbluikyhxxfrfzjonf_ind_2').style.opacity = 0;document.getElementById('_fb_rfcbluikyhxxfrfzjonf_ind_2').style.opacity = 0;\" style=\"fill:rgb(0,0,0,0)\" /><rect x=\"76.68712742380502%\" width=\"14.97953924286163%\" y=\"40\" height=\"18\" style=\"fill:rgb(0.0, 138.56128015770724, 250.76166088685727); stroke-width:0; stroke:rgb(0,0,0)\" /><line x1=\"76.68712742380502%\" x2=\"91.66666666666666%\" y1=\"60\" y2=\"60\" id=\"_fb_rfcbluikyhxxfrfzjonf_ind_1\" style=\"stroke:rgb(0.0, 138.56128015770724, 250.76166088685727);stroke-width:2; opacity: 0\"/><text x=\"84.17689704523585%\" y=\"71\" font-size=\"12px\" fill=\"rgb(0.0, 138.56128015770724, 250.76166088685727)\" id=\"_fs_rfcbluikyhxxfrfzjonf_ind_1\" style=\"opacity: 0\" dominant-baseline=\"middle\" text-anchor=\"middle\">-1.939</text><svg x=\"76.68712742380502%\" y=\"40\" height=\"20\" width=\"14.979539242861634%\">  <svg x=\"0\" y=\"0\" width=\"100%\" height=\"100%\">    <text x=\"50%\" y=\"9\" font-size=\"12px\" fill=\"rgb(255,255,255)\" dominant-baseline=\"middle\" text-anchor=\"middle\">I went and saw this movie last night after being coaxed to by a few friends of mine. I'll admit that I was reluctant to see it because from what I knew of Ashton Kutcher he was only able to do comedy.</text>  </svg></svg><rect transform=\"translate(0,0)\" x=\"76.68712742380502%\" y=\"40\" width=\"8\" height=\"18\" style=\"fill:rgb(0.0, 138.56128015770724, 250.76166088685727)\"/><g transform=\"translate(-6.0,0)\">  <svg x=\"91.66666666666666%\" y=\"40\" height=\"18\" overflow=\"visible\" width=\"30\">    <path d=\"M 8 -9 l -6 18 L 8 25 L 20 25 L 20 -9\" fill=\"#ffffff\" style=\"stroke:rgb(255,255,255);stroke-width:2\" />  </svg></g><rect x=\"76.68712742380502%\" y=\"40\" height=\"20\" width=\"14.979539242861634%\"      onmouseover=\"document.getElementById('_tp_rfcbluikyhxxfrfzjonf_ind_1').style.textDecoration = 'underline';document.getElementById('_fs_rfcbluikyhxxfrfzjonf_ind_1').style.opacity = 1;document.getElementById('_fb_rfcbluikyhxxfrfzjonf_ind_1').style.opacity = 1;\"      onmouseout=\"document.getElementById('_tp_rfcbluikyhxxfrfzjonf_ind_1').style.textDecoration = 'none';document.getElementById('_fs_rfcbluikyhxxfrfzjonf_ind_1').style.opacity = 0;document.getElementById('_fb_rfcbluikyhxxfrfzjonf_ind_1').style.opacity = 0;\" style=\"fill:rgb(0,0,0,0)\" /></svg><div style='display: inline; text-align: center;'><div style='display: none; color: #999; padding-top: 0px; font-size: 12px;'>0.0</div><div id='_tp_rfcbluikyhxxfrfzjonf_ind_0'style='display: inline; background: rgba(230.2941176470614, 26.505882352939775, 102.59215686274348, 0.0); border-radius: 3px; padding: 0px'onclick=\"if (this.previousSibling.style.display == 'none') {this.previousSibling.style.display = 'block';this.parentNode.style.display = 'inline-block';} else {this.previousSibling.style.display = 'none';this.parentNode.style.display = 'inline';}\"onmouseover=\"document.getElementById('_fb_rfcbluikyhxxfrfzjonf_ind_0').style.opacity = 1; document.getElementById('_fs_rfcbluikyhxxfrfzjonf_ind_0').style.opacity = 1;\"onmouseout=\"document.getElementById('_fb_rfcbluikyhxxfrfzjonf_ind_0').style.opacity = 0; document.getElementById('_fs_rfcbluikyhxxfrfzjonf_ind_0').style.opacity = 0;\"></div></div><div style='display: inline; text-align: center;'><div style='display: none; color: #999; padding-top: 0px; font-size: 12px;'>-1.939 / 49</div><div id='_tp_rfcbluikyhxxfrfzjonf_ind_1'style='display: inline; background: rgba(30.0, 136.0, 229.0, 0.46397306397306387); border-radius: 3px; padding: 0px'onclick=\"if (this.previousSibling.style.display == 'none') {this.previousSibling.style.display = 'block';this.parentNode.style.display = 'inline-block';} else {this.previousSibling.style.display = 'none';this.parentNode.style.display = 'inline';}\"onmouseover=\"document.getElementById('_fb_rfcbluikyhxxfrfzjonf_ind_1').style.opacity = 1; document.getElementById('_fs_rfcbluikyhxxfrfzjonf_ind_1').style.opacity = 1;\"onmouseout=\"document.getElementById('_fb_rfcbluikyhxxfrfzjonf_ind_1').style.opacity = 0; document.getElementById('_fs_rfcbluikyhxxfrfzjonf_ind_1').style.opacity = 0;\">I went and saw this movie last night after being coaxed to by a few friends of mine. I'll admit that I was reluctant to see it because from what I knew of Ashton Kutcher he was only able to do comedy. </div></div><div style='display: inline; text-align: center;'><div style='display: none; color: #999; padding-top: 0px; font-size: 12px;'>1.27 / 28</div><div id='_tp_rfcbluikyhxxfrfzjonf_ind_2'style='display: inline; background: rgba(255.0, 13.0, 87.0, 0.29843533372945136); border-radius: 3px; padding: 0px'onclick=\"if (this.previousSibling.style.display == 'none') {this.previousSibling.style.display = 'block';this.parentNode.style.display = 'inline-block';} else {this.previousSibling.style.display = 'none';this.parentNode.style.display = 'inline';}\"onmouseover=\"document.getElementById('_fb_rfcbluikyhxxfrfzjonf_ind_2').style.opacity = 1; document.getElementById('_fs_rfcbluikyhxxfrfzjonf_ind_2').style.opacity = 1;\"onmouseout=\"document.getElementById('_fb_rfcbluikyhxxfrfzjonf_ind_2').style.opacity = 0; document.getElementById('_fs_rfcbluikyhxxfrfzjonf_ind_2').style.opacity = 0;\">I was wrong. Kutcher played the character of Jake Fischer very well, and Kevin Costner played Ben Randall with such professionalism. </div></div><div style='display: inline; text-align: center;'><div style='display: none; color: #999; padding-top: 0px; font-size: 12px;'>4.179 / 21</div><div id='_tp_rfcbluikyhxxfrfzjonf_ind_3'style='display: inline; background: rgba(255.0, 13.0, 87.0, 1.0); border-radius: 3px; padding: 0px'onclick=\"if (this.previousSibling.style.display == 'none') {this.previousSibling.style.display = 'block';this.parentNode.style.display = 'inline-block';} else {this.previousSibling.style.display = 'none';this.parentNode.style.display = 'inline';}\"onmouseover=\"document.getElementById('_fb_rfcbluikyhxxfrfzjonf_ind_3').style.opacity = 1; document.getElementById('_fs_rfcbluikyhxxfrfzjonf_ind_3').style.opacity = 1;\"onmouseout=\"document.getElementById('_fb_rfcbluikyhxxfrfzjonf_ind_3').style.opacity = 0; document.getElementById('_fs_rfcbluikyhxxfrfzjonf_ind_3').style.opacity = 0;\">The sign of a good movie is that it can toy with our emotions. This one did exactly that. </div></div><div style='display: inline; text-align: center;'><div style='display: none; color: #999; padding-top: 0px; font-size: 12px;'>3.398 / 15</div><div id='_tp_rfcbluikyhxxfrfzjonf_ind_4'style='display: inline; background: rgba(255.0, 13.0, 87.0, 0.8186967716379481); border-radius: 3px; padding: 0px'onclick=\"if (this.previousSibling.style.display == 'none') {this.previousSibling.style.display = 'block';this.parentNode.style.display = 'inline-block';} else {this.previousSibling.style.display = 'none';this.parentNode.style.display = 'inline';}\"onmouseover=\"document.getElementById('_fb_rfcbluikyhxxfrfzjonf_ind_4').style.opacity = 1; document.getElementById('_fs_rfcbluikyhxxfrfzjonf_ind_4').style.opacity = 1;\"onmouseout=\"document.getElementById('_fb_rfcbluikyhxxfrfzjonf_ind_4').style.opacity = 0; document.getElementById('_fs_rfcbluikyhxxfrfzjonf_ind_4').style.opacity = 0;\">The entire theater (which was sold out) was overcome by laughter during the</div></div><div style='display: inline; text-align: center;'><div style='display: none; color: #999; padding-top: 0px; font-size: 12px;'>0.0</div><div id='_tp_rfcbluikyhxxfrfzjonf_ind_5'style='display: inline; background: rgba(230.2941176470614, 26.505882352939775, 102.59215686274348, 0.0); border-radius: 3px; padding: 0px'onclick=\"if (this.previousSibling.style.display == 'none') {this.previousSibling.style.display = 'block';this.parentNode.style.display = 'inline-block';} else {this.previousSibling.style.display = 'none';this.parentNode.style.display = 'inline';}\"onmouseover=\"document.getElementById('_fb_rfcbluikyhxxfrfzjonf_ind_5').style.opacity = 1; document.getElementById('_fs_rfcbluikyhxxfrfzjonf_ind_5').style.opacity = 1;\"onmouseout=\"document.getElementById('_fb_rfcbluikyhxxfrfzjonf_ind_5').style.opacity = 0; document.getElementById('_fs_rfcbluikyhxxfrfzjonf_ind_5').style.opacity = 0;\"></div></div>"
            ],
            "text/plain": [
              "<IPython.core.display.HTML object>"
            ]
          },
          "metadata": {
            "tags": []
          }
        },
        {
          "output_type": "display_data",
          "data": {
            "text/html": [
              "<br/><b>1st instance:</b><br/>"
            ],
            "text/plain": [
              "<IPython.core.display.HTML object>"
            ]
          },
          "metadata": {
            "tags": []
          }
        },
        {
          "output_type": "display_data",
          "data": {
            "text/html": [
              "<svg width=\"100%\" height=\"80px\"><line x1=\"0\" y1=\"33\" x2=\"100%\" y2=\"33\" style=\"stroke:rgb(150,150,150);stroke-width:1\" /><line x1=\"23.182280%\" y1=\"33\" x2=\"23.182280%\" y2=\"37\" style=\"stroke:rgb(150,150,150);stroke-width:1\" /><text x=\"23.182280%\" y=\"27\" font-size=\"12px\" fill=\"rgb(120,120,120)\" dominant-baseline=\"bottom\" text-anchor=\"middle\">-0.204055</text><text x=\"23.182280%\" y=\"10\" font-size=\"12px\" fill=\"rgb(120,120,120)\" dominant-baseline=\"bottom\" text-anchor=\"middle\">base value</text><line x1=\"8.896566%\" y1=\"33\" x2=\"8.896566%\" y2=\"37\" style=\"stroke:rgb(150,150,150);stroke-width:1\" /><text x=\"8.896566%\" y=\"27\" font-size=\"12px\" fill=\"rgb(120,120,120)\" dominant-baseline=\"bottom\" text-anchor=\"middle\">-2.053123</text><line x1=\"37.467994%\" y1=\"33\" x2=\"37.467994%\" y2=\"37\" style=\"stroke:rgb(150,150,150);stroke-width:1\" /><text x=\"37.467994%\" y=\"27\" font-size=\"12px\" fill=\"rgb(120,120,120)\" dominant-baseline=\"bottom\" text-anchor=\"middle\">1.645014</text><line x1=\"51.753709%\" y1=\"33\" x2=\"51.753709%\" y2=\"37\" style=\"stroke:rgb(150,150,150);stroke-width:1\" /><text x=\"51.753709%\" y=\"27\" font-size=\"12px\" fill=\"rgb(120,120,120)\" dominant-baseline=\"bottom\" text-anchor=\"middle\">3.494083</text><line x1=\"66.039423%\" y1=\"33\" x2=\"66.039423%\" y2=\"37\" style=\"stroke:rgb(150,150,150);stroke-width:1\" /><text x=\"66.039423%\" y=\"27\" font-size=\"12px\" fill=\"rgb(120,120,120)\" dominant-baseline=\"bottom\" text-anchor=\"middle\">5.343152</text><line x1=\"80.325137%\" y1=\"33\" x2=\"80.325137%\" y2=\"37\" style=\"stroke:rgb(150,150,150);stroke-width:1\" /><text x=\"80.325137%\" y=\"27\" font-size=\"12px\" fill=\"rgb(120,120,120)\" dominant-baseline=\"bottom\" text-anchor=\"middle\">7.192221</text><line x1=\"71.953002%\" y1=\"33\" x2=\"71.953002%\" y2=\"37\" style=\"stroke:rgb(150,150,150);stroke-width:1\" /><text x=\"71.953002%\" y=\"27\" font-size=\"13px\" style=\"stroke:#ffffff;stroke-width:8px;\" font-weight=\"bold\" fill=\"rgb(255,255,255)\" dominant-baseline=\"bottom\" text-anchor=\"middle\">6.108575</text><text x=\"71.953002%\" y=\"27\" font-size=\"13px\" font-weight=\"bold\" fill=\"rgb(0,0,0)\" dominant-baseline=\"bottom\" text-anchor=\"middle\">6.108575</text><text x=\"71.953002%\" y=\"10\" font-size=\"12px\" fill=\"rgb(120,120,120)\" dominant-baseline=\"bottom\" text-anchor=\"middle\">f(x)</text><rect x=\"21.055689379358334%\" width=\"50.89731280542228%\" y=\"40\" height=\"18\" style=\"fill:rgb(255.0, 0.0, 81.08083606031792); stroke-width:0; stroke:rgb(0,0,0)\" /><line x1=\"57.392914522528294%\" x2=\"71.95300218478062%\" y1=\"60\" y2=\"60\" id=\"_fb_dxesunqarwwbkxwktubp_ind_1\" style=\"stroke:rgb(255.0, 0.0, 81.08083606031792);stroke-width:2; opacity: 0\"/><text x=\"64.67295835365445%\" y=\"71\" font-size=\"12px\" id=\"_fs_dxesunqarwwbkxwktubp_ind_1\" fill=\"rgb(255.0, 0.0, 81.08083606031792)\" style=\"opacity: 0\" dominant-baseline=\"middle\" text-anchor=\"middle\">1.885</text><svg x=\"57.392914522528294%\" y=\"40\" height=\"20\" width=\"14.560087662252322%\">  <svg x=\"0\" y=\"0\" width=\"100%\" height=\"100%\">    <text x=\"50%\" y=\"9\" font-size=\"12px\" fill=\"rgb(255,255,255)\" dominant-baseline=\"middle\" text-anchor=\"middle\">Actor turned director Bill Paxton follows up his promising debut, the Gothic-horror \"Frailty\", with this family friendly sports drama about the 1913 U.S.</text>  </svg></svg><line x1=\"44.00502293655942%\" x2=\"57.392914522528294%\" y1=\"60\" y2=\"60\" id=\"_fb_dxesunqarwwbkxwktubp_ind_5\" style=\"stroke:rgb(255.0, 0.0, 81.08083606031792);stroke-width:2; opacity: 0\"/><text x=\"50.69896872954386%\" y=\"71\" font-size=\"12px\" id=\"_fs_dxesunqarwwbkxwktubp_ind_5\" fill=\"rgb(255.0, 0.0, 81.08083606031792)\" style=\"opacity: 0\" dominant-baseline=\"middle\" text-anchor=\"middle\">1.733</text><svg x=\"44.00502293655942%\" y=\"40\" height=\"20\" width=\"13.387891585968873%\">  <svg x=\"0\" y=\"0\" width=\"100%\" height=\"100%\">    <text x=\"50%\" y=\"9\" font-size=\"12px\" fill=\"rgb(255,255,255)\" dominant-baseline=\"middle\" text-anchor=\"middle\">but some how this film was enthralli</text>  </svg></svg><line x1=\"31.55316999886096%\" x2=\"44.00502293655942%\" y1=\"60\" y2=\"60\" id=\"_fb_dxesunqarwwbkxwktubp_ind_3\" style=\"stroke:rgb(255.0, 0.0, 81.08083606031792);stroke-width:2; opacity: 0\"/><text x=\"37.77909646771019%\" y=\"71\" font-size=\"12px\" id=\"_fs_dxesunqarwwbkxwktubp_ind_3\" fill=\"rgb(255.0, 0.0, 81.08083606031792)\" style=\"opacity: 0\" dominant-baseline=\"middle\" text-anchor=\"middle\">1.612</text><svg x=\"31.55316999886096%\" y=\"40\" height=\"20\" width=\"12.451852937698462%\">  <svg x=\"0\" y=\"0\" width=\"100%\" height=\"100%\">    <text x=\"50%\" y=\"9\" font-size=\"12px\" fill=\"rgb(255,255,255)\" dominant-baseline=\"middle\" text-anchor=\"middle\">idol in what was dubbed as \"The Greatest Game Ever Played.</text>  </svg></svg><line x1=\"21.055689379358338%\" x2=\"31.55316999886096%\" y1=\"60\" y2=\"60\" id=\"_fb_dxesunqarwwbkxwktubp_ind_2\" style=\"stroke:rgb(255.0, 0.0, 81.08083606031792);stroke-width:2; opacity: 0\"/><text x=\"26.304429689109647%\" y=\"71\" font-size=\"12px\" id=\"_fs_dxesunqarwwbkxwktubp_ind_2\" fill=\"rgb(255.0, 0.0, 81.08083606031792)\" style=\"opacity: 0\" dominant-baseline=\"middle\" text-anchor=\"middle\">1.359</text><svg x=\"21.055689379358338%\" y=\"40\" height=\"20\" width=\"10.497480619502621%\">  <svg x=\"0\" y=\"0\" width=\"100%\" height=\"100%\">    <text x=\"50%\" y=\"9\" font-size=\"12px\" fill=\"rgb(255,255,255)\" dominant-baseline=\"middle\" text-anchor=\"middle\">Open where a young American caddy rises from his humble background to play against his Bristish</text>  </svg></svg><g transform=\"translate(0,0)\">  <svg x=\"57.392914522528294%\" y=\"40\" height=\"18\" overflow=\"visible\" width=\"30\">    <path d=\"M 0 -9 l 6 18 L 0 25\" fill=\"none\" style=\"stroke:rgb(255.0, 0.0, 81.08083606031792);stroke-width:2\" />  </svg></g><g transform=\"translate(2,0)\">  <svg x=\"57.392914522528294%\" y=\"40\" height=\"18\" overflow=\"visible\" width=\"30\">    <path d=\"M 0 -9 l 6 18 L 0 25\" fill=\"none\" style=\"stroke:rgb(255.0, 0.0, 81.08083606031792);stroke-width:2\" />  </svg></g><g transform=\"translate(4,0)\">  <svg x=\"57.392914522528294%\" y=\"40\" height=\"18\" overflow=\"visible\" width=\"30\">    <path d=\"M 0 -9 l 6 18 L 0 25\" fill=\"none\" style=\"stroke:rgb(255.0, 0.0, 81.08083606031792);stroke-width:2\" />  </svg></g><g transform=\"translate(6,0)\">  <svg x=\"57.392914522528294%\" y=\"40\" height=\"18\" overflow=\"visible\" width=\"30\">    <path d=\"M 0 -9 l 6 18 L 0 25\" fill=\"none\" style=\"stroke:rgb(255.0, 0.0, 81.08083606031792);stroke-width:2\" />  </svg></g><g transform=\"translate(-8,0)\">  <svg x=\"57.392914522528294%\" y=\"40\" height=\"18\" overflow=\"visible\" width=\"30\">    <path d=\"M 0 -9 l 6 18 L 0 25\" fill=\"none\" style=\"stroke:rgb(255.0, 0.0, 81.08083606031792);stroke-width:2\" />  </svg></g><g transform=\"translate(-6,0)\">  <svg x=\"57.392914522528294%\" y=\"40\" height=\"18\" overflow=\"visible\" width=\"30\">    <path d=\"M 0 -9 l 6 18 L 0 25\" fill=\"none\" style=\"stroke:rgb(255.0, 0.0, 81.08083606031792);stroke-width:2\" />  </svg></g><g transform=\"translate(-4,0)\">  <svg x=\"57.392914522528294%\" y=\"40\" height=\"18\" overflow=\"visible\" width=\"30\">    <path d=\"M 0 -9 l 6 18 L 0 25\" fill=\"none\" style=\"stroke:rgb(255.0, 0.0, 81.08083606031792);stroke-width:2\" />  </svg></g><g transform=\"translate(-2,0)\">  <svg x=\"57.392914522528294%\" y=\"40\" height=\"18\" overflow=\"visible\" width=\"30\">    <path d=\"M 0 -9 l 6 18 L 0 25\" fill=\"none\" style=\"stroke:rgb(255.0, 0.0, 81.08083606031792);stroke-width:2\" />  </svg></g><g transform=\"translate(0,0)\">  <svg x=\"44.00502293655942%\" y=\"40\" height=\"18\" overflow=\"visible\" width=\"30\">    <path d=\"M 0 -9 l 6 18 L 0 25\" fill=\"none\" style=\"stroke:rgb(255.0, 0.0, 81.08083606031792);stroke-width:2\" />  </svg></g><g transform=\"translate(2,0)\">  <svg x=\"44.00502293655942%\" y=\"40\" height=\"18\" overflow=\"visible\" width=\"30\">    <path d=\"M 0 -9 l 6 18 L 0 25\" fill=\"none\" style=\"stroke:rgb(255.0, 0.0, 81.08083606031792);stroke-width:2\" />  </svg></g><g transform=\"translate(4,0)\">  <svg x=\"44.00502293655942%\" y=\"40\" height=\"18\" overflow=\"visible\" width=\"30\">    <path d=\"M 0 -9 l 6 18 L 0 25\" fill=\"none\" style=\"stroke:rgb(255.0, 0.0, 81.08083606031792);stroke-width:2\" />  </svg></g><g transform=\"translate(6,0)\">  <svg x=\"44.00502293655942%\" y=\"40\" height=\"18\" overflow=\"visible\" width=\"30\">    <path d=\"M 0 -9 l 6 18 L 0 25\" fill=\"none\" style=\"stroke:rgb(255.0, 0.0, 81.08083606031792);stroke-width:2\" />  </svg></g><g transform=\"translate(-8,0)\">  <svg x=\"44.00502293655942%\" y=\"40\" height=\"18\" overflow=\"visible\" width=\"30\">    <path d=\"M 0 -9 l 6 18 L 0 25\" fill=\"none\" style=\"stroke:rgb(255.0, 0.0, 81.08083606031792);stroke-width:2\" />  </svg></g><g transform=\"translate(-6,0)\">  <svg x=\"44.00502293655942%\" y=\"40\" height=\"18\" overflow=\"visible\" width=\"30\">    <path d=\"M 0 -9 l 6 18 L 0 25\" fill=\"none\" style=\"stroke:rgb(255.0, 0.0, 81.08083606031792);stroke-width:2\" />  </svg></g><g transform=\"translate(-4,0)\">  <svg x=\"44.00502293655942%\" y=\"40\" height=\"18\" overflow=\"visible\" width=\"30\">    <path d=\"M 0 -9 l 6 18 L 0 25\" fill=\"none\" style=\"stroke:rgb(255.0, 0.0, 81.08083606031792);stroke-width:2\" />  </svg></g><g transform=\"translate(-2,0)\">  <svg x=\"44.00502293655942%\" y=\"40\" height=\"18\" overflow=\"visible\" width=\"30\">    <path d=\"M 0 -9 l 6 18 L 0 25\" fill=\"none\" style=\"stroke:rgb(255.0, 0.0, 81.08083606031792);stroke-width:2\" />  </svg></g><g transform=\"translate(0,0)\">  <svg x=\"31.55316999886096%\" y=\"40\" height=\"18\" overflow=\"visible\" width=\"30\">    <path d=\"M 0 -9 l 6 18 L 0 25\" fill=\"none\" style=\"stroke:rgb(255.0, 0.0, 81.08083606031792);stroke-width:2\" />  </svg></g><g transform=\"translate(2,0)\">  <svg x=\"31.55316999886096%\" y=\"40\" height=\"18\" overflow=\"visible\" width=\"30\">    <path d=\"M 0 -9 l 6 18 L 0 25\" fill=\"none\" style=\"stroke:rgb(255.0, 0.0, 81.08083606031792);stroke-width:2\" />  </svg></g><g transform=\"translate(4,0)\">  <svg x=\"31.55316999886096%\" y=\"40\" height=\"18\" overflow=\"visible\" width=\"30\">    <path d=\"M 0 -9 l 6 18 L 0 25\" fill=\"none\" style=\"stroke:rgb(255.0, 0.0, 81.08083606031792);stroke-width:2\" />  </svg></g><g transform=\"translate(6,0)\">  <svg x=\"31.55316999886096%\" y=\"40\" height=\"18\" overflow=\"visible\" width=\"30\">    <path d=\"M 0 -9 l 6 18 L 0 25\" fill=\"none\" style=\"stroke:rgb(255.0, 0.0, 81.08083606031792);stroke-width:2\" />  </svg></g><g transform=\"translate(-8,0)\">  <svg x=\"31.55316999886096%\" y=\"40\" height=\"18\" overflow=\"visible\" width=\"30\">    <path d=\"M 0 -9 l 6 18 L 0 25\" fill=\"none\" style=\"stroke:rgb(255.0, 0.0, 81.08083606031792);stroke-width:2\" />  </svg></g><g transform=\"translate(-6,0)\">  <svg x=\"31.55316999886096%\" y=\"40\" height=\"18\" overflow=\"visible\" width=\"30\">    <path d=\"M 0 -9 l 6 18 L 0 25\" fill=\"none\" style=\"stroke:rgb(255.0, 0.0, 81.08083606031792);stroke-width:2\" />  </svg></g><g transform=\"translate(-4,0)\">  <svg x=\"31.55316999886096%\" y=\"40\" height=\"18\" overflow=\"visible\" width=\"30\">    <path d=\"M 0 -9 l 6 18 L 0 25\" fill=\"none\" style=\"stroke:rgb(255.0, 0.0, 81.08083606031792);stroke-width:2\" />  </svg></g><g transform=\"translate(-2,0)\">  <svg x=\"31.55316999886096%\" y=\"40\" height=\"18\" overflow=\"visible\" width=\"30\">    <path d=\"M 0 -9 l 6 18 L 0 25\" fill=\"none\" style=\"stroke:rgb(255.0, 0.0, 81.08083606031792);stroke-width:2\" />  </svg></g><rect transform=\"translate(-8,0)\" x=\"71.95300218478062%\" y=\"40\" width=\"8\" height=\"18\" style=\"fill:rgb(255.0, 0.0, 81.08083606031792)\"/><g transform=\"translate(-11.5,0)\">  <svg x=\"21.055689379358334%\" y=\"40\" height=\"18\" overflow=\"visible\" width=\"30\">    <path d=\"M 10 -9 l 6 18 L 10 25 L 0 25 L 0 -9\" fill=\"#ffffff\" style=\"stroke:rgb(255,255,255);stroke-width:2\" />  </svg></g><g transform=\"translate(-1.5,0)\">  <svg x=\"71.95300218478062%\" y=\"40\" height=\"18\" overflow=\"visible\" width=\"30\">    <path d=\"M 0 -9 l 6 18 L 0 25\" fill=\"none\" style=\"stroke:rgb(255, 195, 213);stroke-width:2\" />  </svg></g><rect x=\"57.392914522528294%\" y=\"40\" height=\"20\" width=\"14.560087662252322%\"      onmouseover=\"document.getElementById('_tp_dxesunqarwwbkxwktubp_ind_1').style.textDecoration = 'underline';document.getElementById('_fs_dxesunqarwwbkxwktubp_ind_1').style.opacity = 1;document.getElementById('_fb_dxesunqarwwbkxwktubp_ind_1').style.opacity = 1;\"      onmouseout=\"document.getElementById('_tp_dxesunqarwwbkxwktubp_ind_1').style.textDecoration = 'none';document.getElementById('_fs_dxesunqarwwbkxwktubp_ind_1').style.opacity = 0;document.getElementById('_fb_dxesunqarwwbkxwktubp_ind_1').style.opacity = 0;\" style=\"fill:rgb(0,0,0,0)\" /><g transform=\"translate(-1.5,0)\">  <svg x=\"57.392914522528294%\" y=\"40\" height=\"18\" overflow=\"visible\" width=\"30\">    <path d=\"M 0 -9 l 6 18 L 0 25\" fill=\"none\" style=\"stroke:rgb(255, 195, 213);stroke-width:2\" />  </svg></g><rect x=\"44.00502293655942%\" y=\"40\" height=\"20\" width=\"13.387891585968873%\"      onmouseover=\"document.getElementById('_tp_dxesunqarwwbkxwktubp_ind_5').style.textDecoration = 'underline';document.getElementById('_fs_dxesunqarwwbkxwktubp_ind_5').style.opacity = 1;document.getElementById('_fb_dxesunqarwwbkxwktubp_ind_5').style.opacity = 1;\"      onmouseout=\"document.getElementById('_tp_dxesunqarwwbkxwktubp_ind_5').style.textDecoration = 'none';document.getElementById('_fs_dxesunqarwwbkxwktubp_ind_5').style.opacity = 0;document.getElementById('_fb_dxesunqarwwbkxwktubp_ind_5').style.opacity = 0;\" style=\"fill:rgb(0,0,0,0)\" /><g transform=\"translate(-1.5,0)\">  <svg x=\"44.00502293655942%\" y=\"40\" height=\"18\" overflow=\"visible\" width=\"30\">    <path d=\"M 0 -9 l 6 18 L 0 25\" fill=\"none\" style=\"stroke:rgb(255, 195, 213);stroke-width:2\" />  </svg></g><rect x=\"31.55316999886096%\" y=\"40\" height=\"20\" width=\"12.451852937698462%\"      onmouseover=\"document.getElementById('_tp_dxesunqarwwbkxwktubp_ind_3').style.textDecoration = 'underline';document.getElementById('_fs_dxesunqarwwbkxwktubp_ind_3').style.opacity = 1;document.getElementById('_fb_dxesunqarwwbkxwktubp_ind_3').style.opacity = 1;\"      onmouseout=\"document.getElementById('_tp_dxesunqarwwbkxwktubp_ind_3').style.textDecoration = 'none';document.getElementById('_fs_dxesunqarwwbkxwktubp_ind_3').style.opacity = 0;document.getElementById('_fb_dxesunqarwwbkxwktubp_ind_3').style.opacity = 0;\" style=\"fill:rgb(0,0,0,0)\" /><rect x=\"21.055689379358338%\" y=\"40\" height=\"20\" width=\"10.497480619502621%\"      onmouseover=\"document.getElementById('_tp_dxesunqarwwbkxwktubp_ind_2').style.textDecoration = 'underline';document.getElementById('_fs_dxesunqarwwbkxwktubp_ind_2').style.opacity = 1;document.getElementById('_fb_dxesunqarwwbkxwktubp_ind_2').style.opacity = 1;\"      onmouseout=\"document.getElementById('_tp_dxesunqarwwbkxwktubp_ind_2').style.textDecoration = 'none';document.getElementById('_fs_dxesunqarwwbkxwktubp_ind_2').style.opacity = 0;document.getElementById('_fb_dxesunqarwwbkxwktubp_ind_2').style.opacity = 0;\" style=\"fill:rgb(0,0,0,0)\" /><rect x=\"71.95300218478062%\" width=\"2.126590669072268%\" y=\"40\" height=\"18\" style=\"fill:rgb(0.0, 138.56128015770724, 250.76166088685727); stroke-width:0; stroke:rgb(0,0,0)\" /><line x1=\"71.95300218478062%\" x2=\"74.07959285385289%\" y1=\"60\" y2=\"60\" id=\"_fb_dxesunqarwwbkxwktubp_ind_4\" style=\"stroke:rgb(0.0, 138.56128015770724, 250.76166088685727);stroke-width:2; opacity: 0\"/><text x=\"73.01629751931675%\" y=\"71\" font-size=\"12px\" fill=\"rgb(0.0, 138.56128015770724, 250.76166088685727)\" id=\"_fs_dxesunqarwwbkxwktubp_ind_4\" style=\"opacity: 0\" dominant-baseline=\"middle\" text-anchor=\"middle\">-0.275</text><svg x=\"71.95300218478062%\" y=\"40\" height=\"20\" width=\"2.1265906690722716%\">  <svg x=\"0\" y=\"0\" width=\"100%\" height=\"100%\">    <text x=\"50%\" y=\"9\" font-size=\"12px\" fill=\"rgb(255,255,255)\" dominant-baseline=\"middle\" text-anchor=\"middle\">\" I'm no fan of golf, and these scrappy underdog sports flicks are a dime a dozen (most recently done to grand effect with \"Miracle\" and \"Cinderella Man\"),</text>  </svg></svg><rect transform=\"translate(0,0)\" x=\"71.95300218478062%\" y=\"40\" width=\"8\" height=\"18\" style=\"fill:rgb(0.0, 138.56128015770724, 250.76166088685727)\"/><g transform=\"translate(-6.0,0)\">  <svg x=\"74.07959285385289%\" y=\"40\" height=\"18\" overflow=\"visible\" width=\"30\">    <path d=\"M 8 -9 l -6 18 L 8 25 L 20 25 L 20 -9\" fill=\"#ffffff\" style=\"stroke:rgb(255,255,255);stroke-width:2\" />  </svg></g><rect x=\"71.95300218478062%\" y=\"40\" height=\"20\" width=\"2.1265906690722716%\"      onmouseover=\"document.getElementById('_tp_dxesunqarwwbkxwktubp_ind_4').style.textDecoration = 'underline';document.getElementById('_fs_dxesunqarwwbkxwktubp_ind_4').style.opacity = 1;document.getElementById('_fb_dxesunqarwwbkxwktubp_ind_4').style.opacity = 1;\"      onmouseout=\"document.getElementById('_tp_dxesunqarwwbkxwktubp_ind_4').style.textDecoration = 'none';document.getElementById('_fs_dxesunqarwwbkxwktubp_ind_4').style.opacity = 0;document.getElementById('_fb_dxesunqarwwbkxwktubp_ind_4').style.opacity = 0;\" style=\"fill:rgb(0,0,0,0)\" /></svg><div style='display: inline; text-align: center;'><div style='display: none; color: #999; padding-top: 0px; font-size: 12px;'>0.0</div><div id='_tp_dxesunqarwwbkxwktubp_ind_0'style='display: inline; background: rgba(230.2941176470614, 26.505882352939775, 102.59215686274348, 0.0); border-radius: 3px; padding: 0px'onclick=\"if (this.previousSibling.style.display == 'none') {this.previousSibling.style.display = 'block';this.parentNode.style.display = 'inline-block';} else {this.previousSibling.style.display = 'none';this.parentNode.style.display = 'inline';}\"onmouseover=\"document.getElementById('_fb_dxesunqarwwbkxwktubp_ind_0').style.opacity = 1; document.getElementById('_fs_dxesunqarwwbkxwktubp_ind_0').style.opacity = 1;\"onmouseout=\"document.getElementById('_fb_dxesunqarwwbkxwktubp_ind_0').style.opacity = 0; document.getElementById('_fs_dxesunqarwwbkxwktubp_ind_0').style.opacity = 0;\"></div></div><div style='display: inline; text-align: center;'><div style='display: none; color: #999; padding-top: 0px; font-size: 12px;'>1.885 / 33</div><div id='_tp_dxesunqarwwbkxwktubp_ind_1'style='display: inline; background: rgba(255.0, 13.0, 87.0, 0.44820756585462457); border-radius: 3px; padding: 0px'onclick=\"if (this.previousSibling.style.display == 'none') {this.previousSibling.style.display = 'block';this.parentNode.style.display = 'inline-block';} else {this.previousSibling.style.display = 'none';this.parentNode.style.display = 'inline';}\"onmouseover=\"document.getElementById('_fb_dxesunqarwwbkxwktubp_ind_1').style.opacity = 1; document.getElementById('_fs_dxesunqarwwbkxwktubp_ind_1').style.opacity = 1;\"onmouseout=\"document.getElementById('_fb_dxesunqarwwbkxwktubp_ind_1').style.opacity = 0; document.getElementById('_fs_dxesunqarwwbkxwktubp_ind_1').style.opacity = 0;\">Actor turned director Bill Paxton follows up his promising debut, the Gothic-horror \"Frailty\", with this family friendly sports drama about the 1913 U.S. </div></div><div style='display: inline; text-align: center;'><div style='display: none; color: #999; padding-top: 0px; font-size: 12px;'>1.359 / 19</div><div id='_tp_dxesunqarwwbkxwktubp_ind_2'style='display: inline; background: rgba(255.0, 13.0, 87.0, 0.32208358090711037); border-radius: 3px; padding: 0px'onclick=\"if (this.previousSibling.style.display == 'none') {this.previousSibling.style.display = 'block';this.parentNode.style.display = 'inline-block';} else {this.previousSibling.style.display = 'none';this.parentNode.style.display = 'inline';}\"onmouseover=\"document.getElementById('_fb_dxesunqarwwbkxwktubp_ind_2').style.opacity = 1; document.getElementById('_fs_dxesunqarwwbkxwktubp_ind_2').style.opacity = 1;\"onmouseout=\"document.getElementById('_fb_dxesunqarwwbkxwktubp_ind_2').style.opacity = 0; document.getElementById('_fs_dxesunqarwwbkxwktubp_ind_2').style.opacity = 0;\">Open where a young American caddy rises from his humble background to play against his Bristish </div></div><div style='display: inline; text-align: center;'><div style='display: none; color: #999; padding-top: 0px; font-size: 12px;'>1.612 / 13</div><div id='_tp_dxesunqarwwbkxwktubp_ind_3'style='display: inline; background: rgba(255.0, 13.0, 87.0, 0.3851455733808676); border-radius: 3px; padding: 0px'onclick=\"if (this.previousSibling.style.display == 'none') {this.previousSibling.style.display = 'block';this.parentNode.style.display = 'inline-block';} else {this.previousSibling.style.display = 'none';this.parentNode.style.display = 'inline';}\"onmouseover=\"document.getElementById('_fb_dxesunqarwwbkxwktubp_ind_3').style.opacity = 1; document.getElementById('_fs_dxesunqarwwbkxwktubp_ind_3').style.opacity = 1;\"onmouseout=\"document.getElementById('_fb_dxesunqarwwbkxwktubp_ind_3').style.opacity = 0; document.getElementById('_fs_dxesunqarwwbkxwktubp_ind_3').style.opacity = 0;\">idol in what was dubbed as \"The Greatest Game Ever Played.</div></div><div style='display: inline; text-align: center;'><div style='display: none; color: #999; padding-top: 0px; font-size: 12px;'>-0.275 / 41</div><div id='_tp_dxesunqarwwbkxwktubp_ind_4'style='display: inline; background: rgba(30.0, 136.0, 229.0, 0.06195286195286191); border-radius: 3px; padding: 0px'onclick=\"if (this.previousSibling.style.display == 'none') {this.previousSibling.style.display = 'block';this.parentNode.style.display = 'inline-block';} else {this.previousSibling.style.display = 'none';this.parentNode.style.display = 'inline';}\"onmouseover=\"document.getElementById('_fb_dxesunqarwwbkxwktubp_ind_4').style.opacity = 1; document.getElementById('_fs_dxesunqarwwbkxwktubp_ind_4').style.opacity = 1;\"onmouseout=\"document.getElementById('_fb_dxesunqarwwbkxwktubp_ind_4').style.opacity = 0; document.getElementById('_fs_dxesunqarwwbkxwktubp_ind_4').style.opacity = 0;\">\" I'm no fan of golf, and these scrappy underdog sports flicks are a dime a dozen (most recently done to grand effect with \"Miracle\" and \"Cinderella Man\"), </div></div><div style='display: inline; text-align: center;'><div style='display: none; color: #999; padding-top: 0px; font-size: 12px;'>1.733 / 10</div><div id='_tp_dxesunqarwwbkxwktubp_ind_5'style='display: inline; background: rgba(255.0, 13.0, 87.0, 0.41667656961774624); border-radius: 3px; padding: 0px'onclick=\"if (this.previousSibling.style.display == 'none') {this.previousSibling.style.display = 'block';this.parentNode.style.display = 'inline-block';} else {this.previousSibling.style.display = 'none';this.parentNode.style.display = 'inline';}\"onmouseover=\"document.getElementById('_fb_dxesunqarwwbkxwktubp_ind_5').style.opacity = 1; document.getElementById('_fs_dxesunqarwwbkxwktubp_ind_5').style.opacity = 1;\"onmouseout=\"document.getElementById('_fb_dxesunqarwwbkxwktubp_ind_5').style.opacity = 0; document.getElementById('_fs_dxesunqarwwbkxwktubp_ind_5').style.opacity = 0;\">but some how this film was enthralli</div></div><div style='display: inline; text-align: center;'><div style='display: none; color: #999; padding-top: 0px; font-size: 12px;'>0.0</div><div id='_tp_dxesunqarwwbkxwktubp_ind_6'style='display: inline; background: rgba(230.2941176470614, 26.505882352939775, 102.59215686274348, 0.0); border-radius: 3px; padding: 0px'onclick=\"if (this.previousSibling.style.display == 'none') {this.previousSibling.style.display = 'block';this.parentNode.style.display = 'inline-block';} else {this.previousSibling.style.display = 'none';this.parentNode.style.display = 'inline';}\"onmouseover=\"document.getElementById('_fb_dxesunqarwwbkxwktubp_ind_6').style.opacity = 1; document.getElementById('_fs_dxesunqarwwbkxwktubp_ind_6').style.opacity = 1;\"onmouseout=\"document.getElementById('_fb_dxesunqarwwbkxwktubp_ind_6').style.opacity = 0; document.getElementById('_fs_dxesunqarwwbkxwktubp_ind_6').style.opacity = 0;\"></div></div>"
            ],
            "text/plain": [
              "<IPython.core.display.HTML object>"
            ]
          },
          "metadata": {
            "tags": []
          }
        }
      ]
    },
    {
      "cell_type": "code",
      "metadata": {
        "id": "soMHxkpvxaKt"
      },
      "source": [
        "shap_values = explainer(short_data[:20])"
      ],
      "execution_count": null,
      "outputs": []
    },
    {
      "cell_type": "code",
      "metadata": {
        "colab": {
          "base_uri": "https://localhost:8080/",
          "height": 418
        },
        "id": "0KFmScTDxvVm",
        "outputId": "9489fbf1-ee26-4ca5-d221-61cd1323390a"
      },
      "source": [
        "shap.plots.bar(shap_values[0,:,\"POSITIVE\"])"
      ],
      "execution_count": null,
      "outputs": [
        {
          "output_type": "display_data",
          "data": {
            "image/png": "[encoded data removed]",
            "text/plain": [
              "<Figure size 576x468 with 1 Axes>"
            ]
          },
          "metadata": {
            "tags": []
          }
        }
      ]
    },
    {
      "cell_type": "code",
      "metadata": {
        "colab": {
          "base_uri": "https://localhost:8080/",
          "height": 455
        },
        "id": "UrLiOzOox1bV",
        "outputId": "91b36c01-a084-4499-e598-caaa323fa4dd"
      },
      "source": [
        "shap.plots.bar(shap_values[:, :, \"POSITIVE\"].mean(0))"
      ],
      "execution_count": null,
      "outputs": [
        {
          "output_type": "stream",
          "text": [
            "Creating an ndarray from ragged nested sequences (which is a list-or-tuple of lists-or-tuples-or ndarrays with different lengths or shapes) is deprecated. If you meant to do this, you must specify 'dtype=object' when creating the ndarray\n"
          ],
          "name": "stderr"
        },
        {
          "output_type": "display_data",
          "data": {
            "image/png": "[encoded data removed]",
            "text/plain": [
              "<Figure size 576x468 with 1 Axes>"
            ]
          },
          "metadata": {
            "tags": []
          }
        }
      ]
    },
    {
      "cell_type": "code",
      "metadata": {
        "colab": {
          "base_uri": "https://localhost:8080/",
          "height": 455
        },
        "id": "Yn1_kdUpx8zC",
        "outputId": "1348e1e4-5690-4e62-acdd-25d8844eb432"
      },
      "source": [
        "shap.plots.bar(shap_values[:, :, \"POSITIVE\"].mean(0), order=shap.Explanation.argsort)"
      ],
      "execution_count": null,
      "outputs": [
        {
          "output_type": "stream",
          "text": [
            "Creating an ndarray from ragged nested sequences (which is a list-or-tuple of lists-or-tuples-or ndarrays with different lengths or shapes) is deprecated. If you meant to do this, you must specify 'dtype=object' when creating the ndarray\n"
          ],
          "name": "stderr"
        },
        {
          "output_type": "display_data",
          "data": {
            "image/png": "[encoded data removed]",
            "text/plain": [
              "<Figure size 576x468 with 1 Axes>"
            ]
          },
          "metadata": {
            "tags": []
          }
        }
      ]
    },
    {
      "cell_type": "code",
      "metadata": {
        "id": "mVlmkgQVyA_x"
      },
      "source": [
        ""
      ],
      "execution_count": null,
      "outputs": []
    }
  ]
}